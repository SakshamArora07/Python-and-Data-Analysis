{
 "cells": [
  {
   "cell_type": "code",
   "execution_count": 2,
   "id": "e7c0727b-fa8c-4e65-9851-4782a118bf0b",
   "metadata": {},
   "outputs": [],
   "source": [
    "def sumFunction(a,b):\n",
    "    c = a + b\n",
    "    return c\n",
    "\n",
    "def multFunction(a,b):\n",
    "    c = a * b\n",
    "    return c"
   ]
  },
  {
   "cell_type": "code",
   "execution_count": null,
   "id": "6dcf8e16-8412-4cfb-943b-25a2625a1f1e",
   "metadata": {},
   "outputs": [],
   "source": []
  }
 ],
 "metadata": {
  "kernelspec": {
   "display_name": "Python 3 (ipykernel)",
   "language": "python",
   "name": "python3"
  },
  "language_info": {
   "codemirror_mode": {
    "name": "ipython",
    "version": 3
   },
   "file_extension": ".py",
   "mimetype": "text/x-python",
   "name": "python",
   "nbconvert_exporter": "python",
   "pygments_lexer": "ipython3",
   "version": "3.11.4"
  }
 },
 "nbformat": 4,
 "nbformat_minor": 5
}
