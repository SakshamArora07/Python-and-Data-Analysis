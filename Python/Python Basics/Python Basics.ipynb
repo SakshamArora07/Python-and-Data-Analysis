{
 "cells": [
  {
   "cell_type": "markdown",
   "id": "0ff27540-ef90-48c5-a934-f0b10ddcca13",
   "metadata": {},
   "source": [
    "# Python Practice"
   ]
  },
  {
   "cell_type": "markdown",
   "id": "667203ea-022c-43f6-9f6e-d3ef5c8d45d4",
   "metadata": {},
   "source": [
    " ### String Concatenation  data type should be same otherwise it gives an erro"
   ]
  },
  {
   "cell_type": "code",
   "execution_count": 1,
   "id": "823da981-f6a3-4b83-86bf-a23b44175b7a",
   "metadata": {},
   "outputs": [
    {
     "name": "stdout",
     "output_type": "stream",
     "text": [
      "hello world\n"
     ]
    }
   ],
   "source": [
    "a = \"hello\"\n",
    "b = \"world\"\n",
    "\n",
    "print(a+\" \"+b)"
   ]
  },
  {
   "cell_type": "markdown",
   "id": "1a303e13-af96-4826-8c29-d348a0f0d5cf",
   "metadata": {},
   "source": [
    "### Floor division //\n",
    "removes the decimal part and returns only the integer part of the division (or we can say rounds down the result of the division)\n"
   ]
  },
  {
   "cell_type": "code",
   "execution_count": 2,
   "id": "f5e7ff08-42c6-4ce0-b30b-3af97e94a69e",
   "metadata": {},
   "outputs": [
    {
     "name": "stdout",
     "output_type": "stream",
     "text": [
      "1.3333333333333333\n",
      "1\n"
     ]
    }
   ],
   "source": [
    "a = 4\n",
    "b = 3\n",
    "print(a/b)\n",
    "print(a//b)"
   ]
  },
  {
   "cell_type": "markdown",
   "id": "430c1f6e-2320-48ad-a616-f2f5dfeb0569",
   "metadata": {},
   "source": [
    "### Logical Operators\n",
    "and, or, not\n"
   ]
  },
  {
   "cell_type": "code",
   "execution_count": 3,
   "id": "480da11b-be44-47a8-b457-bfd3aa5a84c2",
   "metadata": {},
   "outputs": [
    {
     "name": "stdout",
     "output_type": "stream",
     "text": [
      "False\n",
      "True\n",
      "True\n"
     ]
    }
   ],
   "source": [
    "a = 4\n",
    "b = 10\n",
    "c = 10\n",
    "\n",
    "print(a>b and b==c)\n",
    "print(a>b or b==c)\n",
    "print(not a!=4)"
   ]
  },
  {
   "cell_type": "markdown",
   "id": "7e636f87-6fa5-46cf-a513-d5a4debb6931",
   "metadata": {},
   "source": [
    "### Membership Operators\n",
    "in, not in"
   ]
  },
  {
   "cell_type": "code",
   "execution_count": 4,
   "id": "ef9af4dc-6b1c-4fb8-974d-8bc76d4274b0",
   "metadata": {},
   "outputs": [
    {
     "name": "stdout",
     "output_type": "stream",
     "text": [
      "False\n",
      "True\n",
      "False\n"
     ]
    }
   ],
   "source": [
    "string = \"hello\"\n",
    "print(\"H\" in string)\n",
    "print(\"H\" not in string)\n",
    "\n",
    "list = [10,20,40]\n",
    "print(30 in list)"
   ]
  },
  {
   "cell_type": "markdown",
   "id": "426b7e0a-b0b9-4438-8875-0d639b0a8596",
   "metadata": {},
   "source": [
    "### Identity Operators\n",
    "is, not is"
   ]
  },
  {
   "cell_type": "code",
   "execution_count": 5,
   "id": "30a401e7-3cc1-4623-bbbe-952354fa9ddb",
   "metadata": {},
   "outputs": [
    {
     "name": "stdout",
     "output_type": "stream",
     "text": [
      "True\n",
      "False\n"
     ]
    }
   ],
   "source": [
    "a = 10\n",
    "b = 10\n",
    "\n",
    "print(a is b)\n",
    "print(a is not b)"
   ]
  },
  {
   "cell_type": "markdown",
   "id": "93baad8c-c490-46f6-83a2-18fdb6fc8c4d",
   "metadata": {},
   "source": [
    "### Bitwise Operators\n",
    "&(and), |(or), ^(xor) <br><br>\n",
    "and - both should be true<br>\n",
    "or - any one should be true<br>\n",
    "xor - only one should be true<br><br>\n",
    "    \n",
    "bin() converts the integer number into its binary form\n"
   ]
  },
  {
   "cell_type": "code",
   "execution_count": 6,
   "id": "5c8f30db-36e1-413b-a10b-6e61d952255b",
   "metadata": {},
   "outputs": [
    {
     "name": "stdout",
     "output_type": "stream",
     "text": [
      "0b1000\n",
      "0b1010\n",
      "8 0b1000\n",
      "2 0b10\n",
      "10 0b1010\n"
     ]
    }
   ],
   "source": [
    "a = 8\n",
    "print(bin(a))\n",
    "\n",
    "b = 10\n",
    "print(bin(b))\n",
    "\n",
    "print(a & b, bin(a & b))\n",
    "print(a ^ b, bin(a ^ b))\n",
    "print(a | b, bin(a | b))"
   ]
  },
  {
   "cell_type": "markdown",
   "id": "08cc2d06-1568-4c77-810f-9a4bd5185b00",
   "metadata": {},
   "source": [
    "### Data Types\n",
    "\n",
    "#### Mutable data types\n",
    "- list\n",
    "- dictionary\n",
    "- byte array\n",
    "\n",
    "#### Immutable data types - \n",
    "##### error:-do not support item assignment\n",
    "- tuple\n",
    "  - there should be multiple values inside the () otherwise only one value is treated like an integer, float or string\n",
    "  - tuple is faster than list because of immutability\n",
    "- set\n",
    "  - unique elements\n",
    "  - removes repeating elements on its own\n",
    "- int\n",
    "- float\n",
    "- string -> writing anything in triple quotation ''' ''' will be written as it is\n",
    "- complex\n",
    "\n",
    "check the datatype using type() function"
   ]
  },
  {
   "cell_type": "code",
   "execution_count": 7,
   "id": "cf1a368d-df29-46bd-a249-eeee6a64b84e",
   "metadata": {},
   "outputs": [
    {
     "name": "stdout",
     "output_type": "stream",
     "text": [
      "<class 'complex'>\n",
      "<class 'str'>\n",
      "\n",
      " hi\n",
      "my name is\n",
      "python\n",
      "\n"
     ]
    }
   ],
   "source": [
    "print(type(2+5j))\n",
    "print(type(\"hello@123\"))\n",
    "print()\n",
    "print(''' hi\n",
    "my name is\n",
    "python\n",
    "''')"
   ]
  },
  {
   "cell_type": "markdown",
   "id": "67e34792-53f8-4d46-8dd2-47dedd705521",
   "metadata": {},
   "source": [
    "#### List\n",
    "\n",
    "##### List Functions\n",
    "- delete\n",
    "  - del list[index]<br>\n",
    "  - it doesnt return anything therefore not stored in a variable<br><br>\n",
    "- pop\n",
    "  - list.pop(index)<br>\n",
    "  - returns what has been deleted therefore can be stored in a variable<br><br>\n",
    "- remove\n",
    "  - list.remove(value)<br>\n",
    "  - does not return the removed value<br><br>\n",
    "- clear\n",
    "  - list.clear()<br>\n",
    "  - clears the whole list and returns an empty list<br><br>\n",
    "- insert\n",
    "  - list.insert(position, value)<br>\n",
    "  - inserts the mentioned value at the mentioned position<br><br>\n",
    "- append\n",
    "  - list.append(value/list)<br>\n",
    "  - appends the value mentioned at the last<br>\n",
    "  - a full list can also be appended to another list<br>\n",
    "  - if a list is appended it puts the whole datastructure/list as it is whereas extend function picks elements from the list to be appended and appends the elements one by one to the old list<br><br>\n",
    "  \n",
    "- extend\n",
    "  - list.extend(list)\n",
    "  - extend function picks elements from the list to be appended and appends the elements one by one to the old list<br><br>\n",
    "\n",
    "- count\n",
    "  - list.count(value)\n",
    "  - counts the number of times the mentioned value occurs<br><br>\n",
    "\n",
    "- min and max\n",
    "  - min(list) and max(list)\n",
    "  - return the miniimum and maximum value from the list\n",
    "  - if there are string in the list then it returns based on the first letters of the words<br><br>\n",
    "\n",
    " - sort\n",
    "   - list.sort()\n",
    "   - sorts the list<br><br>\n",
    "\n",
    "- reverse\n",
    "  - list.reverse()\n",
    "  - reverses the list in backward order -> last element becomes first element and first element becomes last element<br><br>\n",
    "\n",
    "- index\n",
    "  - list.index(value)\n",
    "  - find the index of the mentioned value<br><br>\n",
    "\n",
    "- sum\n",
    "  -  sum(list, minimum sum) -> minimum sum is the value which gets added to the sum of the tuple\n",
    "  \n",
    "\n",
    "- zip\n",
    "  - for i, j in zip(list1, list2):\n",
    "  - helps to iterate over two lists at the same time\n",
    "  - i gets the values of list1, j gets the values of list2\n",
    "  - if there are unequal number of elements in both the lists then zip iterates till the number of elements which is the least for example if list 1 has 5 elements and list2 has 6 elements then zip iterates till 5 elements only\n",
    "\n",
    "- split\n",
    "  - list.split('delimeter')\n",
    "  - splits the string based on the delimeter mentioned within single coluns, by default it splits based on space if not mentioned\n",
    "  - using split we can convert a string into a list "
   ]
  },
  {
   "cell_type": "code",
   "execution_count": 8,
   "id": "010234a0-a79a-481e-b89a-66db3ef2cf68",
   "metadata": {},
   "outputs": [
    {
     "name": "stdout",
     "output_type": "stream",
     "text": [
      "[1.1, 4, 'hello'] <class 'list'>\n",
      "[1.1, 4, 'world'] <class 'list'>\n",
      "\n",
      "[1, 2, 3]\n",
      "1\n",
      "4.5\n",
      "hello\n",
      "o\n",
      "\n",
      "1.1\n",
      "4\n",
      "world\n",
      "1.1\n",
      "4\n",
      "world\n",
      "\n",
      "[1, 2, 3, 4, 5, 6, 7, 8, 9, 10, 11, 12, 13, 14, 15, 16, 17, 18, 19, 20, 21, 22, 23, 24, 25, 26, 27, 28, 29, 30, 31, 32, 33, 34, 35, 36, 37, 38, 39, 40, 41, 42, 43, 44, 45, 46, 47, 48, 49, 50, 51, 52, 53, 54, 55, 56, 57, 58, 59, 60, 61, 62, 63, 64, 65, 66, 67, 68, 69, 70, 71, 72, 73, 74, 75, 76, 77, 78, 79, 80, 81, 82, 83, 84, 85, 86, 87, 88, 89, 90, 91, 92, 93, 94, 95, 96, 97, 98, 99, 100]\n",
      "\n",
      "List Comprehension\n",
      "[1, 2, 3, 4, 5, 6, 7, 8, 9, 10, 11, 12, 13, 14, 15, 16, 17, 18, 19, 20, 21, 22, 23, 24, 25, 26, 27, 28, 29, 30, 31, 32, 33, 34, 35, 36, 37, 38, 39, 40, 41, 42, 43, 44, 45, 46, 47, 48, 49, 50, 51, 52, 53, 54, 55, 56, 57, 58, 59, 60, 61, 62, 63, 64, 65, 66, 67, 68, 69, 70, 71, 72, 73, 74, 75, 76, 77, 78, 79, 80, 81, 82, 83, 84, 85, 86, 87, 88, 89, 90, 91, 92, 93, 94, 95, 96, 97, 98, 99, 100]\n",
      "\n",
      "[2, 4, 6, 8, 10, 12, 14, 16, 18, 20, 22, 24, 26, 28, 30, 32, 34, 36, 38, 40, 42, 44, 46, 48, 50, 52, 54, 56, 58, 60, 62, 64, 66, 68, 70, 72, 74, 76, 78, 80, 82, 84, 86, 88, 90, 92, 94, 96, 98, 100]\n",
      "\n",
      "converting a string into a list using list comprehension\n",
      "['h', 'e', 'l', 'l', 'o', ' ', 'w', 'o', 'r', 'l', 'd']\n",
      "\n",
      "list functions\n",
      "[10, 20, 30, 5, 7]\n",
      "\n",
      "delete\n",
      "[10, 30, 5, 7]\n",
      "\n",
      "pop\n",
      "[10, 30, 7] 5\n",
      "\n",
      "remove\n",
      "[30, 7]\n",
      "\n",
      "clear\n",
      "[]\n",
      "\n",
      "insert\n",
      "[1, 2, 10, 3, 4.5, 6, 7]\n",
      "\n",
      "append value\n",
      "[1, 2, 10, 3, 4.5, 6, 7, 20]\n",
      "\n",
      "append list\n",
      "[1, 2, 10, 3, 4.5, 6, 7, 20, [100, 200]]\n",
      "\n",
      "extend\n",
      "[1, 2, 10, 3, 4.5, 6, 7, 20, [100, 200], 100, 200]\n",
      "\n",
      "count\n",
      "[1, 2, 10, 3, 4.5, 6, 7, 20, [100, 200], 100, 200] 1\n",
      "\n",
      "min\n",
      "[1, 2, 3, 4] 1\n",
      "\n",
      "max\n",
      "[1, 2, 3, 4] 4\n",
      "\n",
      "sort\n",
      "[1, 4.5, 60, 90]\n",
      "\n",
      "reverse\n",
      "[200, 100, [100, 200], 20, 7, 6, 4.5, 3, 10, 2, 1]\n",
      "\n",
      "index\n",
      "[200, 100, [100, 200], 20, 7, 6, 4.5, 3, 10, 2, 1] 7\n",
      "\n",
      "sum\n",
      "[1, 2, 3, 4] 20\n",
      "\n",
      "zip\n",
      "1 7\n",
      "2 8\n",
      "3 9\n",
      "4 10\n",
      "\n",
      "without zip\n",
      "1 7\n",
      "2 8\n",
      "3 9\n",
      "4 10\n",
      "\n",
      "split\n"
     ]
    },
    {
     "name": "stdin",
     "output_type": "stream",
     "text": [
      "enter the string:  hello world\n"
     ]
    },
    {
     "name": "stdout",
     "output_type": "stream",
     "text": [
      "['hello', 'world']\n",
      "\n"
     ]
    },
    {
     "name": "stdin",
     "output_type": "stream",
     "text": [
      "enter string 1 to be appended to the list :  hello\n",
      "enter string 2 to be appended to the list :  world\n",
      "enter string 3 to be appended to the list :  welcome\n"
     ]
    },
    {
     "name": "stdout",
     "output_type": "stream",
     "text": [
      "['hello', 'world', 'welcome']\n"
     ]
    }
   ],
   "source": [
    "list = [1.1, 4, \"hello\"]\n",
    "print(list, type(list))\n",
    "list[2] = \"world\" #proving mutability\n",
    "print(list, type(list))\n",
    "\n",
    "print()\n",
    "\n",
    "# nested list\n",
    "list1 = [\"hello\", 4.5, [1,2,3]]\n",
    "print(list1[2])\n",
    "print(list1[2][0])\n",
    "print(list1[1])\n",
    "print(list1[0])\n",
    "print(list1[0][4])\n",
    "\n",
    "print()\n",
    "\n",
    "#string iteration\n",
    "for i in range(len(list)):\n",
    "    print(list[i])\n",
    "#or\n",
    "for i in list:\n",
    "    print(i)\n",
    "print()\n",
    "\n",
    "#List Comprehension - elegant way to define and create lists based on existing lists, faster than for loops to create a list\n",
    "list = []\n",
    "for i in range(1, 101, 1):\n",
    "    list.append(i)\n",
    "print(list)\n",
    "print()\n",
    "#or through list comprehension\n",
    "print(\"List Comprehension\")\n",
    "list = [i for i in range(1, 101, 1)]\n",
    "print(list)\n",
    "print()\n",
    "\n",
    "list = [i for i in range(1, 101, 1) if i%2 == 0]\n",
    "print(list)\n",
    "\n",
    "#Converting a string into a list using list comprehension\n",
    "list = []\n",
    "string = \"hello world\"\n",
    "list = [i for i in string]\n",
    "print()\n",
    "print('converting a string into a list using list comprehension')\n",
    "print(list) \n",
    "print()\n",
    "\n",
    "#List functions\n",
    "\n",
    "list = [10, 20, 30, 5, 7]\n",
    "print('list functions')\n",
    "print(list)\n",
    "print()\n",
    "\n",
    "print('delete')\n",
    "del list[1]\n",
    "print(list)1\n",
    "\n",
    "print('pop')\n",
    "popped_element = list.pop(2)\n",
    "print(list, popped_element)\n",
    "print()\n",
    "\n",
    "print('remove')\n",
    "list.remove(10)\n",
    "print(list)\n",
    "print()\n",
    "\n",
    "print('clear')\n",
    "list.clear()\n",
    "print(list)\n",
    "print()\n",
    "\n",
    "list = [1,2,3,4.5,6,7]\n",
    "print('insert')\n",
    "list.insert(2, 10)\n",
    "print(list)\n",
    "print()\n",
    "\n",
    "print('append value')\n",
    "list.append(20)\n",
    "print(list)\n",
    "print()\n",
    "print('append list')\n",
    "appended_list = [100,200]\n",
    "list.append(appended_list)\n",
    "print(list)\n",
    "print()\n",
    "\n",
    "print('extend')\n",
    "list.extend(appended_list)\n",
    "print(list)\n",
    "print()\n",
    "\n",
    "print('count')\n",
    "count_of_times_3_occurs = list.count(3)\n",
    "print(list, count_of_times_3_occurs)\n",
    "print()\n",
    "\n",
    "print('min')\n",
    "list1 = [1,2,3,4]\n",
    "minimum = min(list1)\n",
    "print(list1, minimum)\n",
    "print()\n",
    "\n",
    "print('max')\n",
    "maximum = max(list1)\n",
    "print(list1, maximum)\n",
    "print()\n",
    "\n",
    "print('sort')\n",
    "list2 = [4.5, 1, 60, 90]\n",
    "list2.sort()\n",
    "print(list2)\n",
    "print()\n",
    "\n",
    "print('reverse')\n",
    "list.reverse()\n",
    "print(list)\n",
    "print()\n",
    "\n",
    "print('index')\n",
    "index = list.index(3)\n",
    "print(list, index)\n",
    "print()\n",
    "\n",
    "print('sum')\n",
    "list5 = [1,2,3,4]\n",
    "total_sum = sum(list5, 10)\n",
    "print(list5, total_sum)\n",
    "print()\n",
    "\n",
    "print('zip')\n",
    "list1 = [1,2,3,4]\n",
    "list2 = [7,8,9,10,11]\n",
    "for i,j in zip(list1, list2):\n",
    "    print(i,j)\n",
    "print()\n",
    "#or\n",
    "print('without zip')\n",
    "for i in range(len(list1)):\n",
    "    print(list1[i], list2[i])  \n",
    "print()\n",
    "\n",
    "#Convert a string to a list - single input\n",
    "print('split')\n",
    "string = input(\"enter the string: \")\n",
    "list = string.split(' ')\n",
    "print(list)\n",
    "print()\n",
    "\n",
    "#Convert a string to a list - multiple inputs\n",
    "list1 = []\n",
    "for i in range(1,4,1):\n",
    "    string = input(f'enter string {str(i)} to be appended to the list : ')\n",
    "    list1.append(string)\n",
    "print(list1)"
   ]
  },
  {
   "cell_type": "markdown",
   "id": "1efe43d6-63b9-4bb2-8f8a-ba3fbccd1c23",
   "metadata": {},
   "source": [
    "#### Tuple\n",
    "there should be multiple values inside the () otherwise only one value is treated like an integer, float or string\n",
    "##### Tuple Functions\n",
    "- min(), max(), count(), index(), sum()\n",
    "- sum(tuple, minimum sum) -> minimum sum is the value which gets added to the sum of the tuple"
   ]
  },
  {
   "cell_type": "code",
   "execution_count": 9,
   "id": "3b62da47-5710-46d2-b742-759e15cb4113",
   "metadata": {},
   "outputs": [
    {
     "name": "stdout",
     "output_type": "stream",
     "text": [
      "(1.1, 4, 'hello') <class 'tuple'>\n",
      "<class 'str'>\n",
      "\n",
      "110\n"
     ]
    }
   ],
   "source": [
    "tuple = (1.1, 4, \"hello\")\n",
    "print(tuple, type(tuple))\n",
    "\n",
    "tuple1 = (\"s\")\n",
    "print(type(tuple1))\n",
    "print()\n",
    "\n",
    "# sum function\n",
    "tuple = (1,2,3,4)\n",
    "print(sum(tuple, 100))"
   ]
  },
  {
   "cell_type": "markdown",
   "id": "426f468a-a19d-4bdc-83a3-258bb498047b",
   "metadata": {},
   "source": [
    "#### Dictionary\n",
    "- Unordered data type with key value pairs defined within { }\n",
    "- running for loop over the dictionary returns the keys and we can access the values using those keys\n",
    "##### Dictionary Functions\n",
    "- get\n",
    "  - dictionary.get(key)\n",
    "  - returns the value of the mentioned key\n",
    "  - the key should be in ' ' if its a string and without ' ' if its a number<br><br>\n",
    "- keys\n",
    "  - for i in dictionary.keys():<br>\n",
    "    print(i)\n",
    "  - returns the keys<br><br>\n",
    "- values\n",
    "  - for i in dictionary.values():<br>\n",
    "    print(i)\n",
    "  - returns the values<br><br>\n",
    "- items\n",
    "  - for i, j in dictionary.items():<br>\n",
    "    print(f'{i} is the key and {j} is its key')\n",
    "  - i stores the keys and j stores their respective values<br><br>\n",
    "\n",
    "- dict\n",
    "  - used to create dictionaries\n",
    "  - dictionary = dict(key1 = value1, key2 = \"value2\", key3 = value3)<br><br>\n",
    "  \n",
    "- clear\n",
    "  - dictionary.clear()\n",
    "  - clears the whole dictionary and returns an empty dictionary\n",
    "\n",
    "##### Dictionary functions that work on Keys\n",
    "- del\n",
    "  - del dictionary[key]<br><br>\n",
    "- pop\n",
    "  - dictionary.pop(key)\n",
    "  - pops the key and the value both but stores the value which has been popped<br><br>\n",
    "- update\n",
    "  - used to update the values of existing keys\n",
    "  - dictionary.update({'key': new value})\n",
    "  - we can directly update an existing key by another method also -> dictionary['key'] = 'newvalue'<br><br>\n",
    " \n",
    "##### Nested Dictionary\n",
    "- for i, j in courses_dictionary.items():<br>\n",
    "    print(i,j, j['subdictionary key'])\n",
    "-  i stores the keys and j stores the values which are the sub dictionaries"
   ]
  },
  {
   "cell_type": "code",
   "execution_count": 10,
   "id": "2756e091-8019-48e6-909b-186d64fcc677",
   "metadata": {},
   "outputs": [
    {
     "name": "stdout",
     "output_type": "stream",
     "text": [
      "{'key1': 'value1', 30: 40} <class 'dict'>\n",
      "value1\n",
      "40\n",
      "\n",
      "for loop over dictionary:\n",
      "key1 is the key and value1 is its value\n",
      "30 is the key and 40 is its value\n",
      "\n",
      "key1 is the key and value1 is its value\n",
      "30 is the key and 40 is its value\n",
      "\n",
      "get function\n",
      "40\n",
      "value1\n",
      "\n",
      "keys function\n",
      "key1\n",
      "30\n",
      "\n",
      "values function\n",
      "value1\n",
      "40\n",
      "\n",
      "items function\n",
      "key1 is the key and value1 is its key\n",
      "30 is the key and 40 is its key\n",
      "\n",
      "del function\n",
      "{'key1': 'value1', 30: 40}\n",
      "\n",
      "pop function\n",
      "{'key1': 'value1'} 40\n",
      "\n",
      "dict function\n",
      "{'fees': 900, 'department': 'cse', 'salary': 4000}\n",
      "\n",
      "update function\n",
      "{'fees': 900, 'department': 'cse', 'salary': 100000}\n",
      "\n",
      "clear function\n",
      "{}\n",
      "\n",
      "inserting values in the dictionary\n",
      "{'newkey': 'newvalue'}\n",
      "\n",
      "nested dictionary\n",
      "{'java': {'duration': '2 months', 'fees': 300}, 'c': {'duration': '3 months', 'fees': 500}, 'python': {'duration': '1 months', 'fees': 400}}\n",
      "{'duration': '3 months', 'fees': 500}\n",
      "500\n",
      "\n",
      "iterating over nested dictionary\n",
      "java {'duration': '2 months', 'fees': 300} 2 months\n",
      "c {'duration': '3 months', 'fees': 500} 3 months\n",
      "python {'duration': '1 months', 'fees': 400} 1 months\n",
      "\n"
     ]
    }
   ],
   "source": [
    "dictionary ={\n",
    "    \"key1\" : \"value1\",\n",
    "    30 : 40\n",
    "}\n",
    "\n",
    "print(dictionary, type(dictionary))\n",
    "print(dictionary[\"key1\"])\n",
    "print(dictionary[30])\n",
    "print()\n",
    "\n",
    "# for loop over dictionary\n",
    "print('for loop over dictionary:')\n",
    "for i in dictionary:\n",
    "    print(f'{i} is the key and {dictionary[i]} is its value')\n",
    "#or using keys() function\n",
    "print()\n",
    "for i in dictionary.keys():\n",
    "    print(f'{i} is the key and {dictionary[i]} is its value')\n",
    "\n",
    "# Dictionary Functions\n",
    "print()\n",
    "print('get function')\n",
    "value = dictionary.get(30)\n",
    "print(value)\n",
    "value = dictionary.get('key1')\n",
    "print(value)\n",
    "\n",
    "print()\n",
    "print('keys function')\n",
    "for i in dictionary.keys():\n",
    "    print(i)\n",
    "\n",
    "print()\n",
    "print('values function')\n",
    "for i in dictionary.values():\n",
    "    print(i)\n",
    "\n",
    "print()\n",
    "print('items function')\n",
    "for i, j in dictionary.items():\n",
    "    print(f'{i} is the key and {j} is its key')\n",
    "\n",
    "print()\n",
    "dictionary ={\n",
    "    \"key1\" : \"value1\",\n",
    "    30 : 40,\n",
    "    \"hello\" : \"world\"\n",
    "}\n",
    "print('del function')\n",
    "del dictionary['hello']\n",
    "print(dictionary)\n",
    "print()\n",
    "\n",
    "print('pop function')\n",
    "popped_element = dictionary.pop(30)\n",
    "print(dictionary, popped_element)\n",
    "print()\n",
    "\n",
    "print('dict function')\n",
    "dictionary = dict(fees = 900, department = \"cse\", salary = 4000)\n",
    "print(dictionary)\n",
    "print()\n",
    "\n",
    "print('update function')\n",
    "dictionary.update({'salary':100000})\n",
    "print(dictionary)\n",
    "\n",
    "print()\n",
    "print('clear function')\n",
    "dictionary.clear()\n",
    "print(dictionary)\n",
    "\n",
    "print()\n",
    "print('inserting values in the dictionary')\n",
    "dictionary['newkey'] = 'newvalue'\n",
    "# if the key was already there then it gets updated\n",
    "print(dictionary)\n",
    "\n",
    "#Nested Dictionary\n",
    "print()\n",
    "print('nested dictionary')\n",
    "courses_dictionary ={\n",
    "    \"java\" : {'duration' : '2 months', 'fees' : 300},\n",
    "    \"c\" : {'duration' : '3 months', 'fees' : 500},\n",
    "    \"python\" : {'duration' : '1 months', 'fees' : 400}\n",
    "}\n",
    "print(courses_dictionary)\n",
    "print(courses_dictionary['c'])\n",
    "print(courses_dictionary['c']['fees'])\n",
    "print()\n",
    "\n",
    "#iterating over nested dictionary\n",
    "print('iterating over nested dictionary')\n",
    "for i, j in courses_dictionary.items():\n",
    "    print(i,j, j['duration'])\n",
    "print()\n"
   ]
  },
  {
   "cell_type": "markdown",
   "id": "8713cc36-4550-4773-93d9-6f7710e4f679",
   "metadata": {},
   "source": [
    "#### Set\n",
    "- unordered and unindexed\n",
    "- only unique data -> removes repeating elements on its own\n",
    "\n",
    "##### Set Functions\n",
    "\n",
    "- set\n",
    "  - converts other data structures like lists and tuples to set\n",
    "  - set(list/tuple)<br><br>\n",
    "\n",
    "- add\n",
    "  - adding new element to a set\n",
    "  - set.add(value)<br><br>\n",
    "\n",
    "- pop\n",
    "  - randomly deleted any element from the set since its unindexed\n",
    "  - set.pop()\n",
    "  - returns the popped element<br><br>\n",
    "\n",
    "- remove and discard work the same\n",
    "  - set.remove(value)\n",
    "  - set.discard(value)\n",
    "  - removes the mentioned value from the set<br><br>\n",
    "\n",
    "- clear\n",
    "  - clears the whole set and returns empty set\n",
    "  - set.clear()<br><br>\n",
    "\n",
    "- update\n",
    "  - adds elements from a list/tuple to a set value by value\n",
    "  - the original set cant be updated since its immutable\n",
    "  - set.update(list/tuple)\n",
    "  - it updates the original set only and doesnt create a new set therefore cant be stored in a variable"
   ]
  },
  {
   "cell_type": "code",
   "execution_count": 11,
   "id": "3f289f4c-f86b-414d-9246-d07aa0d19eb2",
   "metadata": {},
   "outputs": [
    {
     "name": "stdout",
     "output_type": "stream",
     "text": [
      "{1, 2, 10, 1.1} <class 'set'>\n",
      "\n",
      "set function\n",
      "{1, 2, 3, 4}\n",
      "\n",
      "update function\n",
      "{1, 2, 3, 1.1, 4, 10}\n"
     ]
    }
   ],
   "source": [
    "set1 = {1,1.1,2,1.1,10,2,10}\n",
    "print(set1, type(set1))\n",
    "\n",
    "# Set Functions\n",
    "\n",
    "print()\n",
    "print('set function')\n",
    "list = [1,2,3,4]\n",
    "set2 = set(list)\n",
    "print(set2)\n",
    "\n",
    "print()\n",
    "print('update function')\n",
    "set1.update(list)\n",
    "print(set1)"
   ]
  },
  {
   "cell_type": "markdown",
   "id": "dca4f8ed-29dd-4c45-b05a-72213044edf9",
   "metadata": {},
   "source": [
    "### Typecasting\n",
    "\n",
    "- input()\n",
    "  - take input from the user\n",
    "  - takes the input as a string\n",
    "- int() -> convert to int\n",
    "- float() -> convert to float\n",
    "- eval() -> pass a string as an argument and it interprets it as a float or int as required and calculates the output"
   ]
  },
  {
   "cell_type": "markdown",
   "id": "0961a824-63c5-441b-972e-39c2d6960a9b",
   "metadata": {},
   "source": [
    "### a = input(\"enter the value\")\n",
    "print(a, type(a))\n",
    "\n",
    "a = int(a)\n",
    "print(a, type(a))\n",
    "print()\n",
    "\n",
    "string = \"2\"\n",
    "string = eval(string)\n",
    "print(string, type(string))"
   ]
  },
  {
   "cell_type": "markdown",
   "id": "082a5f77-28f3-4653-aaaf-b59d9c554eb2",
   "metadata": {},
   "source": [
    "### for loop\n",
    "- range(start, end which is not included , step)\n",
    "  - in reverse loop step will be negetive like -1\n",
    "- starts from 0 if start is not mentioned"
   ]
  },
  {
   "cell_type": "code",
   "execution_count": 12,
   "id": "bbe87dfa-5bb7-4588-89e6-780a63e7e470",
   "metadata": {},
   "outputs": [
    {
     "name": "stdout",
     "output_type": "stream",
     "text": [
      "5\n",
      "10\n",
      "15\n",
      "\n",
      "0\n",
      "1\n",
      "2\n",
      "\n",
      "13*1 = 13\n",
      "13*2 = 26\n",
      "13*3 = 39\n",
      "13*4 = 52\n",
      "13*5 = 65\n",
      "13*6 = 78\n",
      "13*7 = 91\n",
      "13*8 = 104\n",
      "13*9 = 117\n",
      "13*10 = 130\n",
      "\n",
      "13*10 = 130\n",
      "13*9 = 117\n",
      "13*8 = 104\n",
      "13*7 = 91\n",
      "13*6 = 78\n",
      "13*5 = 65\n",
      "13*4 = 52\n",
      "13*3 = 39\n",
      "13*2 = 26\n",
      "13*1 = 13\n"
     ]
    }
   ],
   "source": [
    "for i in range(5,20,5):\n",
    "    print(i)\n",
    "\n",
    "print()\n",
    "\n",
    "for i in range(3):\n",
    "    print(i)\n",
    "\n",
    "print()\n",
    "\n",
    "#printing table of 13\n",
    "for i in range(1,11):\n",
    "    print(f\"13*{i} = {13*i}\")\n",
    "\n",
    "print()\n",
    "\n",
    "# table of 13 in reverse loop\n",
    "for i in range(10, 0, -1):\n",
    "    print(f\"13*{i} = {13*i}\")"
   ]
  },
  {
   "cell_type": "markdown",
   "id": "7bfea935-1454-4c87-9e6d-17f5b4b57cca",
   "metadata": {},
   "source": [
    "### String Indexing and Slicing\n",
    "- [start : end which is not included : step]\n",
    "- reverse a string - [-1::-1]"
   ]
  },
  {
   "cell_type": "code",
   "execution_count": 13,
   "id": "22fb7ce5-ae5f-4b02-bb35-05136271e96b",
   "metadata": {},
   "outputs": [
    {
     "name": "stdout",
     "output_type": "stream",
     "text": [
      "h\n",
      "e\n",
      "d\n",
      "l\n",
      "\n",
      "el\n",
      "hello world\n",
      "hlowrd\n",
      "dr\n",
      "dlrow olleh\n",
      "d\n",
      "l\n",
      "r\n",
      "o\n",
      "w\n",
      " \n",
      "o\n",
      "l\n",
      "l\n",
      "e\n",
      "h\n"
     ]
    }
   ],
   "source": [
    "string = \"hello world\"\n",
    "\n",
    "print(string[0])\n",
    "print(string[1])\n",
    "print(string[-1])\n",
    "print(string[-2])\n",
    "print()\n",
    "\n",
    "print(string[1:4:2])\n",
    "\n",
    "#print all characters\n",
    "print(string[0:])\n",
    "\n",
    "#print characters with a step of 2\n",
    "print(string[0::2])\n",
    "\n",
    "#reverse slicing\n",
    "print(string[-1:-4:-2])\n",
    "\n",
    "#reverse a string\n",
    "print(string[-1::-1])\n",
    "#or using a loop\n",
    "for i in range(len(string)-1, -1, -1):\n",
    "    print(string[i])\n"
   ]
  },
  {
   "cell_type": "markdown",
   "id": "a05a6fd7-f2b7-4c8d-b4d4-6eda92bfbda2",
   "metadata": {},
   "source": [
    "### String Functions\n",
    "\n",
    "#### length\n",
    "-len()\n",
    "\n",
    "#### String Iteration\n",
    "- for i in string:<br>\n",
    "      print(i)\n",
    "or\n",
    "\n",
    "- for i in range(0, len(string), 1):<br>\n",
    "      print(string[i])\n",
    "\n",
    "#### lower case\n",
    "- string.lower()\n",
    "\n",
    "#### upper case\n",
    "- string.upper()\n",
    "\n",
    "#### title\n",
    "- string.title -> capitalizes first letter of each word\n",
    "\n",
    "#### capitalize\n",
    "- string.capitalize() -> makes the first letter of the first word capital rest all small\n",
    "\n",
    "#### finding the index of the first character of the substring in a string -find\n",
    "- string.find('el', start)\n",
    "- returns the index number where the substring is found\n",
    "- returns -1 if the substring is not found\n",
    "\n",
    "#### string.index() \n",
    "- works same as find() but if the substring is not found then find() return -1 whereas index() return an error\n",
    "\n",
    "#### isalpha() \n",
    "- returns true if all the values in the string are alphabets\n",
    "- space or other delimeters are not alphabets but they are considered in a string who have their own index\n",
    "\n",
    "#### isdigit() \n",
    "- returns true if all the values in the string are numbers\n",
    "\n",
    "#### isalnum() \n",
    "- returns true if the string is alphanumeric\n",
    "\n",
    "#### chr(integer) and ord(string)\n",
    "- chr(integer) returns the character associated with the integer passed based on ASCII value\n",
    "- ord(character) returns the integer value of the ASCII value of the character\n",
    "\n",
    "#### string formatting\n",
    "- string1 = \"hello world my name is {firstname} {lastname}\".format(firstname = \"virat\", lastname = \"kohli\")<br>\n",
    "or\n",
    "- firstname = \"virat\"<br>\n",
    "  lastname = \"kohli\"<br>\n",
    "  print(f\"hello world my name is {firstname} {lastname}\")\n",
    "\n",
    "- indexing works here\n",
    "  - string = \"hello world my name is {0:10} {1}\".format(\"virat\", \"kohli\")\n",
    "    - 10 denotes that virat will take total 10 character space\n",
    "    - '<10' by default virat will stay at the start/left of the total character space of 10 characters or use '<10'\n",
    "  - string2 = \"hello world my name is {0:^10} {1}\".format(\"virat\", \"kohli\")\n",
    "    - ^10 means that virat will come in the middle of the total of 10 character spaces\n",
    "  - string2 = \"hello world my name is {0:>10} {1}\".format(\"virat\", \"kohli\")\n",
    "    - '>10' means that virat goes at the last of the total 10 character space"
   ]
  },
  {
   "cell_type": "code",
   "execution_count": 14,
   "id": "322e033b-703d-4327-aace-313aeaa6d67c",
   "metadata": {},
   "outputs": [
    {
     "name": "stdout",
     "output_type": "stream",
     "text": [
      "hello world\n",
      "Hello World\n",
      "Hello world\n",
      "-1\n",
      "6\n",
      "False\n",
      "False\n",
      "A\n",
      "65\n",
      "hello world my name is virat kohli\n",
      "hello world my name is virat kohli\n",
      "hello world my name is   virat    kohli\n",
      "hello world my name is      virat kohli\n"
     ]
    }
   ],
   "source": [
    "string = \"hELLO wORLD\"\n",
    "print(string.lower())\n",
    "print(string.title())\n",
    "print(string.capitalize())\n",
    "\n",
    "print(string.find('sw', 2))\n",
    "print(string.find('wO', 4))\n",
    "\n",
    "print(string.isalnum())\n",
    "print(string.isalpha())\n",
    "\n",
    "print(chr(65))\n",
    "print(ord('A'))\n",
    "\n",
    "string1 = \"hello world my name is {firstname} {lastname}\".format(firstname = \"virat\", lastname = \"kohli\")\n",
    "print(string1)\n",
    "#or\n",
    "firstname = \"virat\"\n",
    "lastname = \"kohli\"\n",
    "print(f\"hello world my name is {firstname} {lastname}\")\n",
    "\n",
    "string2 = \"hello world my name is {0:^10} {1}\".format(\"virat\", \"kohli\")\n",
    "print(string2)\n",
    "\n",
    "string2 = \"hello world my name is {0:>10} {1}\".format(\"virat\", \"kohli\")\n",
    "print(string2)"
   ]
  },
  {
   "cell_type": "markdown",
   "id": "d5c73155-4748-4708-b267-69ed9ec89ed5",
   "metadata": {},
   "source": [
    "### STACK\n",
    "#### Implimenting Stack using list\n",
    "- FILO first in last out or LIFO last in first out\n",
    "- linear data structure\n",
    "- push\n",
    "  - inserting an element\n",
    "- pop\n",
    "  - deleting the topmost/last element\n",
    "- peek\n",
    "  - display the topmost/last element\n",
    "- display\n",
    "  - display the stack---------+"
   ]
  },
  {
   "cell_type": "raw",
   "id": "6b93df63-169f-47d9-ad32-d9df098e4522",
   "metadata": {},
   "source": [
    "STACK REPRESENTATION\n",
    "+----------------------+                        +------------------------------------------------------------+\n",
    "| top/last element     |                        | bottom/first element   |    |    |    | top/last element   |\n",
    "+----------------------+                        +------------------------------------------------------------+\n",
    "|                      |                                            ARRAY REPRESENTATION  \n",
    "+----------------------+\n",
    "|                      |\n",
    "+----------------------+\n",
    "|                      |\n",
    "+----------------------+\n",
    "| bottom/first element |\n",
    "+----------------------+"
   ]
  },
  {
   "cell_type": "code",
   "execution_count": 15,
   "id": "2429dd63-e50b-422c-947c-6090d11d9175",
   "metadata": {},
   "outputs": [
    {
     "name": "stdin",
     "output_type": "stream",
     "text": [
      " \n",
      "    Please chose an operation to perform on the Stack\n",
      "    1. push\n",
      "    2. pop\n",
      "    3. peek\n",
      "    4. display\n",
      "    5. exit\n",
      "     1\n"
     ]
    },
    {
     "name": "stdout",
     "output_type": "stream",
     "text": [
      "\n"
     ]
    },
    {
     "name": "stdin",
     "output_type": "stream",
     "text": [
      "enter the value :  10\n",
      " \n",
      "    Please chose an operation to perform on the Stack\n",
      "    1. push\n",
      "    2. pop\n",
      "    3. peek\n",
      "    4. display\n",
      "    5. exit\n",
      "     1\n"
     ]
    },
    {
     "name": "stdout",
     "output_type": "stream",
     "text": [
      "\n"
     ]
    },
    {
     "name": "stdin",
     "output_type": "stream",
     "text": [
      "enter the value :  20\n",
      " \n",
      "    Please chose an operation to perform on the Stack\n",
      "    1. push\n",
      "    2. pop\n",
      "    3. peek\n",
      "    4. display\n",
      "    5. exit\n",
      "     1\n"
     ]
    },
    {
     "name": "stdout",
     "output_type": "stream",
     "text": [
      "\n"
     ]
    },
    {
     "name": "stdin",
     "output_type": "stream",
     "text": [
      "enter the value :  30\n",
      " \n",
      "    Please chose an operation to perform on the Stack\n",
      "    1. push\n",
      "    2. pop\n",
      "    3. peek\n",
      "    4. display\n",
      "    5. exit\n",
      "     4\n"
     ]
    },
    {
     "name": "stdout",
     "output_type": "stream",
     "text": [
      "\n",
      "['10', '20', '30']\n"
     ]
    },
    {
     "name": "stdin",
     "output_type": "stream",
     "text": [
      " \n",
      "    Please chose an operation to perform on the Stack\n",
      "    1. push\n",
      "    2. pop\n",
      "    3. peek\n",
      "    4. display\n",
      "    5. exit\n",
      "     3\n"
     ]
    },
    {
     "name": "stdout",
     "output_type": "stream",
     "text": [
      "\n",
      "topmost/last element of the stack is: 30\n"
     ]
    },
    {
     "name": "stdin",
     "output_type": "stream",
     "text": [
      " \n",
      "    Please chose an operation to perform on the Stack\n",
      "    1. push\n",
      "    2. pop\n",
      "    3. peek\n",
      "    4. display\n",
      "    5. exit\n",
      "     2\n"
     ]
    },
    {
     "name": "stdout",
     "output_type": "stream",
     "text": [
      "\n",
      "30 was popped\n"
     ]
    },
    {
     "name": "stdin",
     "output_type": "stream",
     "text": [
      " \n",
      "    Please chose an operation to perform on the Stack\n",
      "    1. push\n",
      "    2. pop\n",
      "    3. peek\n",
      "    4. display\n",
      "    5. exit\n",
      "     5\n"
     ]
    },
    {
     "name": "stdout",
     "output_type": "stream",
     "text": [
      "\n"
     ]
    }
   ],
   "source": [
    "list = []\n",
    "while True:\n",
    "    c = int(input(''' \n",
    "    Please chose an operation to perform on the Stack\n",
    "    1. push\n",
    "    2. pop\n",
    "    3. peek\n",
    "    4. display\n",
    "    5. exit\n",
    "    '''))\n",
    "    print()\n",
    "\n",
    "    if c == 1:\n",
    "        n = input('enter the value : ')\n",
    "        list.append(n)\n",
    "        \n",
    "    elif c == 2:\n",
    "        if len(list) == 0:\n",
    "            print('stack is empty')\n",
    "        else:\n",
    "            popped_element = list.pop()\n",
    "            print(f'{popped_element} was popped')\n",
    "\n",
    "    elif c == 3:\n",
    "        if len(list) == 0:\n",
    "            print('stack is empty')\n",
    "        else:\n",
    "            print(f'topmost/last element of the stack is: {list[-1]}')\n",
    "\n",
    "    elif c == 4:\n",
    "        print(list)\n",
    "\n",
    "    elif c == 5:\n",
    "        break\n",
    "\n",
    "    else:\n",
    "        print('pls enter a valid input')          \n",
    "    "
   ]
  },
  {
   "cell_type": "markdown",
   "id": "789cfd69-f2f9-4202-b8fa-965e671005bb",
   "metadata": {},
   "source": [
    "### Queue\n",
    "#### Implimenting Queue using List\n",
    "- linear data structure\n",
    "- FIFO first in first out\n",
    "- enqueue\n",
    "  - adds an item to the queue\n",
    "- dequeue\n",
    "  - removes first item from the queue\n",
    "- front\n",
    "  - get the front item from the queue\n",
    "- rear\n",
    "  - get the last item from the queue\n"
   ]
  },
  {
   "cell_type": "raw",
   "id": "9fe9d5ce-42a8-4216-8482-2548b38fc597",
   "metadata": {},
   "source": [
    "\n",
    " /|________________                             /|________________\n",
    "/                  |                           /                 |\n",
    "\\  ________________|                           \\  _______________|                                                                                    \n",
    " \\|                                             \\|\n",
    "+------------------------------------------------------------+\n",
    "| front/first element   |    |    |    | rear/last element   |\n",
    "+------------------------------------------------------------+\n",
    "                    QUEUE/ARRAY REPRESENTATION\n",
    "\n"
   ]
  },
  {
   "cell_type": "code",
   "execution_count": 16,
   "id": "ae0a14d5-b73a-4769-8139-f3afc1b4e8ed",
   "metadata": {},
   "outputs": [
    {
     "name": "stdin",
     "output_type": "stream",
     "text": [
      " \n",
      "    Please chose an operation to perform on the Stack\n",
      "    1. enqueue\n",
      "    2. dequeue\n",
      "    3. front\n",
      "    4. rear\n",
      "    5. display\n",
      "    6. exit\n",
      "     1\n"
     ]
    },
    {
     "name": "stdout",
     "output_type": "stream",
     "text": [
      "\n"
     ]
    },
    {
     "name": "stdin",
     "output_type": "stream",
     "text": [
      "enter the value :  10\n",
      " \n",
      "    Please chose an operation to perform on the Stack\n",
      "    1. enqueue\n",
      "    2. dequeue\n",
      "    3. front\n",
      "    4. rear\n",
      "    5. display\n",
      "    6. exit\n",
      "     1\n"
     ]
    },
    {
     "name": "stdout",
     "output_type": "stream",
     "text": [
      "\n"
     ]
    },
    {
     "name": "stdin",
     "output_type": "stream",
     "text": [
      "enter the value :  20\n",
      " \n",
      "    Please chose an operation to perform on the Stack\n",
      "    1. enqueue\n",
      "    2. dequeue\n",
      "    3. front\n",
      "    4. rear\n",
      "    5. display\n",
      "    6. exit\n",
      "     1\n"
     ]
    },
    {
     "name": "stdout",
     "output_type": "stream",
     "text": [
      "\n"
     ]
    },
    {
     "name": "stdin",
     "output_type": "stream",
     "text": [
      "enter the value :  30\n",
      " \n",
      "    Please chose an operation to perform on the Stack\n",
      "    1. enqueue\n",
      "    2. dequeue\n",
      "    3. front\n",
      "    4. rear\n",
      "    5. display\n",
      "    6. exit\n",
      "     5\n"
     ]
    },
    {
     "name": "stdout",
     "output_type": "stream",
     "text": [
      "\n",
      "['10', '20', '30']\n"
     ]
    },
    {
     "name": "stdin",
     "output_type": "stream",
     "text": [
      " \n",
      "    Please chose an operation to perform on the Stack\n",
      "    1. enqueue\n",
      "    2. dequeue\n",
      "    3. front\n",
      "    4. rear\n",
      "    5. display\n",
      "    6. exit\n",
      "     4\n"
     ]
    },
    {
     "name": "stdout",
     "output_type": "stream",
     "text": [
      "\n",
      "rear/last element of the queue is: 30\n"
     ]
    },
    {
     "name": "stdin",
     "output_type": "stream",
     "text": [
      " \n",
      "    Please chose an operation to perform on the Stack\n",
      "    1. enqueue\n",
      "    2. dequeue\n",
      "    3. front\n",
      "    4. rear\n",
      "    5. display\n",
      "    6. exit\n",
      "     3\n"
     ]
    },
    {
     "name": "stdout",
     "output_type": "stream",
     "text": [
      "\n",
      "front/first element of the queue is: 10\n"
     ]
    },
    {
     "name": "stdin",
     "output_type": "stream",
     "text": [
      " \n",
      "    Please chose an operation to perform on the Stack\n",
      "    1. enqueue\n",
      "    2. dequeue\n",
      "    3. front\n",
      "    4. rear\n",
      "    5. display\n",
      "    6. exit\n",
      "     2\n"
     ]
    },
    {
     "name": "stdout",
     "output_type": "stream",
     "text": [
      "\n",
      "dequeue operation successful\n"
     ]
    },
    {
     "name": "stdin",
     "output_type": "stream",
     "text": [
      " \n",
      "    Please chose an operation to perform on the Stack\n",
      "    1. enqueue\n",
      "    2. dequeue\n",
      "    3. front\n",
      "    4. rear\n",
      "    5. display\n",
      "    6. exit\n",
      "     5\n"
     ]
    },
    {
     "name": "stdout",
     "output_type": "stream",
     "text": [
      "\n",
      "['20', '30']\n"
     ]
    },
    {
     "name": "stdin",
     "output_type": "stream",
     "text": [
      " \n",
      "    Please chose an operation to perform on the Stack\n",
      "    1. enqueue\n",
      "    2. dequeue\n",
      "    3. front\n",
      "    4. rear\n",
      "    5. display\n",
      "    6. exit\n",
      "     6\n"
     ]
    },
    {
     "name": "stdout",
     "output_type": "stream",
     "text": [
      "\n"
     ]
    }
   ],
   "source": [
    "list = []\n",
    "while True:\n",
    "    c = int(input(''' \n",
    "    Please chose an operation to perform on the Stack\n",
    "    1. enqueue\n",
    "    2. dequeue\n",
    "    3. front\n",
    "    4. rear\n",
    "    5. display\n",
    "    6. exit\n",
    "    '''))\n",
    "    print()\n",
    "\n",
    "    if c == 1:\n",
    "        n = input('enter the value : ')\n",
    "        list.append(n)\n",
    "        \n",
    "    elif c == 2:\n",
    "        if len(list) == 0:\n",
    "            print('queue is empty')\n",
    "        else:\n",
    "            del list[0]\n",
    "            print(f'dequeue operation successful')\n",
    "\n",
    "    elif c == 3:\n",
    "        if len(list) == 0:\n",
    "            print('queue is empty')\n",
    "        else:\n",
    "            print(f'front/first element of the queue is: {list[0]}')\n",
    "\n",
    "    elif c == 4:\n",
    "        if len(list) == 0:\n",
    "            print('queue is empty')\n",
    "        else:\n",
    "            print(f'rear/last element of the queue is: {list[-1]}')\n",
    "\n",
    "    elif c == 5:\n",
    "        print(list)\n",
    "\n",
    "    elif c == 6:\n",
    "        break\n",
    "\n",
    "    else:\n",
    "        print('pls enter a valid input')          \n",
    "    "
   ]
  },
  {
   "cell_type": "markdown",
   "id": "6429914b-3d5f-4f45-ac82-91ff31195711",
   "metadata": {},
   "source": [
    "### Functions\n",
    "\n",
    "- no spaces allowed in the name of the function\n",
    "- default argument\n",
    "  - def function(a, b=5): here b is a default argument meaning if we dont pass any value for b it takes it as 5 but if we pass a value for b then that value overwrites 5\n",
    "- if a function doesnt return anything then it return None"
   ]
  },
  {
   "cell_type": "code",
   "execution_count": 17,
   "id": "04ed5671-f6a7-42ef-9f1d-fa29f6d9ce32",
   "metadata": {},
   "outputs": [
    {
     "name": "stdout",
     "output_type": "stream",
     "text": [
      "this is a simple function\n",
      "10\n",
      "\n",
      "30\n"
     ]
    }
   ],
   "source": [
    "# SIMPLE FUNCTION\n",
    "# defining a function\n",
    "def function():\n",
    "    print('this is a simple function')\n",
    "    return 10\n",
    "# calling the function\n",
    "value = function()\n",
    "print(value)\n",
    "print()\n",
    "\n",
    "\n",
    "# FUNCTION WITH ARGUMENTS\n",
    "# defining a function\n",
    "def function(a, b=5):\n",
    "    print(a+b)\n",
    "# calling the function\n",
    "function(10,20)\n"
   ]
  },
  {
   "cell_type": "markdown",
   "id": "2781c12b-c0ba-48af-b651-3e762273aa74",
   "metadata": {},
   "source": [
    "### User Defined Modules\n"
   ]
  },
  {
   "cell_type": "code",
   "execution_count": null,
   "id": "25d60cd7-cb72-4d53-b4be-16e5fcdac5ce",
   "metadata": {},
   "outputs": [],
   "source": [
    "import os\n",
    "print(os.getcwd())\n",
    "import Module\n",
    "from Module import sumFunction, multFunction\n",
    "from Module import *\n",
    "\n",
    "num1 = 10\n",
    "num2 = 20\n",
    "\n",
    "output1 = Module.sumFunction(num1, num2)\n",
    "output2 = Module.multFunction(num1, num2)\n",
    "print(output1, iutput2)\n",
    "\n",
    "output3 = sumFunction(num1, num2)\n",
    "output4 = multFunction(num1, num2)\n",
    "print(output1, output2)\n"
   ]
  },
  {
   "cell_type": "code",
   "execution_count": null,
   "id": "6b28ff09-a021-4f8a-8a30-69dcc8236af4",
   "metadata": {},
   "outputs": [],
   "source": [
    "import Module as mod\n",
    "num1 = 10\n",
    "num2 = 20\n",
    "\n",
    "output1 = mod.sumFunction(num1, num2)\n",
    "output2 = mod.multFunction(num1, num2)\n",
    "print(output1, iutput2)"
   ]
  },
  {
   "cell_type": "markdown",
   "id": "a1d89bdf-1d9d-4cf4-9841-9d691262e8e6",
   "metadata": {},
   "source": [
    "### Math Module\n",
    "#### Math Module Functions\n",
    "- math.ceil(value)\n",
    "  - rounds up the value<br><br>\n",
    "- math.floor(value)\n",
    "  - rounds down the value<br><br>\n",
    "- math.fabs(value)\n",
    "  - returns absolute value(positive value for a negetive value)<br><br>\n",
    "- math.factorial(value)\n",
    "  - return the factorial of the value\n",
    "  - takes only positive integer values<br><br>\n",
    "- math.fsum()data structure like list/tuple)\n",
    "  - returns the sum of the passed datastructure(list , tuple etc)<br><br>\n",
    "- math.sqrt(value)\n",
    "  - returns the square root of the value\n"
   ]
  },
  {
   "cell_type": "code",
   "execution_count": 20,
   "id": "747f6929-5098-409b-9f3c-29294666c4bc",
   "metadata": {},
   "outputs": [
    {
     "name": "stdout",
     "output_type": "stream",
     "text": [
      "ceil function\n",
      "11\n",
      "\n",
      "floor function\n",
      "10\n",
      "\n",
      "fabs function\n",
      "10.3\n",
      "\n",
      "factorial function\n",
      "6\n",
      "\n",
      "fsum function\n",
      "15.0\n",
      "\n",
      "sqrt function\n",
      "1.7320508075688772\n",
      "\n"
     ]
    }
   ],
   "source": [
    "import math\n",
    "\n",
    "# ceil\n",
    "print('ceil function')\n",
    "x = 10.3\n",
    "print(math.ceil(x))\n",
    "print()\n",
    "\n",
    "# floor\n",
    "print('floor function')\n",
    "x = 10.8\n",
    "print(math.floor(x))\n",
    "print()\n",
    "\n",
    "# fabs\n",
    "print('fabs function')\n",
    "x = -10.3\n",
    "print(math.fabs(x))\n",
    "print()\n",
    "\n",
    "# factorial\n",
    "print('factorial function')\n",
    "x = 3\n",
    "print(math.factorial(x))\n",
    "print()\n",
    "\n",
    "# fsum\n",
    "print('fsum function')\n",
    "list = [1,2,3,4,5]\n",
    "print(math.fsum(list))\n",
    "print()\n",
    "\n",
    "# sqrt\n",
    "print('sqrt function')\n",
    "x = 3\n",
    "print(math.sqrt(x))\n",
    "print()"
   ]
  },
  {
   "cell_type": "markdown",
   "id": "f60b94b5-b4b7-4905-8cdb-611abf29f030",
   "metadata": {},
   "source": [
    "### Random Module\n",
    "#### Random Module Functions\n",
    "- random.randint(start, end)\n",
    "  - generates a random number/integer between the start and end both included<br><br>\n",
    "- random.randrange(start, end)\n",
    "  - generates a random number/integer between the start and end , end not included<br><br>\n",
    "- random.choice(list)\n",
    "  - returns a random element from the list passed<br><br>\n",
    "- random.random()\n",
    "  - returns a random float number between 0 and 1<br><br>\n",
    "- random.uniform(start, end)\n",
    "  - returns a random float number between start and end<br><br>\n",
    "- random.shuffle(list)\n",
    "  - cant store in a variable since it doesnt create a new list. It returns the same list.\n",
    "  - return a random sequence of the list passed<br><br>"
   ]
  },
  {
   "cell_type": "code",
   "execution_count": 21,
   "id": "f3075a66-58f9-4209-8df9-602d258b686d",
   "metadata": {},
   "outputs": [
    {
     "name": "stdout",
     "output_type": "stream",
     "text": [
      "random.randint\n",
      "6\n",
      "\n",
      "random.randrange\n",
      "2\n",
      "\n",
      "random.choice\n",
      "3\n",
      "\n",
      "random.random\n",
      "0.9019118456673877\n",
      "\n",
      "random.uniform\n",
      "4.713546000500038\n",
      "\n",
      "random.shuffle\n",
      "[3, 2, 4, 1]\n",
      "\n"
     ]
    }
   ],
   "source": [
    "import random\n",
    "\n",
    "# random.randit(start, end both included)\n",
    "print('random.randint')\n",
    "x = random.randint(2,6)\n",
    "print(x)\n",
    "print()\n",
    "\n",
    "# random.randrange(start, end not included)\n",
    "print('random.randrange')\n",
    "x = random.randrange(2,6)\n",
    "print(x)\n",
    "print()\n",
    "\n",
    "# random.choice(list)\n",
    "print('random.choice')\n",
    "list = [1,2,3,4]\n",
    "x = random.choice(list)\n",
    "print(x)\n",
    "print()\n",
    "\n",
    "# random.random()\n",
    "print('random.random')\n",
    "x = random.random()\n",
    "print(x)\n",
    "print()\n",
    "\n",
    "# random.uniform(start, end)\n",
    "print('random.uniform')\n",
    "x = random.uniform(3,7)\n",
    "print(x)\n",
    "print()\n",
    "\n",
    "# random.shuffle(list)\n",
    "print('random.shuffle')\n",
    "list = [1,2,3,4]\n",
    "random.shuffle(list)\n",
    "print(list)\n",
    "print()"
   ]
  },
  {
   "cell_type": "markdown",
   "id": "0a12c011-9ad1-4a7e-9417-97c9cb55f969",
   "metadata": {},
   "source": [
    "### datetime Module\n",
    "#### datetime Module functions\n",
    "\n",
    "- datetime.datetime.now()\n",
    "  - contains current year-month-date hours:minutes:seconds.milliseconds<br><br>\n",
    "- datetime.datetime(year, month, date)\n",
    "  - returns the year-month-date mentioned with time as 00:00:00 <br><br>"
   ]
  },
  {
   "cell_type": "code",
   "execution_count": 22,
   "id": "16eb9674-e329-4771-ad9c-786b10c97d09",
   "metadata": {},
   "outputs": [
    {
     "name": "stdout",
     "output_type": "stream",
     "text": [
      "datetime.datetime.now()\n",
      "2024-05-23 21:39:35.974702\n",
      "\n",
      "datetime.datetime(2001, 12, 31)\n",
      "2001-12-31 00:00:00\n",
      "\n"
     ]
    }
   ],
   "source": [
    "import datetime\n",
    "\n",
    "# print('datetime.datetime.now()')\n",
    "print('datetime.datetime.now()')\n",
    "x = datetime.datetime.now()\n",
    "print(x)\n",
    "print()\n",
    "\n",
    "# print('datetime.datetime(year, month, date)')\n",
    "print('datetime.datetime(2001, 12, 31)')\n",
    "x = datetime.datetime(2001, 12, 31)\n",
    "print(x)\n",
    "print()"
   ]
  },
  {
   "cell_type": "markdown",
   "id": "73b53021-7237-4e73-a86a-875974d7955e",
   "metadata": {},
   "source": [
    "### Pickle Library\n",
    "- used for serializing(storing) or deserializing(read) the data types and structures<br><br>\n",
    "- wb means data writing and rb means data reading\n",
    "#### Pickle methods\n",
    "- dump(text_to_write, opened_text_file)\n",
    "  - serializes an object hierarchy\n",
    "  - write on a text file\n",
    "- load()\n",
    "  - deserialize a data stream\n",
    "  - load and read the written data using dump"
   ]
  },
  {
   "cell_type": "code",
   "execution_count": 23,
   "id": "44368158-a7d5-445e-bb4a-c845b8e411f4",
   "metadata": {},
   "outputs": [
    {
     "data": {
      "text/plain": [
       "{1.1, 3, False, 'guys', 'hello'}"
      ]
     },
     "execution_count": 23,
     "metadata": {},
     "output_type": "execute_result"
    }
   ],
   "source": [
    "import pickle\n",
    "\n",
    "# dump\n",
    "text_to_write = {\"hello\", \"guys\", 1.1, 3, False}\n",
    "\n",
    "opened_text_file = open(\"text.txt\", 'wb')\n",
    "pickle.dump(text_to_write, opened_text_file)\n",
    "\n",
    "opened_text_file.close()\n",
    "\n",
    "# load\n",
    "opened_text_file1 = open(\"text.txt\", \"rb\")\n",
    "pickle.load(opened_text_file1)"
   ]
  },
  {
   "cell_type": "markdown",
   "id": "8e1d0344-b327-444d-a4b1-0abdcd320f2f",
   "metadata": {},
   "source": [
    "### JSON - Javascript Object Notation\n",
    "- used for storing and transferring data between the browser and the server\n",
    "- python supports JSON with the inbuilt package called json\n",
    "- in python json exists as a string\n",
    "- json supports 6 data types:- string, number, boolean, null, object, array"
   ]
  },
  {
   "cell_type": "code",
   "execution_count": 24,
   "id": "80723c13-d8b7-4355-8efc-76e05404925f",
   "metadata": {},
   "outputs": [
    {
     "name": "stdout",
     "output_type": "stream",
     "text": [
      "{'name': 'ws', 'lang': ['c', 'python']} <class 'dict'>\n",
      "\n",
      "{\"name\": \"ws\", \"lang\": [\"c\", \"python\"]} <class 'str'>\n",
      "{'name': 'ws', 'lang': ['c', 'python']} <class 'dict'>\n"
     ]
    }
   ],
   "source": [
    "import json\n",
    "\n",
    "# json format\n",
    "# p = '{'name': 'ws','lang': ['c', 'python']}'\n",
    "\n",
    "# converting a dictionary into a json object\n",
    "# a list can also be made into a json object \n",
    "dict = {'name': 'ws','lang': ['c', 'python']}\n",
    "with open(\"data.json\", \"w\") as file:\n",
    "    json.dump(dict, file)\n",
    "\n",
    "# convert json to python object(dictionary)\n",
    "p = '{\"name\": \"ws\",\"lang\": [\"c\", \"python\"]}'\n",
    "dict = json.loads(p)\n",
    "print(dict, type(dict))\n",
    "print()\n",
    "\n",
    "# reading and writing json file\n",
    "file = open(\"data.json\", \"r\")\n",
    "x = file.read()\n",
    "finaldata = json.loads(x)\n",
    "print(x, type(x))\n",
    "print(finaldata, type(finaldata))"
   ]
  },
  {
   "cell_type": "markdown",
   "id": "b969800f-3b7e-4710-92f4-59ae49d39396",
   "metadata": {},
   "source": [
    "### Object Oriented Programming (OOPS)\n",
    "\n",
    "- self/this is a variable of the class through which we can use methods and variables of the class inside the class itself"
   ]
  },
  {
   "cell_type": "code",
   "execution_count": 25,
   "id": "47b395ce-729a-4cf2-8fd7-5cd022b736e7",
   "metadata": {},
   "outputs": [
    {
     "name": "stdout",
     "output_type": "stream",
     "text": [
      "hello world\n",
      "40\n",
      "100\n",
      "30\n"
     ]
    }
   ],
   "source": [
    "class DemoClass:\n",
    "    a = 10\n",
    "\n",
    "    # constructor is made using __init__ and is automatically called\n",
    "    def __init__(self):\n",
    "        print(\"hello world\")\n",
    "\n",
    "    def sum(self):\n",
    "        print(10+30)\n",
    "\n",
    "    def value(self):\n",
    "        self.b = self.a * self.a\n",
    "        print(self.b)\n",
    "\n",
    "    def argfunction(self, a, b):\n",
    "        print(a+b)\n",
    "        \n",
    "\n",
    "# creating an object of the class\n",
    "object = DemoClass()\n",
    "\n",
    "# calling the variable from the class\n",
    "object.a\n",
    "\n",
    "# calling the function from the class\n",
    "object.sum()\n",
    "object.value()\n",
    "object.argfunction(10,20)"
   ]
  },
  {
   "cell_type": "markdown",
   "id": "e99ea0cd-cfdf-4bdb-aac8-be7456b448d1",
   "metadata": {},
   "source": [
    "#### Inheritance"
   ]
  },
  {
   "cell_type": "code",
   "execution_count": 26,
   "id": "6d91305d-e0d6-4a53-88c5-47cf53a01b45",
   "metadata": {},
   "outputs": [
    {
     "name": "stdout",
     "output_type": "stream",
     "text": [
      "class b function\n",
      "class a function\n"
     ]
    }
   ],
   "source": [
    "# Single Inheritance\n",
    "\n",
    "class A:\n",
    "    def afunct(self):\n",
    "        print(\"class a function\")\n",
    "\n",
    "class B(A):\n",
    "    def bfunct(self):\n",
    "        print(\"class b function\")\n",
    "\n",
    "object_of_class_B = B()\n",
    "object_of_class_B.bfunct()\n",
    "object_of_class_B.afunct()"
   ]
  },
  {
   "cell_type": "code",
   "execution_count": 27,
   "id": "2d6cbcce-9ad2-4659-9208-3c1e13bae8fe",
   "metadata": {},
   "outputs": [
    {
     "name": "stdout",
     "output_type": "stream",
     "text": [
      "class c function\n",
      "class b function\n",
      "class a function\n"
     ]
    }
   ],
   "source": [
    "# Multi Level Inheritance\n",
    "\n",
    "class A:\n",
    "    def afunct(self):\n",
    "        print(\"class a function\")\n",
    "\n",
    "class B(A):\n",
    "    def bfunct(self):\n",
    "        print(\"class b function\")\n",
    "\n",
    "class C(B):\n",
    "    def cfunct(self):\n",
    "        print(\"class c function\")\n",
    "\n",
    "object_of_class_C = C()\n",
    "object_of_class_C.cfunct()\n",
    "object_of_class_C.bfunct()\n",
    "object_of_class_C.afunct()"
   ]
  },
  {
   "cell_type": "code",
   "execution_count": 28,
   "id": "88c7236e-0abe-4a3f-8baa-1572d82099b6",
   "metadata": {},
   "outputs": [
    {
     "name": "stdout",
     "output_type": "stream",
     "text": [
      "class c function\n",
      "class b function\n",
      "class a function\n"
     ]
    }
   ],
   "source": [
    "# Multiple Inheritance\n",
    "\n",
    "class A:\n",
    "    def afunct(self):\n",
    "        print(\"class a function\")\n",
    "\n",
    "class B():\n",
    "    def bfunct(self):\n",
    "        print(\"class b function\")\n",
    "\n",
    "class C(B,A):\n",
    "    def cfunct(self):\n",
    "        print(\"class c function\")\n",
    "\n",
    "object_of_class_C = C()\n",
    "object_of_class_C.cfunct()\n",
    "object_of_class_C.bfunct()\n",
    "object_of_class_C.afunct()"
   ]
  },
  {
   "cell_type": "markdown",
   "id": "1eb9a76b-6909-47e8-8227-a5434c09d672",
   "metadata": {},
   "source": [
    "#### Encapsulation - Getter and Setter\n",
    "\n",
    "- Encapsulation means not showing/giving access of the entire information to the user and hiding necessary info from them\n",
    "- putting double underscore infront of the variable name or function name makes it private\n",
    "- __variable is a private variable which can be used inside the class but cannot be used outside the class\n",
    "- def __function(self) is a private function"
   ]
  },
  {
   "cell_type": "code",
   "execution_count": 29,
   "id": "3ab72a5b-5691-46f5-8249-d2b907f499cf",
   "metadata": {},
   "outputs": [
    {
     "name": "stdout",
     "output_type": "stream",
     "text": [
      "robin\n"
     ]
    }
   ],
   "source": [
    "class Student:\n",
    "    def __init__(self):\n",
    "        self.__name = \"\"\n",
    "\n",
    "    def get_name(self):\n",
    "        return self.__name\n",
    "\n",
    "    def set_name(self, input_name):\n",
    "        self.__name = input_name\n",
    "\n",
    "obj = Student()\n",
    "obj.set_name('robin')\n",
    "\n",
    "name = obj.get_name()\n",
    "print(name)"
   ]
  },
  {
   "cell_type": "markdown",
   "id": "6e30fc20-04ca-4a21-ac69-c618cc661b30",
   "metadata": {},
   "source": [
    "#### Polymorphism\n",
    "- method overriding -> child method overwrites parent method and super().function_name() -> helps us to call the same name function of parent class inside the child class\n",
    "- method overloading -> within the same function we get different outputs based on the number and type of parameters"
   ]
  },
  {
   "cell_type": "code",
   "execution_count": 30,
   "id": "992a5c93-f7c7-4a20-9559-174a53b356a4",
   "metadata": {},
   "outputs": [
    {
     "name": "stdout",
     "output_type": "stream",
     "text": [
      "hello\n",
      "goodbye\n"
     ]
    }
   ],
   "source": [
    "# method overriding\n",
    "class one:\n",
    "    def display(self):\n",
    "        print('hello')\n",
    "\n",
    "class two(one):\n",
    "    def display(self):\n",
    "        super().display()\n",
    "        print('goodbye')\n",
    "\n",
    "obj = two()\n",
    "obj.display()"
   ]
  },
  {
   "cell_type": "code",
   "execution_count": 31,
   "id": "d98dd424-9671-468a-943b-d3f60e499831",
   "metadata": {},
   "outputs": [
    {
     "name": "stdout",
     "output_type": "stream",
     "text": [
      "6\n",
      "16\n",
      "Empty input\n"
     ]
    }
   ],
   "source": [
    "# method overloading\n",
    "\n",
    "class area:\n",
    "    def calculate(self, a = None, b = None):\n",
    "        if a != None and b != None:\n",
    "            print(a*b)\n",
    "        elif a != None:\n",
    "            print(a*a)\n",
    "        elif a == None and b == None:\n",
    "            print('Empty input')\n",
    "\n",
    "obj = area()\n",
    "obj.calculate(2,3)\n",
    "obj.calculate(4)\n",
    "obj.calculate()"
   ]
  },
  {
   "cell_type": "markdown",
   "id": "462b2c44-7082-4a05-87a9-07b2f71c6740",
   "metadata": {},
   "source": [
    "### Python Erros and built-in exceptions\n",
    "- Syntax Error -> cannot be handled, we need to come and fix it in the code itself to make the program run\n",
    "- Logical Error(Exception)\n",
    "    - zero division error -> variable/0\n",
    "    - index out of bound error -> accessing element by using index more than the length of the list\n",
    "    - name error -> name is not defined\n",
    "    - type error -> different datatype (print(10 + '10'))\n",
    "    - value error -> input given doesnt match the type which the program wants to receive (input_value = int(input('enter the value'))), and the input given is a string like 'hello'\n",
    "    - key error -> the key doesnt exist in the dictionary which is tried to be accessed\n",
    "    - module not found error \n",
    "    - import error"
   ]
  },
  {
   "cell_type": "code",
   "execution_count": 32,
   "id": "fac1f6a2-1e96-47e1-93c1-41797ecb4a5c",
   "metadata": {},
   "outputs": [
    {
     "name": "stdin",
     "output_type": "stream",
     "text": [
      "enter the numerator for division 10\n",
      "enter the denominator for division 0\n"
     ]
    },
    {
     "name": "stdout",
     "output_type": "stream",
     "text": [
      "\n",
      "resource opened\n",
      "\n",
      "division by zero\n",
      "oops!! a number cannot be divided by zero\n",
      "\n",
      "resource closed\n",
      "\n",
      "finally: resource closed, finally executes at last no matter the exception occurs or not\n"
     ]
    }
   ],
   "source": [
    "a = int(input('enter the numerator for division'))\n",
    "b = int(input('enter the denominator for division'))\n",
    "\n",
    "try:\n",
    "    print('\\nresource opened\\n')\n",
    "    print(a/b)\n",
    "    print('resource closed\\n')\n",
    "\n",
    "except Exception as e: # e is the object storing the exception\n",
    "    print(e)\n",
    "    print('oops!! a number cannot be divided by zero\\n')\n",
    "    print('resource closed\\n')\n",
    "\n",
    "finally:\n",
    "    print('finally: resource closed, finally executes at last no matter the exception occurs or not')"
   ]
  },
  {
   "cell_type": "code",
   "execution_count": null,
   "id": "1564afc8-6a29-4119-8bae-b02d85743954",
   "metadata": {},
   "outputs": [],
   "source": [
    "# using specific error exceptions\n",
    "try:\n",
    "    a = int(input('enter the numerator for division'))\n",
    "    b = int(input('enter the denominator for division'))\n",
    "    print(a/b)\n",
    "\n",
    "except ZeroDivisionError as e: # e is the object storing the exception\n",
    "    print(e)\n",
    "    print('oops!! a number cannot be divided by zero\\n')\n",
    "\n",
    "except ValueError as e: # e is the object storing the exception\n",
    "    print(e)\n",
    "    print('oops!! pls enter input of int/float type')\n",
    "\n",
    "except Exception as e: # e is the object storing the exception\n",
    "    print(e)\n",
    "    print('something went wrong, this is used when we dont know what exact exception occured')\n"
   ]
  },
  {
   "cell_type": "markdown",
   "id": "6e36db2f-516d-46d2-8668-547791102da1",
   "metadata": {},
   "source": [
    "#### Some concept that can be looked at:\n",
    "- multithreading"
   ]
  },
  {
   "cell_type": "code",
   "execution_count": null,
   "id": "643d473e-2d1e-4de4-813a-6c1802212fa0",
   "metadata": {},
   "outputs": [],
   "source": []
  }
 ],
 "metadata": {
  "kernelspec": {
   "display_name": "Python 3 (ipykernel)",
   "language": "python",
   "name": "python3"
  },
  "language_info": {
   "codemirror_mode": {
    "name": "ipython",
    "version": 3
   },
   "file_extension": ".py",
   "mimetype": "text/x-python",
   "name": "python",
   "nbconvert_exporter": "python",
   "pygments_lexer": "ipython3",
   "version": "3.11.4"
  }
 },
 "nbformat": 4,
 "nbformat_minor": 5
}
