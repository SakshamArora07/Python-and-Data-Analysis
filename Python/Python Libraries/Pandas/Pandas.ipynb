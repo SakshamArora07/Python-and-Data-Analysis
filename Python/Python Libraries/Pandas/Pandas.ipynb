{
 "cells": [
  {
   "cell_type": "markdown",
   "id": "4a79c252-b962-40fc-9da0-e2a25b3ae5da",
   "metadata": {},
   "source": [
    "## Pandas"
   ]
  },
  {
   "cell_type": "markdown",
   "id": "15665d5c-08e9-4198-ba83-5e1aa796bd7e",
   "metadata": {},
   "source": [
    "1. pd.DataFrame(dictionary) -> creating a dataframe from a dictionary<br><br>\n",
    "\n",
    "2. pd.read_csv('path', header = None) -> loading dataset without headers\n",
    "3. df.columns = ['header1', 'header2'] -> setting column names<br><br>\n",
    "\n",
    "4. df.index -> returns the number of rows\n",
    "5. df.index.name -> rename the index column or None\n",
    "6. pd.read_csv('path', index_col = 3) -> set a column as the index column<br><br>\n",
    "\n",
    "7. df.info() -> dtypes and no of non null elements in all columns\n",
    "8. df.describe() -> statistical summary, can handle non numeric columns<br><br>\n",
    "\n",
    "9. df.loc(name of the row/column) -> eg: df5.loc[~((df5['country code'] == 'ASPAC') & (df.cars_per_cap > 201))]\n",
    "10. df.iloc(index starting from 0 from the first row) -> loc works on values<br>they both are used to filter the dataset<br><br>\n",
    "\n",
    "11. df5.query(\"(`country code` == 'ASPAC') and (cars_per_cap > 70)\") -> other way to filter dataset, the string headers with spaces are under `backticks `\n",
    "\n",
    "12. df.drop(['column'], axis = 1) -> dropping a column\n",
    "\n",
    "13.df.drop(index) -> dropping a row<br><br>\n",
    "\n",
    "14. df.to_csv('output.csv', index = False)<br><br>\n",
    "\n",
    "15. df.shape, len(df) -> (rows,columns), no of rows<br><br>\n",
    "\n",
    "16. df[['column1', 'column2']] -> subsettinga dataframe, make sure to have double brackets otherwise a series will be returned in place of a dataframe\n",
    "\n",
    "17. df.select_dtypes('int') -> selecting the column with a specific datatype only<br><br>\n",
    "\n",
    "18. Statistical Summary functions - sum, min, max, std, var, count, quantile, mean, agg to view multiple statistical functions, unique, value_counts<br><br>\n",
    "\n",
    "19. reset_index to provide indexing to the dataset<br><br>\n",
    "\n",
    "20. Advanced Column Methods - rank, shift, cumsum, cumin, cummax, rolling, clip<br><br>\n",
    "\n",
    "21. GroupBy Methods - df5.groupby('country code')[['cars_per_cap']].sum() -> \n",
    "groups by country code and finds the sum of cars_per_cap of all the country codes grouped together<br><br>\n",
    "\n",
    "22.join<br><br>\n",
    "\n",
    "23. New Columns - assign<br><br>\n",
    "\n",
    "24. Sorting - sort_values<br><br>\n",
    "\n",
    "25. Handling Missing Data - isna, isna().sum(), dropna, fillna<br><br>\n",
    "\n",
    "26. Combining Data - copy, pd.concat<br><br>\n",
    "\n",
    "27. Merging Data - df1.merge(df2), pd.merge(df1, df2, on = ['column'])<br><br>\n"
   ]
  },
  {
   "cell_type": "code",
   "execution_count": 1,
   "id": "68416f00-57df-4781-959c-e8e8767591a7",
   "metadata": {},
   "outputs": [
    {
     "name": "stdout",
     "output_type": "stream",
     "text": [
      "system version 3.11.4 (tags/v3.11.4:d2340ef, Jun  7 2023, 05:45:37) [MSC v.1934 64 bit (AMD64)]\n",
      "\n",
      "pandas version 2.1.1\n"
     ]
    }
   ],
   "source": [
    "import pandas as pd\n",
    "import numpy as np\n",
    "import sys\n",
    "print('system version', sys.version)\n",
    "print()\n",
    "print('pandas version', pd.__version__)"
   ]
  },
  {
   "cell_type": "markdown",
   "id": "b238a09d-b0eb-4438-a7d2-e1e9e93f7630",
   "metadata": {},
   "source": [
    "### Creating a dataframe using a dictionary"
   ]
  },
  {
   "cell_type": "code",
   "execution_count": 81,
   "id": "9899b100-9dac-47be-901b-c52e2c421259",
   "metadata": {},
   "outputs": [],
   "source": [
    "## create a dataframe using a dictionary\n",
    "cars_per_cap = [100,234,354,421,235]\n",
    "country = ['india', 'usa', 'canada', 'russia', 'china']\n",
    "drives_right = [True, False, False, False, True]"
   ]
  },
  {
   "cell_type": "code",
   "execution_count": 82,
   "id": "8925bd17-3273-486c-aa16-a9cb9ab73575",
   "metadata": {},
   "outputs": [
    {
     "data": {
      "text/plain": [
       "{'cars_per_cap': [100, 234, 354, 421, 235],\n",
       " 'country': ['india', 'usa', 'canada', 'russia', 'china'],\n",
       " 'drives_right': [True, False, False, False, True]}"
      ]
     },
     "execution_count": 82,
     "metadata": {},
     "output_type": "execute_result"
    }
   ],
   "source": [
    "dic = {\"cars_per_cap\" : cars_per_cap,\n",
    "       \"country\" : country,\n",
    "       \"drives_right\" : drives_right}\n",
    "dic "
   ]
  },
  {
   "cell_type": "code",
   "execution_count": 4,
   "id": "6d8cffc1-c40d-4ff2-8ab2-30715905e8d9",
   "metadata": {},
   "outputs": [
    {
     "data": {
      "text/html": [
       "<div>\n",
       "<style scoped>\n",
       "    .dataframe tbody tr th:only-of-type {\n",
       "        vertical-align: middle;\n",
       "    }\n",
       "\n",
       "    .dataframe tbody tr th {\n",
       "        vertical-align: top;\n",
       "    }\n",
       "\n",
       "    .dataframe thead th {\n",
       "        text-align: right;\n",
       "    }\n",
       "</style>\n",
       "<table border=\"1\" class=\"dataframe\">\n",
       "  <thead>\n",
       "    <tr style=\"text-align: right;\">\n",
       "      <th></th>\n",
       "      <th>cars_per_cap</th>\n",
       "      <th>country</th>\n",
       "      <th>drives_right</th>\n",
       "    </tr>\n",
       "  </thead>\n",
       "  <tbody>\n",
       "    <tr>\n",
       "      <th>0</th>\n",
       "      <td>100</td>\n",
       "      <td>india</td>\n",
       "      <td>True</td>\n",
       "    </tr>\n",
       "    <tr>\n",
       "      <th>1</th>\n",
       "      <td>234</td>\n",
       "      <td>usa</td>\n",
       "      <td>False</td>\n",
       "    </tr>\n",
       "    <tr>\n",
       "      <th>2</th>\n",
       "      <td>354</td>\n",
       "      <td>canada</td>\n",
       "      <td>False</td>\n",
       "    </tr>\n",
       "    <tr>\n",
       "      <th>3</th>\n",
       "      <td>421</td>\n",
       "      <td>russia</td>\n",
       "      <td>False</td>\n",
       "    </tr>\n",
       "    <tr>\n",
       "      <th>4</th>\n",
       "      <td>235</td>\n",
       "      <td>china</td>\n",
       "      <td>True</td>\n",
       "    </tr>\n",
       "  </tbody>\n",
       "</table>\n",
       "</div>"
      ],
      "text/plain": [
       "   cars_per_cap country  drives_right\n",
       "0           100   india          True\n",
       "1           234     usa         False\n",
       "2           354  canada         False\n",
       "3           421  russia         False\n",
       "4           235   china          True"
      ]
     },
     "execution_count": 4,
     "metadata": {},
     "output_type": "execute_result"
    }
   ],
   "source": [
    "df = pd.DataFrame(dic)\n",
    "df"
   ]
  },
  {
   "cell_type": "markdown",
   "id": "29d22aac-4b94-4e66-a5bb-ea5878d2fa5f",
   "metadata": {},
   "source": [
    "### Creating a dataframe using a csv file with no column/header names"
   ]
  },
  {
   "cell_type": "code",
   "execution_count": 5,
   "id": "076e2914-0216-41a3-bade-b875cc3a8082",
   "metadata": {},
   "outputs": [
    {
     "data": {
      "text/html": [
       "<div>\n",
       "<style scoped>\n",
       "    .dataframe tbody tr th:only-of-type {\n",
       "        vertical-align: middle;\n",
       "    }\n",
       "\n",
       "    .dataframe tbody tr th {\n",
       "        vertical-align: top;\n",
       "    }\n",
       "\n",
       "    .dataframe thead th {\n",
       "        text-align: right;\n",
       "    }\n",
       "</style>\n",
       "<table border=\"1\" class=\"dataframe\">\n",
       "  <thead>\n",
       "    <tr style=\"text-align: right;\">\n",
       "      <th></th>\n",
       "      <th>0</th>\n",
       "      <th>1</th>\n",
       "      <th>2</th>\n",
       "      <th>3</th>\n",
       "      <th>4</th>\n",
       "    </tr>\n",
       "  </thead>\n",
       "  <tbody>\n",
       "    <tr>\n",
       "      <th>0</th>\n",
       "      <td>USCA</td>\n",
       "      <td>US</td>\n",
       "      <td>United States</td>\n",
       "      <td>809.0</td>\n",
       "      <td>False</td>\n",
       "    </tr>\n",
       "    <tr>\n",
       "      <th>1</th>\n",
       "      <td>ASPAC</td>\n",
       "      <td>AUS</td>\n",
       "      <td>Austrailia</td>\n",
       "      <td>731.0</td>\n",
       "      <td>True</td>\n",
       "    </tr>\n",
       "    <tr>\n",
       "      <th>2</th>\n",
       "      <td>ASPAC</td>\n",
       "      <td>JAP</td>\n",
       "      <td>Japan</td>\n",
       "      <td>588.0</td>\n",
       "      <td>True</td>\n",
       "    </tr>\n",
       "    <tr>\n",
       "      <th>3</th>\n",
       "      <td>ASPAC</td>\n",
       "      <td>IN</td>\n",
       "      <td>India</td>\n",
       "      <td>18.0</td>\n",
       "      <td>True</td>\n",
       "    </tr>\n",
       "    <tr>\n",
       "      <th>4</th>\n",
       "      <td>ASPAC</td>\n",
       "      <td>RU</td>\n",
       "      <td>Russia</td>\n",
       "      <td>200.0</td>\n",
       "      <td>False</td>\n",
       "    </tr>\n",
       "    <tr>\n",
       "      <th>5</th>\n",
       "      <td>LATAM</td>\n",
       "      <td>MOR</td>\n",
       "      <td>Morocco</td>\n",
       "      <td>70.0</td>\n",
       "      <td>False</td>\n",
       "    </tr>\n",
       "    <tr>\n",
       "      <th>6</th>\n",
       "      <td>AFR</td>\n",
       "      <td>EG</td>\n",
       "      <td>Egypt</td>\n",
       "      <td>45.0</td>\n",
       "      <td>False</td>\n",
       "    </tr>\n",
       "    <tr>\n",
       "      <th>7</th>\n",
       "      <td>EUR</td>\n",
       "      <td>ENG</td>\n",
       "      <td>England</td>\n",
       "      <td>NaN</td>\n",
       "      <td>True</td>\n",
       "    </tr>\n",
       "  </tbody>\n",
       "</table>\n",
       "</div>"
      ],
      "text/plain": [
       "       0    1              2      3       4\n",
       "0   USCA   US  United States  809.0  False \n",
       "1  ASPAC  AUS     Austrailia  731.0   True \n",
       "2  ASPAC  JAP          Japan  588.0   True \n",
       "3  ASPAC   IN          India   18.0   True \n",
       "4  ASPAC   RU         Russia  200.0  False \n",
       "5  LATAM  MOR        Morocco   70.0  False \n",
       "6    AFR   EG          Egypt   45.0  False \n",
       "7    EUR  ENG        England    NaN   True "
      ]
     },
     "execution_count": 5,
     "metadata": {},
     "output_type": "execute_result"
    }
   ],
   "source": [
    "df5 = pd.read_csv('book1.csv', header = None)\n",
    "df5"
   ]
  },
  {
   "cell_type": "markdown",
   "id": "e938e483-1605-4328-8964-faa275ff9457",
   "metadata": {},
   "source": [
    "### Renaming the column names/headers using columns function"
   ]
  },
  {
   "cell_type": "code",
   "execution_count": 6,
   "id": "277c7cc0-ca15-4b55-b459-3b2eb2c29ae2",
   "metadata": {
    "scrolled": true
   },
   "outputs": [
    {
     "name": "stdout",
     "output_type": "stream",
     "text": [
      "  country code region        country  cars_per_cap drives_right\n",
      "0         USCA     US  United States         809.0       False \n",
      "1        ASPAC    AUS     Austrailia         731.0        True \n",
      "2        ASPAC    JAP          Japan         588.0        True \n",
      "3        ASPAC     IN          India          18.0        True \n",
      "4        ASPAC     RU         Russia         200.0       False \n",
      "5        LATAM    MOR        Morocco          70.0       False \n",
      "6          AFR     EG          Egypt          45.0       False \n",
      "7          EUR    ENG        England           NaN        True \n",
      "<class 'pandas.core.frame.DataFrame'>\n"
     ]
    }
   ],
   "source": [
    "df5.columns = ['country code','region', 'country', 'cars_per_cap', 'drives_right']\n",
    "print(df5)\n",
    "print(type(df5))"
   ]
  },
  {
   "cell_type": "markdown",
   "id": "692ee32f-feb5-4cf9-a3e9-1cb10f4d47b4",
   "metadata": {},
   "source": [
    "### Checking how many indices/rows are there"
   ]
  },
  {
   "cell_type": "code",
   "execution_count": 7,
   "id": "a36922dd-a906-4da6-bcbf-2a2edf4be7d6",
   "metadata": {},
   "outputs": [
    {
     "data": {
      "text/plain": [
       "RangeIndex(start=0, stop=8, step=1)"
      ]
     },
     "execution_count": 7,
     "metadata": {},
     "output_type": "execute_result"
    }
   ],
   "source": [
    "df5.index"
   ]
  },
  {
   "cell_type": "markdown",
   "id": "a95718b5-dc53-4a91-8348-af1ae8616b03",
   "metadata": {},
   "source": [
    "### Setting a single column or multiple columns as the index column\n",
    "index_col = column number which you want to set as index column"
   ]
  },
  {
   "cell_type": "code",
   "execution_count": 8,
   "id": "13c93fe4-c245-4905-9326-9fd3557ca37d",
   "metadata": {},
   "outputs": [
    {
     "data": {
      "text/html": [
       "<div>\n",
       "<style scoped>\n",
       "    .dataframe tbody tr th:only-of-type {\n",
       "        vertical-align: middle;\n",
       "    }\n",
       "\n",
       "    .dataframe tbody tr th {\n",
       "        vertical-align: top;\n",
       "    }\n",
       "\n",
       "    .dataframe thead th {\n",
       "        text-align: right;\n",
       "    }\n",
       "</style>\n",
       "<table border=\"1\" class=\"dataframe\">\n",
       "  <thead>\n",
       "    <tr style=\"text-align: right;\">\n",
       "      <th></th>\n",
       "      <th>0</th>\n",
       "      <th>1</th>\n",
       "      <th>2</th>\n",
       "      <th>4</th>\n",
       "    </tr>\n",
       "    <tr>\n",
       "      <th>3</th>\n",
       "      <th></th>\n",
       "      <th></th>\n",
       "      <th></th>\n",
       "      <th></th>\n",
       "    </tr>\n",
       "  </thead>\n",
       "  <tbody>\n",
       "    <tr>\n",
       "      <th>809.0</th>\n",
       "      <td>USCA</td>\n",
       "      <td>US</td>\n",
       "      <td>United States</td>\n",
       "      <td>False</td>\n",
       "    </tr>\n",
       "    <tr>\n",
       "      <th>731.0</th>\n",
       "      <td>ASPAC</td>\n",
       "      <td>AUS</td>\n",
       "      <td>Austrailia</td>\n",
       "      <td>True</td>\n",
       "    </tr>\n",
       "    <tr>\n",
       "      <th>588.0</th>\n",
       "      <td>ASPAC</td>\n",
       "      <td>JAP</td>\n",
       "      <td>Japan</td>\n",
       "      <td>True</td>\n",
       "    </tr>\n",
       "    <tr>\n",
       "      <th>18.0</th>\n",
       "      <td>ASPAC</td>\n",
       "      <td>IN</td>\n",
       "      <td>India</td>\n",
       "      <td>True</td>\n",
       "    </tr>\n",
       "    <tr>\n",
       "      <th>200.0</th>\n",
       "      <td>ASPAC</td>\n",
       "      <td>RU</td>\n",
       "      <td>Russia</td>\n",
       "      <td>False</td>\n",
       "    </tr>\n",
       "    <tr>\n",
       "      <th>70.0</th>\n",
       "      <td>LATAM</td>\n",
       "      <td>MOR</td>\n",
       "      <td>Morocco</td>\n",
       "      <td>False</td>\n",
       "    </tr>\n",
       "    <tr>\n",
       "      <th>45.0</th>\n",
       "      <td>AFR</td>\n",
       "      <td>EG</td>\n",
       "      <td>Egypt</td>\n",
       "      <td>False</td>\n",
       "    </tr>\n",
       "    <tr>\n",
       "      <th>NaN</th>\n",
       "      <td>EUR</td>\n",
       "      <td>ENG</td>\n",
       "      <td>England</td>\n",
       "      <td>True</td>\n",
       "    </tr>\n",
       "  </tbody>\n",
       "</table>\n",
       "</div>"
      ],
      "text/plain": [
       "           0    1              2       4\n",
       "3                                       \n",
       "809.0   USCA   US  United States  False \n",
       "731.0  ASPAC  AUS     Austrailia   True \n",
       "588.0  ASPAC  JAP          Japan   True \n",
       "18.0   ASPAC   IN          India   True \n",
       "200.0  ASPAC   RU         Russia  False \n",
       "70.0   LATAM  MOR        Morocco  False \n",
       "45.0     AFR   EG          Egypt  False \n",
       "NaN      EUR  ENG        England   True "
      ]
     },
     "execution_count": 8,
     "metadata": {},
     "output_type": "execute_result"
    }
   ],
   "source": [
    "df1 = pd.read_csv('book2.csv', header = None, index_col = 3)\n",
    "df1"
   ]
  },
  {
   "cell_type": "code",
   "execution_count": 9,
   "id": "3185d70f-36c6-45c8-9217-a439df8df83b",
   "metadata": {},
   "outputs": [
    {
     "data": {
      "text/html": [
       "<div>\n",
       "<style scoped>\n",
       "    .dataframe tbody tr th:only-of-type {\n",
       "        vertical-align: middle;\n",
       "    }\n",
       "\n",
       "    .dataframe tbody tr th {\n",
       "        vertical-align: top;\n",
       "    }\n",
       "\n",
       "    .dataframe thead th {\n",
       "        text-align: right;\n",
       "    }\n",
       "</style>\n",
       "<table border=\"1\" class=\"dataframe\">\n",
       "  <thead>\n",
       "    <tr style=\"text-align: right;\">\n",
       "      <th></th>\n",
       "      <th></th>\n",
       "      <th>2</th>\n",
       "      <th>3</th>\n",
       "      <th>4</th>\n",
       "    </tr>\n",
       "    <tr>\n",
       "      <th>0</th>\n",
       "      <th>1</th>\n",
       "      <th></th>\n",
       "      <th></th>\n",
       "      <th></th>\n",
       "    </tr>\n",
       "  </thead>\n",
       "  <tbody>\n",
       "    <tr>\n",
       "      <th>USCA</th>\n",
       "      <th>US</th>\n",
       "      <td>United States</td>\n",
       "      <td>809.0</td>\n",
       "      <td>False</td>\n",
       "    </tr>\n",
       "    <tr>\n",
       "      <th rowspan=\"4\" valign=\"top\">ASPAC</th>\n",
       "      <th>AUS</th>\n",
       "      <td>Austrailia</td>\n",
       "      <td>731.0</td>\n",
       "      <td>True</td>\n",
       "    </tr>\n",
       "    <tr>\n",
       "      <th>JAP</th>\n",
       "      <td>Japan</td>\n",
       "      <td>588.0</td>\n",
       "      <td>True</td>\n",
       "    </tr>\n",
       "    <tr>\n",
       "      <th>IN</th>\n",
       "      <td>India</td>\n",
       "      <td>18.0</td>\n",
       "      <td>True</td>\n",
       "    </tr>\n",
       "    <tr>\n",
       "      <th>RU</th>\n",
       "      <td>Russia</td>\n",
       "      <td>200.0</td>\n",
       "      <td>False</td>\n",
       "    </tr>\n",
       "    <tr>\n",
       "      <th>LATAM</th>\n",
       "      <th>MOR</th>\n",
       "      <td>Morocco</td>\n",
       "      <td>70.0</td>\n",
       "      <td>False</td>\n",
       "    </tr>\n",
       "    <tr>\n",
       "      <th>AFR</th>\n",
       "      <th>EG</th>\n",
       "      <td>Egypt</td>\n",
       "      <td>45.0</td>\n",
       "      <td>False</td>\n",
       "    </tr>\n",
       "    <tr>\n",
       "      <th>EUR</th>\n",
       "      <th>ENG</th>\n",
       "      <td>England</td>\n",
       "      <td>NaN</td>\n",
       "      <td>True</td>\n",
       "    </tr>\n",
       "  </tbody>\n",
       "</table>\n",
       "</div>"
      ],
      "text/plain": [
       "                       2      3       4\n",
       "0     1                                \n",
       "USCA  US   United States  809.0  False \n",
       "ASPAC AUS     Austrailia  731.0   True \n",
       "      JAP          Japan  588.0   True \n",
       "      IN           India   18.0   True \n",
       "      RU          Russia  200.0  False \n",
       "LATAM MOR        Morocco   70.0  False \n",
       "AFR   EG           Egypt   45.0  False \n",
       "EUR   ENG        England    NaN   True "
      ]
     },
     "execution_count": 9,
     "metadata": {},
     "output_type": "execute_result"
    }
   ],
   "source": [
    "df2 = pd.read_csv('book2.csv', header = None, index_col = [0,1])\n",
    "df2"
   ]
  },
  {
   "cell_type": "code",
   "execution_count": 10,
   "id": "885f66db-9931-4801-a98e-6f2e0b049936",
   "metadata": {},
   "outputs": [
    {
     "data": {
      "text/html": [
       "<div>\n",
       "<style scoped>\n",
       "    .dataframe tbody tr th:only-of-type {\n",
       "        vertical-align: middle;\n",
       "    }\n",
       "\n",
       "    .dataframe tbody tr th {\n",
       "        vertical-align: top;\n",
       "    }\n",
       "\n",
       "    .dataframe thead th {\n",
       "        text-align: right;\n",
       "    }\n",
       "</style>\n",
       "<table border=\"1\" class=\"dataframe\">\n",
       "  <thead>\n",
       "    <tr style=\"text-align: right;\">\n",
       "      <th></th>\n",
       "      <th>country code</th>\n",
       "      <th>region</th>\n",
       "      <th>country</th>\n",
       "      <th>drives_right</th>\n",
       "    </tr>\n",
       "    <tr>\n",
       "      <th>3</th>\n",
       "      <th></th>\n",
       "      <th></th>\n",
       "      <th></th>\n",
       "      <th></th>\n",
       "    </tr>\n",
       "  </thead>\n",
       "  <tbody>\n",
       "    <tr>\n",
       "      <th>809.0</th>\n",
       "      <td>USCA</td>\n",
       "      <td>US</td>\n",
       "      <td>United States</td>\n",
       "      <td>False</td>\n",
       "    </tr>\n",
       "    <tr>\n",
       "      <th>731.0</th>\n",
       "      <td>ASPAC</td>\n",
       "      <td>AUS</td>\n",
       "      <td>Austrailia</td>\n",
       "      <td>True</td>\n",
       "    </tr>\n",
       "    <tr>\n",
       "      <th>588.0</th>\n",
       "      <td>ASPAC</td>\n",
       "      <td>JAP</td>\n",
       "      <td>Japan</td>\n",
       "      <td>True</td>\n",
       "    </tr>\n",
       "    <tr>\n",
       "      <th>18.0</th>\n",
       "      <td>ASPAC</td>\n",
       "      <td>IN</td>\n",
       "      <td>India</td>\n",
       "      <td>True</td>\n",
       "    </tr>\n",
       "    <tr>\n",
       "      <th>200.0</th>\n",
       "      <td>ASPAC</td>\n",
       "      <td>RU</td>\n",
       "      <td>Russia</td>\n",
       "      <td>False</td>\n",
       "    </tr>\n",
       "    <tr>\n",
       "      <th>70.0</th>\n",
       "      <td>LATAM</td>\n",
       "      <td>MOR</td>\n",
       "      <td>Morocco</td>\n",
       "      <td>False</td>\n",
       "    </tr>\n",
       "    <tr>\n",
       "      <th>45.0</th>\n",
       "      <td>AFR</td>\n",
       "      <td>EG</td>\n",
       "      <td>Egypt</td>\n",
       "      <td>False</td>\n",
       "    </tr>\n",
       "    <tr>\n",
       "      <th>NaN</th>\n",
       "      <td>EUR</td>\n",
       "      <td>ENG</td>\n",
       "      <td>England</td>\n",
       "      <td>True</td>\n",
       "    </tr>\n",
       "  </tbody>\n",
       "</table>\n",
       "</div>"
      ],
      "text/plain": [
       "      country code region        country drives_right\n",
       "3                                                    \n",
       "809.0         USCA     US  United States       False \n",
       "731.0        ASPAC    AUS     Austrailia        True \n",
       "588.0        ASPAC    JAP          Japan        True \n",
       "18.0         ASPAC     IN          India        True \n",
       "200.0        ASPAC     RU         Russia       False \n",
       "70.0         LATAM    MOR        Morocco       False \n",
       "45.0           AFR     EG          Egypt       False \n",
       "NaN            EUR    ENG        England        True "
      ]
     },
     "execution_count": 10,
     "metadata": {},
     "output_type": "execute_result"
    }
   ],
   "source": [
    "df1.columns = ['country code', 'region','country', 'drives_right']\n",
    "df1"
   ]
  },
  {
   "cell_type": "code",
   "execution_count": 11,
   "id": "421dda6f-f0db-436b-9087-40940438e924",
   "metadata": {},
   "outputs": [
    {
     "data": {
      "text/plain": [
       "Index([809.0, 731.0, 588.0, 18.0, 200.0, 70.0, 45.0, nan], dtype='float64', name=3)"
      ]
     },
     "execution_count": 11,
     "metadata": {},
     "output_type": "execute_result"
    }
   ],
   "source": [
    "df1.index"
   ]
  },
  {
   "cell_type": "markdown",
   "id": "48709bc0-c0e0-4b12-bc97-752d81e03c52",
   "metadata": {},
   "source": [
    "### Rename/delete the name of the index column"
   ]
  },
  {
   "cell_type": "code",
   "execution_count": 12,
   "id": "ae90bbba-cf57-42d9-a585-3a9571af0903",
   "metadata": {},
   "outputs": [
    {
     "name": "stdout",
     "output_type": "stream",
     "text": [
      "             country code region        country drives_right\n",
      "cars_per_cap                                                \n",
      "809.0                USCA     US  United States       False \n",
      "731.0               ASPAC    AUS     Austrailia        True \n",
      "588.0               ASPAC    JAP          Japan        True \n",
      "18.0                ASPAC     IN          India        True \n",
      "200.0               ASPAC     RU         Russia       False \n",
      "70.0                LATAM    MOR        Morocco       False \n",
      "45.0                  AFR     EG          Egypt       False \n",
      "NaN                   EUR    ENG        England        True \n",
      "      country code region        country drives_right\n",
      "809.0         USCA     US  United States       False \n",
      "731.0        ASPAC    AUS     Austrailia        True \n",
      "588.0        ASPAC    JAP          Japan        True \n",
      "18.0         ASPAC     IN          India        True \n",
      "200.0        ASPAC     RU         Russia       False \n",
      "70.0         LATAM    MOR        Morocco       False \n",
      "45.0           AFR     EG          Egypt       False \n",
      "NaN            EUR    ENG        England        True \n"
     ]
    }
   ],
   "source": [
    "df1.index.name = 'cars_per_cap' # rename\n",
    "print(df1)\n",
    "\n",
    "df1.index.name = None # delete\n",
    "print(df1)\n"
   ]
  },
  {
   "cell_type": "markdown",
   "id": "8d8eafad-60be-4d11-90fe-6456b7622269",
   "metadata": {},
   "source": [
    "### Display first 3 rows and last 3 rows of the dataset"
   ]
  },
  {
   "cell_type": "code",
   "execution_count": 13,
   "id": "6a5b3348-2fef-4bb0-807a-ec238f0a9a16",
   "metadata": {},
   "outputs": [
    {
     "name": "stdout",
     "output_type": "stream",
     "text": [
      "      country code region        country drives_right\n",
      "809.0         USCA     US  United States       False \n",
      "731.0        ASPAC    AUS     Austrailia        True \n",
      "588.0        ASPAC    JAP          Japan        True \n",
      "     country code region  country drives_right\n",
      "70.0        LATAM    MOR  Morocco       False \n",
      "45.0          AFR     EG    Egypt       False \n",
      "NaN           EUR    ENG  England        True \n"
     ]
    }
   ],
   "source": [
    "print(df1.head(3))\n",
    "print(df1.tail(3))"
   ]
  },
  {
   "cell_type": "markdown",
   "id": "b7676c14-7b25-4628-bdf2-156ab5373dea",
   "metadata": {},
   "source": [
    "### Display the information about the data stored in the dataframe"
   ]
  },
  {
   "cell_type": "code",
   "execution_count": 14,
   "id": "6ef4a363-b8ba-4376-a9f0-a8f44dbe2983",
   "metadata": {},
   "outputs": [
    {
     "name": "stdout",
     "output_type": "stream",
     "text": [
      "<class 'pandas.core.frame.DataFrame'>\n",
      "Index: 8 entries, 809.0 to nan\n",
      "Data columns (total 4 columns):\n",
      " #   Column        Non-Null Count  Dtype \n",
      "---  ------        --------------  ----- \n",
      " 0   country code  8 non-null      object\n",
      " 1   region        8 non-null      object\n",
      " 2   country       8 non-null      object\n",
      " 3   drives_right  8 non-null      object\n",
      "dtypes: object(4)\n",
      "memory usage: 320.0+ bytes\n"
     ]
    }
   ],
   "source": [
    "df1.info()"
   ]
  },
  {
   "cell_type": "markdown",
   "id": "9df3bf63-07e7-4349-81c6-474151d4fcec",
   "metadata": {},
   "source": [
    "### Display the statistical information of the dataset"
   ]
  },
  {
   "cell_type": "code",
   "execution_count": 15,
   "id": "c5b5d119-4826-468e-bb6e-bcfe712d2cf0",
   "metadata": {},
   "outputs": [
    {
     "name": "stdout",
     "output_type": "stream",
     "text": [
      "       country code region        country drives_right\n",
      "count             8      8              8            8\n",
      "unique            5      8              8            2\n",
      "top           ASPAC     US  United States       False \n",
      "freq              4      1              1            4\n"
     ]
    }
   ],
   "source": [
    "print(df1.describe()) # for the whole dataset"
   ]
  },
  {
   "cell_type": "code",
   "execution_count": 16,
   "id": "33b652c1-5290-4481-bac8-78d6f43db55c",
   "metadata": {},
   "outputs": [
    {
     "name": "stdout",
     "output_type": "stream",
     "text": [
      "809.0     US\n",
      "731.0    AUS\n",
      "588.0    JAP\n",
      "18.0      IN\n",
      "200.0     RU\n",
      "70.0     MOR\n",
      "45.0      EG\n",
      "NaN      ENG\n",
      "Name: region, dtype: object\n",
      "<class 'pandas.core.frame.DataFrame'>\n",
      "      region\n",
      "809.0     US\n",
      "731.0    AUS\n",
      "588.0    JAP\n",
      "18.0      IN\n",
      "200.0     RU\n",
      "70.0     MOR\n",
      "45.0      EG\n",
      "NaN      ENG\n",
      "<class 'pandas.core.frame.DataFrame'>\n"
     ]
    }
   ],
   "source": [
    "print(df1['region']) #  as a series although here its showing as dataframe only\n",
    "print(type(df1))\n",
    "print(df1[['region']]) # as a dataframe \n",
    "print(type(df1))"
   ]
  },
  {
   "cell_type": "markdown",
   "id": "33490af6-0b77-4199-8cfd-6cd411e4fba5",
   "metadata": {},
   "source": [
    "### Note : iloc uses index number/name and loc uses row name or column name"
   ]
  },
  {
   "cell_type": "markdown",
   "id": "72a7afd4-1289-4864-bc2b-c14a0424eeeb",
   "metadata": {},
   "source": [
    "### Access specific data from their row index - iloc"
   ]
  },
  {
   "cell_type": "code",
   "execution_count": 17,
   "id": "33ae522b-ee26-46e2-b07c-a17b900ef3ca",
   "metadata": {},
   "outputs": [
    {
     "data": {
      "text/plain": [
       "country code       AFR\n",
       "region              EG\n",
       "country          Egypt\n",
       "drives_right    False \n",
       "Name: 45.0, dtype: object"
      ]
     },
     "execution_count": 17,
     "metadata": {},
     "output_type": "execute_result"
    }
   ],
   "source": [
    "df1.iloc[6] "
   ]
  },
  {
   "cell_type": "markdown",
   "id": "8f68a44c-459b-4b27-bfe3-e0dced6b563a",
   "metadata": {},
   "source": [
    "### Access specific data based on their index name/number - loc"
   ]
  },
  {
   "cell_type": "code",
   "execution_count": 18,
   "id": "f057a966-8a56-4927-804d-a274e6b34cd2",
   "metadata": {},
   "outputs": [
    {
     "data": {
      "text/plain": [
       "country code     ASPAC\n",
       "region              RU\n",
       "country         Russia\n",
       "drives_right    False \n",
       "Name: 200.0, dtype: object"
      ]
     },
     "execution_count": 18,
     "metadata": {},
     "output_type": "execute_result"
    }
   ],
   "source": [
    "df1.loc[200]"
   ]
  },
  {
   "cell_type": "markdown",
   "id": "768c646a-9210-47ee-8b0a-2f9a91232320",
   "metadata": {},
   "source": [
    "### Display multiple selective columns together - direct way or iloc way or loc way"
   ]
  },
  {
   "cell_type": "code",
   "execution_count": 19,
   "id": "136a0e99-53fe-42ae-92a3-3adaf70a9655",
   "metadata": {},
   "outputs": [
    {
     "name": "stdout",
     "output_type": "stream",
     "text": [
      "      country code        country\n",
      "809.0         USCA  United States\n",
      "731.0        ASPAC     Austrailia\n",
      "588.0        ASPAC          Japan\n",
      "18.0         ASPAC          India\n",
      "200.0        ASPAC         Russia\n",
      "70.0         LATAM        Morocco\n",
      "45.0           AFR          Egypt\n",
      "NaN            EUR        England\n",
      "      country code drives_right\n",
      "809.0         USCA       False \n",
      "731.0        ASPAC        True \n",
      "588.0        ASPAC        True \n",
      "18.0         ASPAC        True \n",
      "200.0        ASPAC       False \n",
      "70.0         LATAM       False \n",
      "45.0           AFR       False \n",
      "NaN            EUR        True \n",
      "             country country code\n",
      "809.0  United States         USCA\n",
      "731.0     Austrailia        ASPAC\n",
      "588.0          Japan        ASPAC\n",
      "18.0           India        ASPAC\n",
      "200.0         Russia        ASPAC\n",
      "70.0         Morocco        LATAM\n",
      "45.0           Egypt          AFR\n",
      "NaN          England          EUR\n"
     ]
    }
   ],
   "source": [
    "print(df1[['country code','country']])\n",
    "# or\n",
    "print(df1.iloc[: ,[0,3]]) # displays all rows of 0th and 3rd column of the dataset\n",
    "# or\n",
    "print(df1.loc[: , ['country','country code']]) # displays all rows of the country and country code columns"
   ]
  },
  {
   "cell_type": "markdown",
   "id": "cb944de4-0872-46be-a954-cf88a40abdd4",
   "metadata": {},
   "source": [
    "### Removing a column"
   ]
  },
  {
   "cell_type": "code",
   "execution_count": 20,
   "id": "dc41514c-8823-4ebd-b2f7-0c0e7c171107",
   "metadata": {},
   "outputs": [
    {
     "data": {
      "text/html": [
       "<div>\n",
       "<style scoped>\n",
       "    .dataframe tbody tr th:only-of-type {\n",
       "        vertical-align: middle;\n",
       "    }\n",
       "\n",
       "    .dataframe tbody tr th {\n",
       "        vertical-align: top;\n",
       "    }\n",
       "\n",
       "    .dataframe thead th {\n",
       "        text-align: right;\n",
       "    }\n",
       "</style>\n",
       "<table border=\"1\" class=\"dataframe\">\n",
       "  <thead>\n",
       "    <tr style=\"text-align: right;\">\n",
       "      <th></th>\n",
       "      <th>cars_per_cap</th>\n",
       "      <th>drives_right</th>\n",
       "    </tr>\n",
       "  </thead>\n",
       "  <tbody>\n",
       "    <tr>\n",
       "      <th>0</th>\n",
       "      <td>100</td>\n",
       "      <td>True</td>\n",
       "    </tr>\n",
       "    <tr>\n",
       "      <th>1</th>\n",
       "      <td>234</td>\n",
       "      <td>False</td>\n",
       "    </tr>\n",
       "    <tr>\n",
       "      <th>2</th>\n",
       "      <td>354</td>\n",
       "      <td>False</td>\n",
       "    </tr>\n",
       "    <tr>\n",
       "      <th>3</th>\n",
       "      <td>421</td>\n",
       "      <td>False</td>\n",
       "    </tr>\n",
       "    <tr>\n",
       "      <th>4</th>\n",
       "      <td>235</td>\n",
       "      <td>True</td>\n",
       "    </tr>\n",
       "  </tbody>\n",
       "</table>\n",
       "</div>"
      ],
      "text/plain": [
       "   cars_per_cap  drives_right\n",
       "0           100          True\n",
       "1           234         False\n",
       "2           354         False\n",
       "3           421         False\n",
       "4           235          True"
      ]
     },
     "execution_count": 20,
     "metadata": {},
     "output_type": "execute_result"
    }
   ],
   "source": [
    "df2 = df.drop(['country'], axis = 1)\n",
    "df2.head()"
   ]
  },
  {
   "cell_type": "markdown",
   "id": "f19960c1-2291-421b-9e89-bc8278e6cebb",
   "metadata": {},
   "source": [
    "#### Removing a row"
   ]
  },
  {
   "cell_type": "code",
   "execution_count": 85,
   "id": "2effcbdb-96bb-43f5-93b6-8655da9f6894",
   "metadata": {},
   "outputs": [
    {
     "data": {
      "text/html": [
       "<div>\n",
       "<style scoped>\n",
       "    .dataframe tbody tr th:only-of-type {\n",
       "        vertical-align: middle;\n",
       "    }\n",
       "\n",
       "    .dataframe tbody tr th {\n",
       "        vertical-align: top;\n",
       "    }\n",
       "\n",
       "    .dataframe thead th {\n",
       "        text-align: right;\n",
       "    }\n",
       "</style>\n",
       "<table border=\"1\" class=\"dataframe\">\n",
       "  <thead>\n",
       "    <tr style=\"text-align: right;\">\n",
       "      <th></th>\n",
       "      <th>cars_per_cap</th>\n",
       "      <th>country</th>\n",
       "      <th>drives_right</th>\n",
       "    </tr>\n",
       "  </thead>\n",
       "  <tbody>\n",
       "    <tr>\n",
       "      <th>1</th>\n",
       "      <td>234</td>\n",
       "      <td>usa</td>\n",
       "      <td>False</td>\n",
       "    </tr>\n",
       "    <tr>\n",
       "      <th>2</th>\n",
       "      <td>354</td>\n",
       "      <td>canada</td>\n",
       "      <td>False</td>\n",
       "    </tr>\n",
       "    <tr>\n",
       "      <th>3</th>\n",
       "      <td>421</td>\n",
       "      <td>russia</td>\n",
       "      <td>False</td>\n",
       "    </tr>\n",
       "    <tr>\n",
       "      <th>4</th>\n",
       "      <td>235</td>\n",
       "      <td>china</td>\n",
       "      <td>True</td>\n",
       "    </tr>\n",
       "  </tbody>\n",
       "</table>\n",
       "</div>"
      ],
      "text/plain": [
       "   cars_per_cap country  drives_right\n",
       "1           234     usa         False\n",
       "2           354  canada         False\n",
       "3           421  russia         False\n",
       "4           235   china          True"
      ]
     },
     "execution_count": 85,
     "metadata": {},
     "output_type": "execute_result"
    }
   ],
   "source": [
    "df2 = df.drop(0)\n",
    "df2\n",
    "# removes the row of the mentioned index"
   ]
  },
  {
   "cell_type": "markdown",
   "id": "6af64981-57ca-4f3d-a428-793243f6e04b",
   "metadata": {},
   "source": [
    "### Saving a notebook as a csv file"
   ]
  },
  {
   "cell_type": "code",
   "execution_count": 86,
   "id": "00237870-1702-4977-8287-816e211b7049",
   "metadata": {},
   "outputs": [],
   "source": [
    "df.to_csv('output.csv', index = False) # index = False so that the index is not saved when it doesnt have relevant info"
   ]
  },
  {
   "cell_type": "markdown",
   "id": "0c86045c-369f-45f3-93fe-6c9796f4b2e9",
   "metadata": {},
   "source": [
    "### Sample vs Head - sample gives random data for displaying"
   ]
  },
  {
   "cell_type": "code",
   "execution_count": 22,
   "id": "95bb87ff-83f0-428d-a864-d0839e18d606",
   "metadata": {},
   "outputs": [
    {
     "data": {
      "text/html": [
       "<div>\n",
       "<style scoped>\n",
       "    .dataframe tbody tr th:only-of-type {\n",
       "        vertical-align: middle;\n",
       "    }\n",
       "\n",
       "    .dataframe tbody tr th {\n",
       "        vertical-align: top;\n",
       "    }\n",
       "\n",
       "    .dataframe thead th {\n",
       "        text-align: right;\n",
       "    }\n",
       "</style>\n",
       "<table border=\"1\" class=\"dataframe\">\n",
       "  <thead>\n",
       "    <tr style=\"text-align: right;\">\n",
       "      <th></th>\n",
       "      <th>cars_per_cap</th>\n",
       "      <th>country</th>\n",
       "      <th>drives_right</th>\n",
       "    </tr>\n",
       "  </thead>\n",
       "  <tbody>\n",
       "    <tr>\n",
       "      <th>4</th>\n",
       "      <td>235</td>\n",
       "      <td>china</td>\n",
       "      <td>True</td>\n",
       "    </tr>\n",
       "    <tr>\n",
       "      <th>3</th>\n",
       "      <td>421</td>\n",
       "      <td>russia</td>\n",
       "      <td>False</td>\n",
       "    </tr>\n",
       "  </tbody>\n",
       "</table>\n",
       "</div>"
      ],
      "text/plain": [
       "   cars_per_cap country  drives_right\n",
       "4           235   china          True\n",
       "3           421  russia         False"
      ]
     },
     "execution_count": 22,
     "metadata": {},
     "output_type": "execute_result"
    }
   ],
   "source": [
    "df.sample(4)\n",
    "df.sample(frac = 0.4, random_state = 26) # frac is the fraction of dataset that you want to see, random state helps in reproducability"
   ]
  },
  {
   "cell_type": "markdown",
   "id": "3a223dc6-27cb-4c48-8e48-048c4fa1efd8",
   "metadata": {},
   "source": [
    "### View column names and their index"
   ]
  },
  {
   "cell_type": "code",
   "execution_count": 23,
   "id": "f3466e3a-5315-4db4-9b60-6db2207ccec0",
   "metadata": {},
   "outputs": [
    {
     "data": {
      "text/plain": [
       "Index(['cars_per_cap', 'country', 'drives_right'], dtype='object')"
      ]
     },
     "execution_count": 23,
     "metadata": {},
     "output_type": "execute_result"
    }
   ],
   "source": [
    "df.columns"
   ]
  },
  {
   "cell_type": "code",
   "execution_count": 24,
   "id": "eb58bb2c-a3a7-4223-a665-8e38a5d3bf15",
   "metadata": {},
   "outputs": [
    {
     "data": {
      "text/plain": [
       "RangeIndex(start=0, stop=5, step=1)"
      ]
     },
     "execution_count": 24,
     "metadata": {},
     "output_type": "execute_result"
    }
   ],
   "source": [
    "df.index"
   ]
  },
  {
   "cell_type": "markdown",
   "id": "152364e1-bf55-4bba-a7b6-c23708ef0f87",
   "metadata": {},
   "source": [
    "### Information about the dataframe and its columns"
   ]
  },
  {
   "cell_type": "code",
   "execution_count": 25,
   "id": "7ba2afc6-f747-4812-b044-092cefcfedfd",
   "metadata": {},
   "outputs": [
    {
     "name": "stdout",
     "output_type": "stream",
     "text": [
      "<class 'pandas.core.frame.DataFrame'>\n",
      "RangeIndex: 5 entries, 0 to 4\n",
      "Data columns (total 3 columns):\n",
      " #   Column        Non-Null Count  Dtype \n",
      "---  ------        --------------  ----- \n",
      " 0   cars_per_cap  5 non-null      int64 \n",
      " 1   country       5 non-null      object\n",
      " 2   drives_right  5 non-null      bool  \n",
      "dtypes: bool(1), int64(1), object(1)\n",
      "memory usage: 217.0+ bytes\n",
      "\n",
      "<class 'pandas.core.frame.DataFrame'>\n",
      "RangeIndex: 5 entries, 0 to 4\n",
      "Columns: 3 entries, cars_per_cap to drives_right\n",
      "dtypes: bool(1), int64(1), object(1)\n",
      "memory usage: 217.0+ bytes\n"
     ]
    }
   ],
   "source": [
    "df.info()\n",
    "print()\n",
    "df.info(verbose = False) # for quicker summary"
   ]
  },
  {
   "cell_type": "code",
   "execution_count": 26,
   "id": "02ff3713-9f3d-4c77-ab1c-a8a0da771357",
   "metadata": {},
   "outputs": [
    {
     "data": {
      "text/html": [
       "<div>\n",
       "<style scoped>\n",
       "    .dataframe tbody tr th:only-of-type {\n",
       "        vertical-align: middle;\n",
       "    }\n",
       "\n",
       "    .dataframe tbody tr th {\n",
       "        vertical-align: top;\n",
       "    }\n",
       "\n",
       "    .dataframe thead th {\n",
       "        text-align: right;\n",
       "    }\n",
       "</style>\n",
       "<table border=\"1\" class=\"dataframe\">\n",
       "  <thead>\n",
       "    <tr style=\"text-align: right;\">\n",
       "      <th></th>\n",
       "      <th>cars_per_cap</th>\n",
       "    </tr>\n",
       "  </thead>\n",
       "  <tbody>\n",
       "    <tr>\n",
       "      <th>count</th>\n",
       "      <td>5.000000</td>\n",
       "    </tr>\n",
       "    <tr>\n",
       "      <th>mean</th>\n",
       "      <td>268.800000</td>\n",
       "    </tr>\n",
       "    <tr>\n",
       "      <th>std</th>\n",
       "      <td>123.764696</td>\n",
       "    </tr>\n",
       "    <tr>\n",
       "      <th>min</th>\n",
       "      <td>100.000000</td>\n",
       "    </tr>\n",
       "    <tr>\n",
       "      <th>25%</th>\n",
       "      <td>234.000000</td>\n",
       "    </tr>\n",
       "    <tr>\n",
       "      <th>50%</th>\n",
       "      <td>235.000000</td>\n",
       "    </tr>\n",
       "    <tr>\n",
       "      <th>75%</th>\n",
       "      <td>354.000000</td>\n",
       "    </tr>\n",
       "    <tr>\n",
       "      <th>max</th>\n",
       "      <td>421.000000</td>\n",
       "    </tr>\n",
       "  </tbody>\n",
       "</table>\n",
       "</div>"
      ],
      "text/plain": [
       "       cars_per_cap\n",
       "count      5.000000\n",
       "mean     268.800000\n",
       "std      123.764696\n",
       "min      100.000000\n",
       "25%      234.000000\n",
       "50%      235.000000\n",
       "75%      354.000000\n",
       "max      421.000000"
      ]
     },
     "execution_count": 26,
     "metadata": {},
     "output_type": "execute_result"
    }
   ],
   "source": [
    "df.describe() # can also handle non numeric columns"
   ]
  },
  {
   "cell_type": "code",
   "execution_count": 27,
   "id": "061f382f-89ca-47eb-8e82-0dfcd5f3b922",
   "metadata": {},
   "outputs": [
    {
     "data": {
      "text/plain": [
       "((5, 3), 5)"
      ]
     },
     "execution_count": 27,
     "metadata": {},
     "output_type": "execute_result"
    }
   ],
   "source": [
    "df.shape, len(df) # len is same as the number of rows"
   ]
  },
  {
   "cell_type": "markdown",
   "id": "03add0ca-5d31-4dfd-8c91-30449095fb1b",
   "metadata": {},
   "source": [
    "### subsetting a dataframe"
   ]
  },
  {
   "cell_type": "code",
   "execution_count": 28,
   "id": "150de0d9-f18b-44bb-8c57-24213d87a352",
   "metadata": {},
   "outputs": [
    {
     "data": {
      "text/html": [
       "<div>\n",
       "<style scoped>\n",
       "    .dataframe tbody tr th:only-of-type {\n",
       "        vertical-align: middle;\n",
       "    }\n",
       "\n",
       "    .dataframe tbody tr th {\n",
       "        vertical-align: top;\n",
       "    }\n",
       "\n",
       "    .dataframe thead th {\n",
       "        text-align: right;\n",
       "    }\n",
       "</style>\n",
       "<table border=\"1\" class=\"dataframe\">\n",
       "  <thead>\n",
       "    <tr style=\"text-align: right;\">\n",
       "      <th></th>\n",
       "      <th>cars_per_cap</th>\n",
       "    </tr>\n",
       "  </thead>\n",
       "  <tbody>\n",
       "    <tr>\n",
       "      <th>0</th>\n",
       "      <td>100</td>\n",
       "    </tr>\n",
       "    <tr>\n",
       "      <th>1</th>\n",
       "      <td>234</td>\n",
       "    </tr>\n",
       "    <tr>\n",
       "      <th>2</th>\n",
       "      <td>354</td>\n",
       "    </tr>\n",
       "    <tr>\n",
       "      <th>3</th>\n",
       "      <td>421</td>\n",
       "    </tr>\n",
       "    <tr>\n",
       "      <th>4</th>\n",
       "      <td>235</td>\n",
       "    </tr>\n",
       "  </tbody>\n",
       "</table>\n",
       "</div>"
      ],
      "text/plain": [
       "   cars_per_cap\n",
       "0           100\n",
       "1           234\n",
       "2           354\n",
       "3           421\n",
       "4           235"
      ]
     },
     "execution_count": 28,
     "metadata": {},
     "output_type": "execute_result"
    }
   ],
   "source": [
    "# subsetting based on columns\n",
    "df[['cars_per_cap', 'country']] # make sure to have double brackets otherwise in case of single columns if we dont use double brackets then a series will be returned in place of a dataframe\n",
    "\n",
    "df[df.columns[:2]] # first two columns\n",
    "\n",
    "df.select_dtypes('int') # selects integer columns"
   ]
  },
  {
   "cell_type": "code",
   "execution_count": 29,
   "id": "8a5aea59-69f2-4520-af3d-8e3b5b5a3ff8",
   "metadata": {},
   "outputs": [
    {
     "data": {
      "text/html": [
       "<div>\n",
       "<style scoped>\n",
       "    .dataframe tbody tr th:only-of-type {\n",
       "        vertical-align: middle;\n",
       "    }\n",
       "\n",
       "    .dataframe tbody tr th {\n",
       "        vertical-align: top;\n",
       "    }\n",
       "\n",
       "    .dataframe thead th {\n",
       "        text-align: right;\n",
       "    }\n",
       "</style>\n",
       "<table border=\"1\" class=\"dataframe\">\n",
       "  <thead>\n",
       "    <tr style=\"text-align: right;\">\n",
       "      <th></th>\n",
       "      <th>cars_per_cap</th>\n",
       "    </tr>\n",
       "  </thead>\n",
       "  <tbody>\n",
       "    <tr>\n",
       "      <th>0</th>\n",
       "      <td>100</td>\n",
       "    </tr>\n",
       "    <tr>\n",
       "      <th>1</th>\n",
       "      <td>234</td>\n",
       "    </tr>\n",
       "    <tr>\n",
       "      <th>2</th>\n",
       "      <td>354</td>\n",
       "    </tr>\n",
       "    <tr>\n",
       "      <th>3</th>\n",
       "      <td>421</td>\n",
       "    </tr>\n",
       "    <tr>\n",
       "      <th>4</th>\n",
       "      <td>235</td>\n",
       "    </tr>\n",
       "  </tbody>\n",
       "</table>\n",
       "</div>"
      ],
      "text/plain": [
       "   cars_per_cap\n",
       "0           100\n",
       "1           234\n",
       "2           354\n",
       "3           421\n",
       "4           235"
      ]
     },
     "execution_count": 29,
     "metadata": {},
     "output_type": "execute_result"
    }
   ],
   "source": [
    "# selecting only the columns with a specific data type\n",
    "df.select_dtypes('int')"
   ]
  },
  {
   "cell_type": "markdown",
   "id": "7640466d-ee3e-4e06-a975-2ebda1019ca0",
   "metadata": {},
   "source": [
    "#### Filtering Rows"
   ]
  },
  {
   "cell_type": "code",
   "execution_count": 30,
   "id": "99d8f486-756a-4750-9119-0d4d0bbb6cbf",
   "metadata": {},
   "outputs": [
    {
     "data": {
      "text/html": [
       "<div>\n",
       "<style scoped>\n",
       "    .dataframe tbody tr th:only-of-type {\n",
       "        vertical-align: middle;\n",
       "    }\n",
       "\n",
       "    .dataframe tbody tr th {\n",
       "        vertical-align: top;\n",
       "    }\n",
       "\n",
       "    .dataframe thead th {\n",
       "        text-align: right;\n",
       "    }\n",
       "</style>\n",
       "<table border=\"1\" class=\"dataframe\">\n",
       "  <thead>\n",
       "    <tr style=\"text-align: right;\">\n",
       "      <th></th>\n",
       "      <th>country code</th>\n",
       "      <th>region</th>\n",
       "      <th>country</th>\n",
       "      <th>cars_per_cap</th>\n",
       "      <th>drives_right</th>\n",
       "    </tr>\n",
       "  </thead>\n",
       "  <tbody>\n",
       "    <tr>\n",
       "      <th>0</th>\n",
       "      <td>USCA</td>\n",
       "      <td>US</td>\n",
       "      <td>United States</td>\n",
       "      <td>809.0</td>\n",
       "      <td>False</td>\n",
       "    </tr>\n",
       "    <tr>\n",
       "      <th>1</th>\n",
       "      <td>ASPAC</td>\n",
       "      <td>AUS</td>\n",
       "      <td>Austrailia</td>\n",
       "      <td>731.0</td>\n",
       "      <td>True</td>\n",
       "    </tr>\n",
       "    <tr>\n",
       "      <th>2</th>\n",
       "      <td>ASPAC</td>\n",
       "      <td>JAP</td>\n",
       "      <td>Japan</td>\n",
       "      <td>588.0</td>\n",
       "      <td>True</td>\n",
       "    </tr>\n",
       "    <tr>\n",
       "      <th>3</th>\n",
       "      <td>ASPAC</td>\n",
       "      <td>IN</td>\n",
       "      <td>India</td>\n",
       "      <td>18.0</td>\n",
       "      <td>True</td>\n",
       "    </tr>\n",
       "    <tr>\n",
       "      <th>4</th>\n",
       "      <td>ASPAC</td>\n",
       "      <td>RU</td>\n",
       "      <td>Russia</td>\n",
       "      <td>200.0</td>\n",
       "      <td>False</td>\n",
       "    </tr>\n",
       "    <tr>\n",
       "      <th>5</th>\n",
       "      <td>LATAM</td>\n",
       "      <td>MOR</td>\n",
       "      <td>Morocco</td>\n",
       "      <td>70.0</td>\n",
       "      <td>False</td>\n",
       "    </tr>\n",
       "    <tr>\n",
       "      <th>6</th>\n",
       "      <td>AFR</td>\n",
       "      <td>EG</td>\n",
       "      <td>Egypt</td>\n",
       "      <td>45.0</td>\n",
       "      <td>False</td>\n",
       "    </tr>\n",
       "    <tr>\n",
       "      <th>7</th>\n",
       "      <td>EUR</td>\n",
       "      <td>ENG</td>\n",
       "      <td>England</td>\n",
       "      <td>NaN</td>\n",
       "      <td>True</td>\n",
       "    </tr>\n",
       "  </tbody>\n",
       "</table>\n",
       "</div>"
      ],
      "text/plain": [
       "  country code region        country  cars_per_cap drives_right\n",
       "0         USCA     US  United States         809.0       False \n",
       "1        ASPAC    AUS     Austrailia         731.0        True \n",
       "2        ASPAC    JAP          Japan         588.0        True \n",
       "3        ASPAC     IN          India          18.0        True \n",
       "4        ASPAC     RU         Russia         200.0       False \n",
       "5        LATAM    MOR        Morocco          70.0       False \n",
       "6          AFR     EG          Egypt          45.0       False \n",
       "7          EUR    ENG        England           NaN        True "
      ]
     },
     "execution_count": 30,
     "metadata": {},
     "output_type": "execute_result"
    }
   ],
   "source": [
    "df5"
   ]
  },
  {
   "cell_type": "code",
   "execution_count": 31,
   "id": "743b60ba-1778-4157-936d-beccbfa0bbbb",
   "metadata": {},
   "outputs": [
    {
     "data": {
      "text/html": [
       "<div>\n",
       "<style scoped>\n",
       "    .dataframe tbody tr th:only-of-type {\n",
       "        vertical-align: middle;\n",
       "    }\n",
       "\n",
       "    .dataframe tbody tr th {\n",
       "        vertical-align: top;\n",
       "    }\n",
       "\n",
       "    .dataframe thead th {\n",
       "        text-align: right;\n",
       "    }\n",
       "</style>\n",
       "<table border=\"1\" class=\"dataframe\">\n",
       "  <thead>\n",
       "    <tr style=\"text-align: right;\">\n",
       "      <th></th>\n",
       "      <th>country code</th>\n",
       "      <th>region</th>\n",
       "      <th>country</th>\n",
       "      <th>cars_per_cap</th>\n",
       "      <th>drives_right</th>\n",
       "    </tr>\n",
       "  </thead>\n",
       "  <tbody>\n",
       "    <tr>\n",
       "      <th>0</th>\n",
       "      <td>USCA</td>\n",
       "      <td>US</td>\n",
       "      <td>United States</td>\n",
       "      <td>809.0</td>\n",
       "      <td>False</td>\n",
       "    </tr>\n",
       "    <tr>\n",
       "      <th>5</th>\n",
       "      <td>LATAM</td>\n",
       "      <td>MOR</td>\n",
       "      <td>Morocco</td>\n",
       "      <td>70.0</td>\n",
       "      <td>False</td>\n",
       "    </tr>\n",
       "    <tr>\n",
       "      <th>6</th>\n",
       "      <td>AFR</td>\n",
       "      <td>EG</td>\n",
       "      <td>Egypt</td>\n",
       "      <td>45.0</td>\n",
       "      <td>False</td>\n",
       "    </tr>\n",
       "    <tr>\n",
       "      <th>7</th>\n",
       "      <td>EUR</td>\n",
       "      <td>ENG</td>\n",
       "      <td>England</td>\n",
       "      <td>NaN</td>\n",
       "      <td>True</td>\n",
       "    </tr>\n",
       "  </tbody>\n",
       "</table>\n",
       "</div>"
      ],
      "text/plain": [
       "  country code region        country  cars_per_cap drives_right\n",
       "0         USCA     US  United States         809.0       False \n",
       "5        LATAM    MOR        Morocco          70.0       False \n",
       "6          AFR     EG          Egypt          45.0       False \n",
       "7          EUR    ENG        England           NaN        True "
      ]
     },
     "execution_count": 31,
     "metadata": {},
     "output_type": "execute_result"
    }
   ],
   "source": [
    "df5.loc[~((df5['country code'] == 'ASPAC') & (df.cars_per_cap > 201))]\n",
    "# ~ tilda means not"
   ]
  },
  {
   "cell_type": "markdown",
   "id": "87374e76-df24-4e16-9cf7-f68c8e0572e2",
   "metadata": {},
   "source": [
    "#### Filtering using Query"
   ]
  },
  {
   "cell_type": "code",
   "execution_count": 32,
   "id": "74c59586-5751-4941-afd0-a0e383dd3dd0",
   "metadata": {},
   "outputs": [
    {
     "data": {
      "text/html": [
       "<div>\n",
       "<style scoped>\n",
       "    .dataframe tbody tr th:only-of-type {\n",
       "        vertical-align: middle;\n",
       "    }\n",
       "\n",
       "    .dataframe tbody tr th {\n",
       "        vertical-align: top;\n",
       "    }\n",
       "\n",
       "    .dataframe thead th {\n",
       "        text-align: right;\n",
       "    }\n",
       "</style>\n",
       "<table border=\"1\" class=\"dataframe\">\n",
       "  <thead>\n",
       "    <tr style=\"text-align: right;\">\n",
       "      <th></th>\n",
       "      <th>country code</th>\n",
       "      <th>region</th>\n",
       "      <th>country</th>\n",
       "      <th>cars_per_cap</th>\n",
       "      <th>drives_right</th>\n",
       "    </tr>\n",
       "  </thead>\n",
       "  <tbody>\n",
       "    <tr>\n",
       "      <th>1</th>\n",
       "      <td>ASPAC</td>\n",
       "      <td>AUS</td>\n",
       "      <td>Austrailia</td>\n",
       "      <td>731.0</td>\n",
       "      <td>True</td>\n",
       "    </tr>\n",
       "    <tr>\n",
       "      <th>2</th>\n",
       "      <td>ASPAC</td>\n",
       "      <td>JAP</td>\n",
       "      <td>Japan</td>\n",
       "      <td>588.0</td>\n",
       "      <td>True</td>\n",
       "    </tr>\n",
       "    <tr>\n",
       "      <th>4</th>\n",
       "      <td>ASPAC</td>\n",
       "      <td>RU</td>\n",
       "      <td>Russia</td>\n",
       "      <td>200.0</td>\n",
       "      <td>False</td>\n",
       "    </tr>\n",
       "  </tbody>\n",
       "</table>\n",
       "</div>"
      ],
      "text/plain": [
       "  country code region     country  cars_per_cap drives_right\n",
       "1        ASPAC    AUS  Austrailia         731.0        True \n",
       "2        ASPAC    JAP       Japan         588.0        True \n",
       "4        ASPAC     RU      Russia         200.0       False "
      ]
     },
     "execution_count": 32,
     "metadata": {},
     "output_type": "execute_result"
    }
   ],
   "source": [
    "df5.query(\"(`country code` == 'ASPAC') and (cars_per_cap > 70)\")"
   ]
  },
  {
   "cell_type": "markdown",
   "id": "479688a4-e860-4bd6-8e4d-cf3ab567ae4e",
   "metadata": {},
   "source": [
    "#### Summarizing the data"
   ]
  },
  {
   "cell_type": "code",
   "execution_count": 33,
   "id": "d0e6ca60-bd16-4130-b113-b11672f9463b",
   "metadata": {},
   "outputs": [
    {
     "data": {
      "text/plain": [
       "2461.0"
      ]
     },
     "execution_count": 33,
     "metadata": {},
     "output_type": "execute_result"
    }
   ],
   "source": [
    "df5['cars_per_cap'].sum()"
   ]
  },
  {
   "cell_type": "code",
   "execution_count": 34,
   "id": "73aeec81-b05b-4228-8c1c-959b8fc6e576",
   "metadata": {},
   "outputs": [
    {
     "data": {
      "text/plain": [
       "18.0"
      ]
     },
     "execution_count": 34,
     "metadata": {},
     "output_type": "execute_result"
    }
   ],
   "source": [
    "df5['cars_per_cap'].min()"
   ]
  },
  {
   "cell_type": "code",
   "execution_count": 35,
   "id": "cc73fb2f-02a5-42c8-bcb1-7af4c378bb07",
   "metadata": {},
   "outputs": [
    {
     "data": {
      "text/plain": [
       "809.0"
      ]
     },
     "execution_count": 35,
     "metadata": {},
     "output_type": "execute_result"
    }
   ],
   "source": [
    "df5['cars_per_cap'].max()"
   ]
  },
  {
   "cell_type": "code",
   "execution_count": 36,
   "id": "ab036a02-9f63-451f-8370-3f7c8856844c",
   "metadata": {},
   "outputs": [
    {
     "data": {
      "text/plain": [
       "345.5955522200564"
      ]
     },
     "execution_count": 36,
     "metadata": {},
     "output_type": "execute_result"
    }
   ],
   "source": [
    "df5['cars_per_cap'].std()"
   ]
  },
  {
   "cell_type": "code",
   "execution_count": 37,
   "id": "cb820c08-dd52-4eeb-95e3-cea6ede07207",
   "metadata": {},
   "outputs": [
    {
     "data": {
      "text/plain": [
       "119436.28571428572"
      ]
     },
     "execution_count": 37,
     "metadata": {},
     "output_type": "execute_result"
    }
   ],
   "source": [
    "df5['cars_per_cap'].var()"
   ]
  },
  {
   "cell_type": "code",
   "execution_count": 38,
   "id": "730bd3d9-388d-44cd-aaea-93a2545569df",
   "metadata": {},
   "outputs": [
    {
     "data": {
      "text/plain": [
       "7"
      ]
     },
     "execution_count": 38,
     "metadata": {},
     "output_type": "execute_result"
    }
   ],
   "source": [
    "df5['cars_per_cap'].count()"
   ]
  },
  {
   "cell_type": "code",
   "execution_count": 39,
   "id": "0e46d72c-f7ab-4a33-90e0-67b503381204",
   "metadata": {},
   "outputs": [
    {
     "data": {
      "text/plain": [
       "200.0"
      ]
     },
     "execution_count": 39,
     "metadata": {},
     "output_type": "execute_result"
    }
   ],
   "source": [
    "df5['cars_per_cap'].quantile()\n",
    "#  quantile function in pandas helps you find specific points in your data that divide it into equal parts. For example, it can tell you what value separates the lowest 25% of your data from the rest, or what value is exactly in the middle (the median)."
   ]
  },
  {
   "cell_type": "code",
   "execution_count": 40,
   "id": "f7944635-1bd5-4541-b76c-05ce309e6f35",
   "metadata": {},
   "outputs": [
    {
     "data": {
      "text/plain": [
       "0.25     57.5\n",
       "0.50    200.0\n",
       "0.75    659.5\n",
       "Name: cars_per_cap, dtype: float64"
      ]
     },
     "execution_count": 40,
     "metadata": {},
     "output_type": "execute_result"
    }
   ],
   "source": [
    "df5['cars_per_cap'].quantile([0.25, 0.50, 0.75])"
   ]
  },
  {
   "cell_type": "code",
   "execution_count": 41,
   "id": "901df48a-ca64-42a0-b211-eecf6b108513",
   "metadata": {},
   "outputs": [
    {
     "data": {
      "text/plain": [
       "351.57142857142856"
      ]
     },
     "execution_count": 41,
     "metadata": {},
     "output_type": "execute_result"
    }
   ],
   "source": [
    "df5['cars_per_cap'].mean()"
   ]
  },
  {
   "cell_type": "code",
   "execution_count": 42,
   "id": "1ff4f8bf-3a7f-4067-9a1e-c3e590d070fd",
   "metadata": {},
   "outputs": [
    {
     "data": {
      "text/plain": [
       "min       18.0\n",
       "max      809.0\n",
       "count      7.0\n",
       "Name: cars_per_cap, dtype: float64"
      ]
     },
     "execution_count": 42,
     "metadata": {},
     "output_type": "execute_result"
    }
   ],
   "source": [
    "df5['cars_per_cap'].agg(['min', 'max', 'count'])\n",
    "# agg method can give multiple statistical summaries together which are mentioned\n",
    "# agg method can also take a dictionary where the keys are the column names and the values are the list of statistical operations that you want to find for that column"
   ]
  },
  {
   "cell_type": "code",
   "execution_count": 43,
   "id": "9c1402dd-dda3-4903-acef-fd0a54ff5a08",
   "metadata": {},
   "outputs": [
    {
     "data": {
      "text/plain": [
       "array([809., 731., 588.,  18., 200.,  70.,  45.,  nan])"
      ]
     },
     "execution_count": 43,
     "metadata": {},
     "output_type": "execute_result"
    }
   ],
   "source": [
    "df5['cars_per_cap'].unique()\n",
    "# unique returns all the unique values \n",
    "# also works on the categorical values"
   ]
  },
  {
   "cell_type": "code",
   "execution_count": 44,
   "id": "644cac65-cb00-46a3-ab59-183028565f28",
   "metadata": {},
   "outputs": [
    {
     "name": "stdout",
     "output_type": "stream",
     "text": [
      "cars_per_cap\n",
      "809.0    1\n",
      "731.0    1\n",
      "588.0    1\n",
      "18.0     1\n",
      "200.0    1\n",
      "70.0     1\n",
      "45.0     1\n",
      "Name: count, dtype: int64\n",
      "cars_per_cap\n",
      "809.0    0.142857\n",
      "731.0    0.142857\n",
      "588.0    0.142857\n",
      "18.0     0.142857\n",
      "200.0    0.142857\n",
      "70.0     0.142857\n",
      "45.0     0.142857\n",
      "Name: proportion, dtype: float64\n",
      "cars_per_cap  country      \n",
      "18.0          India            1\n",
      "45.0          Egypt            1\n",
      "70.0          Morocco          1\n",
      "200.0         Russia           1\n",
      "588.0         Japan            1\n",
      "731.0         Austrailia       1\n",
      "809.0         United States    1\n",
      "Name: count, dtype: int64\n",
      "   cars_per_cap        country  count\n",
      "0          18.0          India      1\n",
      "1          45.0          Egypt      1\n",
      "2          70.0        Morocco      1\n",
      "3         200.0         Russia      1\n",
      "4         588.0          Japan      1\n",
      "5         731.0     Austrailia      1\n",
      "6         809.0  United States      1\n"
     ]
    }
   ],
   "source": [
    "print(df5['cars_per_cap'].value_counts())\n",
    "# value_counts gives the count of each value in the column\n",
    "\n",
    "print(df5['cars_per_cap'].value_counts(normalize = True))\n",
    "# normalize = True gives a fractional value\n",
    "\n",
    "print(df5[['cars_per_cap', 'country']].value_counts())\n",
    "# applying value_counts on multiple columns gives the count for the combination of elements from the columns\n",
    "\n",
    "print(df5[['cars_per_cap', 'country']].value_counts().reset_index())\n",
    "# applying reset.index after value_counts converts the count details into a dataframe"
   ]
  },
  {
   "cell_type": "markdown",
   "id": "84bfbede-950f-4b1f-8e6a-d535c80e929f",
   "metadata": {},
   "source": [
    "#### Advanced Column Methods"
   ]
  },
  {
   "cell_type": "code",
   "execution_count": 45,
   "id": "45cd22ba-abd7-4c79-9a35-6783cdc2becc",
   "metadata": {},
   "outputs": [
    {
     "name": "stdout",
     "output_type": "stream",
     "text": [
      "   cars_per_cap\n",
      "0           7.0\n",
      "1           6.0\n",
      "2           5.0\n",
      "3           1.0\n",
      "4           4.0\n",
      "5           3.0\n",
      "6           2.0\n",
      "7           NaN\n",
      "   cars_per_cap\n",
      "0           7.0\n",
      "1           6.0\n",
      "2           5.0\n",
      "3           1.0\n",
      "4           4.0\n",
      "5           3.0\n",
      "6           2.0\n",
      "7           NaN\n"
     ]
    }
   ],
   "source": [
    "print(df5[['cars_per_cap']].rank())\n",
    "# assigns ranks the values with rank 1 being the lowest value\n",
    "\n",
    "print(df5[['cars_per_cap']].rank(method = 'average'))\n",
    "# average method - if a value occurs twice and its rank would have been 5 and 6 then the final ranking it receives if average of 5 and 6 which is 5.5"
   ]
  },
  {
   "cell_type": "code",
   "execution_count": 46,
   "id": "e7b8dfbd-e329-470b-9cde-65acc1b8057d",
   "metadata": {},
   "outputs": [
    {
     "name": "stdout",
     "output_type": "stream",
     "text": [
      "   cars_per_cap\n",
      "0           NaN\n",
      "1           NaN\n",
      "2         809.0\n",
      "3         731.0\n",
      "4         588.0\n",
      "5          18.0\n",
      "6         200.0\n",
      "7          70.0\n",
      "   cars_per_cap\n",
      "0         100.0\n",
      "1         100.0\n",
      "2         100.0\n",
      "3         809.0\n",
      "4         731.0\n",
      "5         588.0\n",
      "6          18.0\n",
      "7         200.0\n"
     ]
    }
   ],
   "source": [
    "print(df5[['cars_per_cap']].shift(2))\n",
    "# shifts the values down by number of places mentioned and the top elements keep getting NaN meaning its not cyclic\n",
    "\n",
    "print(df5[['cars_per_cap']].shift(3, fill_value = 100))\n",
    "# fill_value helps us to fill the NaN values"
   ]
  },
  {
   "cell_type": "code",
   "execution_count": 47,
   "id": "36832b00-9941-4045-b0cb-c670863ab673",
   "metadata": {},
   "outputs": [
    {
     "name": "stdout",
     "output_type": "stream",
     "text": [
      "   cars_per_cap\n",
      "0         809.0\n",
      "1        1540.0\n",
      "2        2128.0\n",
      "3        2146.0\n",
      "4        2346.0\n",
      "5        2416.0\n",
      "6        2461.0\n",
      "7           NaN\n",
      "   cars_per_cap\n",
      "0         809.0\n",
      "1         809.0\n",
      "2         809.0\n",
      "3         809.0\n",
      "4         809.0\n",
      "5         809.0\n",
      "6         809.0\n",
      "7           NaN\n",
      "   cars_per_cap\n",
      "0         809.0\n",
      "1         731.0\n",
      "2         588.0\n",
      "3          18.0\n",
      "4          18.0\n",
      "5          18.0\n",
      "6          18.0\n",
      "7           NaN\n"
     ]
    }
   ],
   "source": [
    "print(df5[['cars_per_cap']].cumsum())\n",
    "print(df5[['cars_per_cap']].cummax())\n",
    "print(df5[['cars_per_cap']].cummin())\n",
    "\n",
    "#cummim - \n",
    "# for 2nd value - min(809,731)\n",
    "# for 3rd value - min(809,731,588) and so on"
   ]
  },
  {
   "cell_type": "code",
   "execution_count": 48,
   "id": "ae3e152c-aa46-45e7-8cd6-7ac2160e3417",
   "metadata": {},
   "outputs": [
    {
     "data": {
      "text/html": [
       "<div>\n",
       "<style scoped>\n",
       "    .dataframe tbody tr th:only-of-type {\n",
       "        vertical-align: middle;\n",
       "    }\n",
       "\n",
       "    .dataframe tbody tr th {\n",
       "        vertical-align: top;\n",
       "    }\n",
       "\n",
       "    .dataframe thead th {\n",
       "        text-align: right;\n",
       "    }\n",
       "</style>\n",
       "<table border=\"1\" class=\"dataframe\">\n",
       "  <thead>\n",
       "    <tr style=\"text-align: right;\">\n",
       "      <th></th>\n",
       "      <th>cars_per_cap</th>\n",
       "    </tr>\n",
       "  </thead>\n",
       "  <tbody>\n",
       "    <tr>\n",
       "      <th>0</th>\n",
       "      <td>NaN</td>\n",
       "    </tr>\n",
       "    <tr>\n",
       "      <th>1</th>\n",
       "      <td>NaN</td>\n",
       "    </tr>\n",
       "    <tr>\n",
       "      <th>2</th>\n",
       "      <td>NaN</td>\n",
       "    </tr>\n",
       "    <tr>\n",
       "      <th>3</th>\n",
       "      <td>NaN</td>\n",
       "    </tr>\n",
       "    <tr>\n",
       "      <th>4</th>\n",
       "      <td>469.2</td>\n",
       "    </tr>\n",
       "    <tr>\n",
       "      <th>5</th>\n",
       "      <td>321.4</td>\n",
       "    </tr>\n",
       "    <tr>\n",
       "      <th>6</th>\n",
       "      <td>184.2</td>\n",
       "    </tr>\n",
       "    <tr>\n",
       "      <th>7</th>\n",
       "      <td>NaN</td>\n",
       "    </tr>\n",
       "  </tbody>\n",
       "</table>\n",
       "</div>"
      ],
      "text/plain": [
       "   cars_per_cap\n",
       "0           NaN\n",
       "1           NaN\n",
       "2           NaN\n",
       "3           NaN\n",
       "4         469.2\n",
       "5         321.4\n",
       "6         184.2\n",
       "7           NaN"
      ]
     },
     "execution_count": 48,
     "metadata": {},
     "output_type": "execute_result"
    }
   ],
   "source": [
    "df5[['cars_per_cap']].rolling(window = 5)\n",
    "# rolling - The rolling function in pandas is used to create a rolling window of data over a Series or DataFrame. It allows you to perform rolling computations such as mean, sum, standard deviation, etc., over a specified window size.\n",
    "\n",
    "df5[['cars_per_cap']].rolling(window = 5).mean()"
   ]
  },
  {
   "cell_type": "code",
   "execution_count": 49,
   "id": "4993ed0b-abda-4c4d-8661-010479cad808",
   "metadata": {},
   "outputs": [
    {
     "data": {
      "text/html": [
       "<div>\n",
       "<style scoped>\n",
       "    .dataframe tbody tr th:only-of-type {\n",
       "        vertical-align: middle;\n",
       "    }\n",
       "\n",
       "    .dataframe tbody tr th {\n",
       "        vertical-align: top;\n",
       "    }\n",
       "\n",
       "    .dataframe thead th {\n",
       "        text-align: right;\n",
       "    }\n",
       "</style>\n",
       "<table border=\"1\" class=\"dataframe\">\n",
       "  <thead>\n",
       "    <tr style=\"text-align: right;\">\n",
       "      <th></th>\n",
       "      <th>cars_per_cap</th>\n",
       "    </tr>\n",
       "  </thead>\n",
       "  <tbody>\n",
       "    <tr>\n",
       "      <th>0</th>\n",
       "      <td>300.0</td>\n",
       "    </tr>\n",
       "    <tr>\n",
       "      <th>1</th>\n",
       "      <td>300.0</td>\n",
       "    </tr>\n",
       "    <tr>\n",
       "      <th>2</th>\n",
       "      <td>300.0</td>\n",
       "    </tr>\n",
       "    <tr>\n",
       "      <th>3</th>\n",
       "      <td>100.0</td>\n",
       "    </tr>\n",
       "    <tr>\n",
       "      <th>4</th>\n",
       "      <td>200.0</td>\n",
       "    </tr>\n",
       "    <tr>\n",
       "      <th>5</th>\n",
       "      <td>100.0</td>\n",
       "    </tr>\n",
       "    <tr>\n",
       "      <th>6</th>\n",
       "      <td>100.0</td>\n",
       "    </tr>\n",
       "    <tr>\n",
       "      <th>7</th>\n",
       "      <td>NaN</td>\n",
       "    </tr>\n",
       "  </tbody>\n",
       "</table>\n",
       "</div>"
      ],
      "text/plain": [
       "   cars_per_cap\n",
       "0         300.0\n",
       "1         300.0\n",
       "2         300.0\n",
       "3         100.0\n",
       "4         200.0\n",
       "5         100.0\n",
       "6         100.0\n",
       "7           NaN"
      ]
     },
     "execution_count": 49,
     "metadata": {},
     "output_type": "execute_result"
    }
   ],
   "source": [
    "df5[['cars_per_cap']].clip(100,300)\n",
    "# values above 300 become 300 and values below 100 become 100"
   ]
  },
  {
   "cell_type": "markdown",
   "id": "de7d43e6-4679-4e26-84a0-f5a2de8e106d",
   "metadata": {},
   "source": [
    "#### GroupBy Methods"
   ]
  },
  {
   "cell_type": "code",
   "execution_count": 50,
   "id": "caf3745e-6b6a-4bba-9482-e2f1e01c5326",
   "metadata": {},
   "outputs": [
    {
     "name": "stdout",
     "output_type": "stream",
     "text": [
      "              cars_per_cap\n",
      "country code              \n",
      "AFR                   45.0\n",
      "ASPAC               1537.0\n",
      "EUR                    0.0\n",
      "LATAM                 70.0\n",
      "USCA                 809.0\n",
      "\n",
      "             cars_per_cap                     country                     \n",
      "                      min    max count            min            max count\n",
      "country code                                                              \n",
      "AFR                  45.0   45.0     1          Egypt          Egypt     1\n",
      "ASPAC                18.0  731.0     4     Austrailia         Russia     4\n",
      "EUR                   NaN    NaN     0        England        England     1\n",
      "LATAM                70.0   70.0     1        Morocco        Morocco     1\n",
      "USCA                809.0  809.0     1  United States  United States     1\n",
      "\n",
      "Index([  ('cars_per_cap', 'min'),   ('cars_per_cap', 'max'),\n",
      "       ('cars_per_cap', 'count'),        ('country', 'min'),\n",
      "              ('country', 'max'),      ('country', 'count')],\n",
      "      dtype='object')\n",
      "Index(['country code', 'region', 'country', 'cars_per_cap', 'drives_right'], dtype='object')\n"
     ]
    }
   ],
   "source": [
    "print(df5.groupby('country code')[['cars_per_cap']].sum())\n",
    "print()\n",
    "# groups by country code and finds the sum of cars_per_cap of all the country codes grouped together\n",
    "# you can pass multiple columns along with cars_per_cap\n",
    "print(df5.groupby('country code')[['cars_per_cap', 'country']].agg(['min','max','count']))\n",
    "print()\n",
    "\n",
    "\n",
    "# the result of these are multi indexed columns - column ke andar columns therefore we flatten them to convert them into a list of tuples\n",
    "print(df5.groupby('country code')[['cars_per_cap', 'country']].agg(['min','max','count']).columns.to_flat_index())\n",
    "\n",
    "# using list comprehension we simplify the headers\n",
    "df5.columns = [''.join(c) for c in df5.columns]\n",
    "print(df5.columns)"
   ]
  },
  {
   "cell_type": "markdown",
   "id": "b5e41baa-58db-4bb3-a665-fdf4768c1653",
   "metadata": {},
   "source": [
    "#### New Columns"
   ]
  },
  {
   "cell_type": "code",
   "execution_count": 51,
   "id": "4985a797-8712-451b-8d08-8d034aaa17da",
   "metadata": {},
   "outputs": [
    {
     "data": {
      "text/html": [
       "<div>\n",
       "<style scoped>\n",
       "    .dataframe tbody tr th:only-of-type {\n",
       "        vertical-align: middle;\n",
       "    }\n",
       "\n",
       "    .dataframe tbody tr th {\n",
       "        vertical-align: top;\n",
       "    }\n",
       "\n",
       "    .dataframe thead th {\n",
       "        text-align: right;\n",
       "    }\n",
       "</style>\n",
       "<table border=\"1\" class=\"dataframe\">\n",
       "  <thead>\n",
       "    <tr style=\"text-align: right;\">\n",
       "      <th></th>\n",
       "      <th>country code</th>\n",
       "      <th>region</th>\n",
       "      <th>country</th>\n",
       "      <th>cars_per_cap</th>\n",
       "      <th>drives_right</th>\n",
       "      <th>cars_per_cap 2</th>\n",
       "      <th>cars_per_cap_3</th>\n",
       "    </tr>\n",
       "  </thead>\n",
       "  <tbody>\n",
       "    <tr>\n",
       "      <th>0</th>\n",
       "      <td>USCA</td>\n",
       "      <td>US</td>\n",
       "      <td>United States</td>\n",
       "      <td>809.0</td>\n",
       "      <td>False</td>\n",
       "      <td>404.5</td>\n",
       "      <td>80.9</td>\n",
       "    </tr>\n",
       "    <tr>\n",
       "      <th>1</th>\n",
       "      <td>ASPAC</td>\n",
       "      <td>AUS</td>\n",
       "      <td>Austrailia</td>\n",
       "      <td>731.0</td>\n",
       "      <td>True</td>\n",
       "      <td>365.5</td>\n",
       "      <td>73.1</td>\n",
       "    </tr>\n",
       "    <tr>\n",
       "      <th>2</th>\n",
       "      <td>ASPAC</td>\n",
       "      <td>JAP</td>\n",
       "      <td>Japan</td>\n",
       "      <td>588.0</td>\n",
       "      <td>True</td>\n",
       "      <td>294.0</td>\n",
       "      <td>58.8</td>\n",
       "    </tr>\n",
       "    <tr>\n",
       "      <th>3</th>\n",
       "      <td>ASPAC</td>\n",
       "      <td>IN</td>\n",
       "      <td>India</td>\n",
       "      <td>18.0</td>\n",
       "      <td>True</td>\n",
       "      <td>9.0</td>\n",
       "      <td>1.8</td>\n",
       "    </tr>\n",
       "    <tr>\n",
       "      <th>4</th>\n",
       "      <td>ASPAC</td>\n",
       "      <td>RU</td>\n",
       "      <td>Russia</td>\n",
       "      <td>200.0</td>\n",
       "      <td>False</td>\n",
       "      <td>100.0</td>\n",
       "      <td>20.0</td>\n",
       "    </tr>\n",
       "    <tr>\n",
       "      <th>5</th>\n",
       "      <td>LATAM</td>\n",
       "      <td>MOR</td>\n",
       "      <td>Morocco</td>\n",
       "      <td>70.0</td>\n",
       "      <td>False</td>\n",
       "      <td>35.0</td>\n",
       "      <td>7.0</td>\n",
       "    </tr>\n",
       "    <tr>\n",
       "      <th>6</th>\n",
       "      <td>AFR</td>\n",
       "      <td>EG</td>\n",
       "      <td>Egypt</td>\n",
       "      <td>45.0</td>\n",
       "      <td>False</td>\n",
       "      <td>22.5</td>\n",
       "      <td>4.5</td>\n",
       "    </tr>\n",
       "    <tr>\n",
       "      <th>7</th>\n",
       "      <td>EUR</td>\n",
       "      <td>ENG</td>\n",
       "      <td>England</td>\n",
       "      <td>NaN</td>\n",
       "      <td>True</td>\n",
       "      <td>NaN</td>\n",
       "      <td>NaN</td>\n",
       "    </tr>\n",
       "  </tbody>\n",
       "</table>\n",
       "</div>"
      ],
      "text/plain": [
       "  country code region        country  cars_per_cap drives_right  \\\n",
       "0         USCA     US  United States         809.0       False    \n",
       "1        ASPAC    AUS     Austrailia         731.0        True    \n",
       "2        ASPAC    JAP          Japan         588.0        True    \n",
       "3        ASPAC     IN          India          18.0        True    \n",
       "4        ASPAC     RU         Russia         200.0       False    \n",
       "5        LATAM    MOR        Morocco          70.0       False    \n",
       "6          AFR     EG          Egypt          45.0       False    \n",
       "7          EUR    ENG        England           NaN        True    \n",
       "\n",
       "   cars_per_cap 2  cars_per_cap_3  \n",
       "0           404.5            80.9  \n",
       "1           365.5            73.1  \n",
       "2           294.0            58.8  \n",
       "3             9.0             1.8  \n",
       "4           100.0            20.0  \n",
       "5            35.0             7.0  \n",
       "6            22.5             4.5  \n",
       "7             NaN             NaN  "
      ]
     },
     "execution_count": 51,
     "metadata": {},
     "output_type": "execute_result"
    }
   ],
   "source": [
    "df5['cars_per_cap 2'] = df5['cars_per_cap'] / 2\n",
    "df5\n",
    "\n",
    "#or using assign method\n",
    "\n",
    "df5 = df5.assign(cars_per_cap_3 = df5['cars_per_cap'] / 10)\n",
    "df5"
   ]
  },
  {
   "cell_type": "markdown",
   "id": "f51dc40e-0e6c-4094-a1b1-688c2d198c16",
   "metadata": {},
   "source": [
    "#### Sorting"
   ]
  },
  {
   "cell_type": "code",
   "execution_count": 55,
   "id": "b55e123c-c0db-4e9b-8440-853891e242ac",
   "metadata": {},
   "outputs": [
    {
     "data": {
      "text/html": [
       "<div>\n",
       "<style scoped>\n",
       "    .dataframe tbody tr th:only-of-type {\n",
       "        vertical-align: middle;\n",
       "    }\n",
       "\n",
       "    .dataframe tbody tr th {\n",
       "        vertical-align: top;\n",
       "    }\n",
       "\n",
       "    .dataframe thead th {\n",
       "        text-align: right;\n",
       "    }\n",
       "</style>\n",
       "<table border=\"1\" class=\"dataframe\">\n",
       "  <thead>\n",
       "    <tr style=\"text-align: right;\">\n",
       "      <th></th>\n",
       "      <th>index</th>\n",
       "      <th>country</th>\n",
       "      <th>region</th>\n",
       "      <th>cars_per_cap</th>\n",
       "    </tr>\n",
       "  </thead>\n",
       "  <tbody>\n",
       "    <tr>\n",
       "      <th>0</th>\n",
       "      <td>3</td>\n",
       "      <td>India</td>\n",
       "      <td>IN</td>\n",
       "      <td>18.0</td>\n",
       "    </tr>\n",
       "    <tr>\n",
       "      <th>1</th>\n",
       "      <td>6</td>\n",
       "      <td>Egypt</td>\n",
       "      <td>EG</td>\n",
       "      <td>45.0</td>\n",
       "    </tr>\n",
       "    <tr>\n",
       "      <th>2</th>\n",
       "      <td>5</td>\n",
       "      <td>Morocco</td>\n",
       "      <td>MOR</td>\n",
       "      <td>70.0</td>\n",
       "    </tr>\n",
       "    <tr>\n",
       "      <th>3</th>\n",
       "      <td>4</td>\n",
       "      <td>Russia</td>\n",
       "      <td>RU</td>\n",
       "      <td>200.0</td>\n",
       "    </tr>\n",
       "    <tr>\n",
       "      <th>4</th>\n",
       "      <td>2</td>\n",
       "      <td>Japan</td>\n",
       "      <td>JAP</td>\n",
       "      <td>588.0</td>\n",
       "    </tr>\n",
       "    <tr>\n",
       "      <th>5</th>\n",
       "      <td>1</td>\n",
       "      <td>Austrailia</td>\n",
       "      <td>AUS</td>\n",
       "      <td>731.0</td>\n",
       "    </tr>\n",
       "    <tr>\n",
       "      <th>6</th>\n",
       "      <td>0</td>\n",
       "      <td>United States</td>\n",
       "      <td>US</td>\n",
       "      <td>809.0</td>\n",
       "    </tr>\n",
       "    <tr>\n",
       "      <th>7</th>\n",
       "      <td>7</td>\n",
       "      <td>England</td>\n",
       "      <td>ENG</td>\n",
       "      <td>NaN</td>\n",
       "    </tr>\n",
       "  </tbody>\n",
       "</table>\n",
       "</div>"
      ],
      "text/plain": [
       "   index        country region  cars_per_cap\n",
       "0      3          India     IN          18.0\n",
       "1      6          Egypt     EG          45.0\n",
       "2      5        Morocco    MOR          70.0\n",
       "3      4         Russia     RU         200.0\n",
       "4      2          Japan    JAP         588.0\n",
       "5      1     Austrailia    AUS         731.0\n",
       "6      0  United States     US         809.0\n",
       "7      7        England    ENG           NaN"
      ]
     },
     "execution_count": 55,
     "metadata": {},
     "output_type": "execute_result"
    }
   ],
   "source": [
    "df5.sort_values('cars_per_cap')\n",
    "# missing values remain at the bottom always\n",
    "\n",
    "df5.sort_values('cars_per_cap', ascending = False)\n",
    "# descending order sort\n",
    "\n",
    "df5[['country', 'region', 'cars_per_cap']].sort_values('cars_per_cap')\n",
    "# the column based on which sorting is being done should be selected for displaying in the dataframe\n",
    "\n",
    "df5[['country', 'region', 'cars_per_cap']].sort_values('cars_per_cap').reset_index()\n",
    "# provides indexing"
   ]
  },
  {
   "cell_type": "markdown",
   "id": "5a0aa823-ec47-464a-a103-0ea7321fd329",
   "metadata": {},
   "source": [
    "#### Handling Missing Data"
   ]
  },
  {
   "cell_type": "code",
   "execution_count": 58,
   "id": "29e2bfe5-39fe-493b-8995-3f04f7ba2dd0",
   "metadata": {},
   "outputs": [
    {
     "data": {
      "text/plain": [
       "country code      0\n",
       "region            0\n",
       "country           0\n",
       "cars_per_cap      1\n",
       "drives_right      0\n",
       "cars_per_cap 2    1\n",
       "cars_per_cap_3    1\n",
       "dtype: int64"
      ]
     },
     "execution_count": 58,
     "metadata": {},
     "output_type": "execute_result"
    }
   ],
   "source": [
    "df5.isna()\n",
    "# returns true for NaN value \n",
    "\n",
    "df5.isna().sum()\n",
    "# gives sum of missing values in each column"
   ]
  },
  {
   "cell_type": "code",
   "execution_count": 62,
   "id": "486af76a-7c88-4632-9e5e-03f4d473c997",
   "metadata": {},
   "outputs": [
    {
     "data": {
      "text/html": [
       "<div>\n",
       "<style scoped>\n",
       "    .dataframe tbody tr th:only-of-type {\n",
       "        vertical-align: middle;\n",
       "    }\n",
       "\n",
       "    .dataframe tbody tr th {\n",
       "        vertical-align: top;\n",
       "    }\n",
       "\n",
       "    .dataframe thead th {\n",
       "        text-align: right;\n",
       "    }\n",
       "</style>\n",
       "<table border=\"1\" class=\"dataframe\">\n",
       "  <thead>\n",
       "    <tr style=\"text-align: right;\">\n",
       "      <th></th>\n",
       "      <th>country code</th>\n",
       "      <th>region</th>\n",
       "      <th>country</th>\n",
       "      <th>cars_per_cap</th>\n",
       "      <th>drives_right</th>\n",
       "      <th>cars_per_cap 2</th>\n",
       "      <th>cars_per_cap_3</th>\n",
       "    </tr>\n",
       "  </thead>\n",
       "  <tbody>\n",
       "    <tr>\n",
       "      <th>0</th>\n",
       "      <td>USCA</td>\n",
       "      <td>US</td>\n",
       "      <td>United States</td>\n",
       "      <td>809.0</td>\n",
       "      <td>False</td>\n",
       "      <td>404.5</td>\n",
       "      <td>80.9</td>\n",
       "    </tr>\n",
       "    <tr>\n",
       "      <th>1</th>\n",
       "      <td>ASPAC</td>\n",
       "      <td>AUS</td>\n",
       "      <td>Austrailia</td>\n",
       "      <td>731.0</td>\n",
       "      <td>True</td>\n",
       "      <td>365.5</td>\n",
       "      <td>73.1</td>\n",
       "    </tr>\n",
       "    <tr>\n",
       "      <th>2</th>\n",
       "      <td>ASPAC</td>\n",
       "      <td>JAP</td>\n",
       "      <td>Japan</td>\n",
       "      <td>588.0</td>\n",
       "      <td>True</td>\n",
       "      <td>294.0</td>\n",
       "      <td>58.8</td>\n",
       "    </tr>\n",
       "    <tr>\n",
       "      <th>3</th>\n",
       "      <td>ASPAC</td>\n",
       "      <td>IN</td>\n",
       "      <td>India</td>\n",
       "      <td>18.0</td>\n",
       "      <td>True</td>\n",
       "      <td>9.0</td>\n",
       "      <td>1.8</td>\n",
       "    </tr>\n",
       "    <tr>\n",
       "      <th>4</th>\n",
       "      <td>ASPAC</td>\n",
       "      <td>RU</td>\n",
       "      <td>Russia</td>\n",
       "      <td>200.0</td>\n",
       "      <td>False</td>\n",
       "      <td>100.0</td>\n",
       "      <td>20.0</td>\n",
       "    </tr>\n",
       "    <tr>\n",
       "      <th>5</th>\n",
       "      <td>LATAM</td>\n",
       "      <td>MOR</td>\n",
       "      <td>Morocco</td>\n",
       "      <td>70.0</td>\n",
       "      <td>False</td>\n",
       "      <td>35.0</td>\n",
       "      <td>7.0</td>\n",
       "    </tr>\n",
       "    <tr>\n",
       "      <th>6</th>\n",
       "      <td>AFR</td>\n",
       "      <td>EG</td>\n",
       "      <td>Egypt</td>\n",
       "      <td>45.0</td>\n",
       "      <td>False</td>\n",
       "      <td>22.5</td>\n",
       "      <td>4.5</td>\n",
       "    </tr>\n",
       "    <tr>\n",
       "      <th>7</th>\n",
       "      <td>EUR</td>\n",
       "      <td>ENG</td>\n",
       "      <td>England</td>\n",
       "      <td>NaN</td>\n",
       "      <td>True</td>\n",
       "      <td>NaN</td>\n",
       "      <td>NaN</td>\n",
       "    </tr>\n",
       "  </tbody>\n",
       "</table>\n",
       "</div>"
      ],
      "text/plain": [
       "  country code region        country  cars_per_cap drives_right  \\\n",
       "0         USCA     US  United States         809.0       False    \n",
       "1        ASPAC    AUS     Austrailia         731.0        True    \n",
       "2        ASPAC    JAP          Japan         588.0        True    \n",
       "3        ASPAC     IN          India          18.0        True    \n",
       "4        ASPAC     RU         Russia         200.0       False    \n",
       "5        LATAM    MOR        Morocco          70.0       False    \n",
       "6          AFR     EG          Egypt          45.0       False    \n",
       "7          EUR    ENG        England           NaN        True    \n",
       "\n",
       "   cars_per_cap 2  cars_per_cap_3  \n",
       "0           404.5            80.9  \n",
       "1           365.5            73.1  \n",
       "2           294.0            58.8  \n",
       "3             9.0             1.8  \n",
       "4           100.0            20.0  \n",
       "5            35.0             7.0  \n",
       "6            22.5             4.5  \n",
       "7             NaN             NaN  "
      ]
     },
     "execution_count": 62,
     "metadata": {},
     "output_type": "execute_result"
    }
   ],
   "source": [
    "df6 = df5.dropna()\n",
    "df6\n",
    "# drops the rows with missing values\n",
    "\n",
    "df7 = df5.dropna(subset = ['country code', 'region'])\n",
    "df7\n",
    "# drops the rows if there is NaN value in the mentioned columns only"
   ]
  },
  {
   "cell_type": "code",
   "execution_count": 65,
   "id": "f2983707-c9e6-42c7-afd4-151c2cf47bed",
   "metadata": {},
   "outputs": [
    {
     "data": {
      "text/html": [
       "<div>\n",
       "<style scoped>\n",
       "    .dataframe tbody tr th:only-of-type {\n",
       "        vertical-align: middle;\n",
       "    }\n",
       "\n",
       "    .dataframe tbody tr th {\n",
       "        vertical-align: top;\n",
       "    }\n",
       "\n",
       "    .dataframe thead th {\n",
       "        text-align: right;\n",
       "    }\n",
       "</style>\n",
       "<table border=\"1\" class=\"dataframe\">\n",
       "  <thead>\n",
       "    <tr style=\"text-align: right;\">\n",
       "      <th></th>\n",
       "      <th>country code</th>\n",
       "      <th>region</th>\n",
       "      <th>country</th>\n",
       "      <th>cars_per_cap</th>\n",
       "      <th>drives_right</th>\n",
       "      <th>cars_per_cap 2</th>\n",
       "      <th>cars_per_cap_3</th>\n",
       "    </tr>\n",
       "  </thead>\n",
       "  <tbody>\n",
       "    <tr>\n",
       "      <th>0</th>\n",
       "      <td>USCA</td>\n",
       "      <td>US</td>\n",
       "      <td>United States</td>\n",
       "      <td>809.0</td>\n",
       "      <td>False</td>\n",
       "      <td>404.5</td>\n",
       "      <td>80.9</td>\n",
       "    </tr>\n",
       "    <tr>\n",
       "      <th>1</th>\n",
       "      <td>ASPAC</td>\n",
       "      <td>AUS</td>\n",
       "      <td>Austrailia</td>\n",
       "      <td>731.0</td>\n",
       "      <td>True</td>\n",
       "      <td>365.5</td>\n",
       "      <td>73.1</td>\n",
       "    </tr>\n",
       "    <tr>\n",
       "      <th>2</th>\n",
       "      <td>ASPAC</td>\n",
       "      <td>JAP</td>\n",
       "      <td>Japan</td>\n",
       "      <td>588.0</td>\n",
       "      <td>True</td>\n",
       "      <td>294.0</td>\n",
       "      <td>58.8</td>\n",
       "    </tr>\n",
       "    <tr>\n",
       "      <th>3</th>\n",
       "      <td>ASPAC</td>\n",
       "      <td>IN</td>\n",
       "      <td>India</td>\n",
       "      <td>18.0</td>\n",
       "      <td>True</td>\n",
       "      <td>9.0</td>\n",
       "      <td>1.8</td>\n",
       "    </tr>\n",
       "    <tr>\n",
       "      <th>4</th>\n",
       "      <td>ASPAC</td>\n",
       "      <td>RU</td>\n",
       "      <td>Russia</td>\n",
       "      <td>200.0</td>\n",
       "      <td>False</td>\n",
       "      <td>100.0</td>\n",
       "      <td>20.0</td>\n",
       "    </tr>\n",
       "    <tr>\n",
       "      <th>5</th>\n",
       "      <td>LATAM</td>\n",
       "      <td>MOR</td>\n",
       "      <td>Morocco</td>\n",
       "      <td>70.0</td>\n",
       "      <td>False</td>\n",
       "      <td>35.0</td>\n",
       "      <td>7.0</td>\n",
       "    </tr>\n",
       "    <tr>\n",
       "      <th>6</th>\n",
       "      <td>AFR</td>\n",
       "      <td>EG</td>\n",
       "      <td>Egypt</td>\n",
       "      <td>45.0</td>\n",
       "      <td>False</td>\n",
       "      <td>22.5</td>\n",
       "      <td>4.5</td>\n",
       "    </tr>\n",
       "    <tr>\n",
       "      <th>7</th>\n",
       "      <td>EUR</td>\n",
       "      <td>ENG</td>\n",
       "      <td>England</td>\n",
       "      <td>268.8</td>\n",
       "      <td>True</td>\n",
       "      <td>268.8</td>\n",
       "      <td>268.8</td>\n",
       "    </tr>\n",
       "  </tbody>\n",
       "</table>\n",
       "</div>"
      ],
      "text/plain": [
       "  country code region        country  cars_per_cap drives_right  \\\n",
       "0         USCA     US  United States         809.0       False    \n",
       "1        ASPAC    AUS     Austrailia         731.0        True    \n",
       "2        ASPAC    JAP          Japan         588.0        True    \n",
       "3        ASPAC     IN          India          18.0        True    \n",
       "4        ASPAC     RU         Russia         200.0       False    \n",
       "5        LATAM    MOR        Morocco          70.0       False    \n",
       "6          AFR     EG          Egypt          45.0       False    \n",
       "7          EUR    ENG        England         268.8        True    \n",
       "\n",
       "   cars_per_cap 2  cars_per_cap_3  \n",
       "0           404.5            80.9  \n",
       "1           365.5            73.1  \n",
       "2           294.0            58.8  \n",
       "3             9.0             1.8  \n",
       "4           100.0            20.0  \n",
       "5            35.0             7.0  \n",
       "6            22.5             4.5  \n",
       "7           268.8           268.8  "
      ]
     },
     "execution_count": 65,
     "metadata": {},
     "output_type": "execute_result"
    }
   ],
   "source": [
    "df6 = df5.fillna(df['cars_per_cap'].mean())\n",
    "df6\n",
    "# fills the NaN values with the mentioned value"
   ]
  },
  {
   "cell_type": "markdown",
   "id": "abcbf5a9-11d7-407d-b511-b17f23a5602e",
   "metadata": {},
   "source": [
    "#### Combining Data"
   ]
  },
  {
   "cell_type": "code",
   "execution_count": 69,
   "id": "d19cba82-b321-4dfd-bed5-85e26f565e51",
   "metadata": {},
   "outputs": [
    {
     "data": {
      "text/html": [
       "<div>\n",
       "<style scoped>\n",
       "    .dataframe tbody tr th:only-of-type {\n",
       "        vertical-align: middle;\n",
       "    }\n",
       "\n",
       "    .dataframe tbody tr th {\n",
       "        vertical-align: top;\n",
       "    }\n",
       "\n",
       "    .dataframe thead th {\n",
       "        text-align: right;\n",
       "    }\n",
       "</style>\n",
       "<table border=\"1\" class=\"dataframe\">\n",
       "  <thead>\n",
       "    <tr style=\"text-align: right;\">\n",
       "      <th></th>\n",
       "      <th>country code</th>\n",
       "      <th>region</th>\n",
       "      <th>country</th>\n",
       "      <th>cars_per_cap</th>\n",
       "      <th>drives_right</th>\n",
       "      <th>cars_per_cap 2</th>\n",
       "      <th>cars_per_cap_3</th>\n",
       "      <th>country code</th>\n",
       "      <th>region</th>\n",
       "      <th>country</th>\n",
       "      <th>cars_per_cap</th>\n",
       "      <th>drives_right</th>\n",
       "      <th>cars_per_cap 2</th>\n",
       "      <th>cars_per_cap_3</th>\n",
       "    </tr>\n",
       "  </thead>\n",
       "  <tbody>\n",
       "    <tr>\n",
       "      <th>0</th>\n",
       "      <td>USCA</td>\n",
       "      <td>US</td>\n",
       "      <td>United States</td>\n",
       "      <td>809.0</td>\n",
       "      <td>False</td>\n",
       "      <td>404.5</td>\n",
       "      <td>80.9</td>\n",
       "      <td>USCA</td>\n",
       "      <td>US</td>\n",
       "      <td>United States</td>\n",
       "      <td>809.0</td>\n",
       "      <td>False</td>\n",
       "      <td>404.5</td>\n",
       "      <td>80.9</td>\n",
       "    </tr>\n",
       "    <tr>\n",
       "      <th>1</th>\n",
       "      <td>ASPAC</td>\n",
       "      <td>AUS</td>\n",
       "      <td>Austrailia</td>\n",
       "      <td>731.0</td>\n",
       "      <td>True</td>\n",
       "      <td>365.5</td>\n",
       "      <td>73.1</td>\n",
       "      <td>ASPAC</td>\n",
       "      <td>AUS</td>\n",
       "      <td>Austrailia</td>\n",
       "      <td>731.0</td>\n",
       "      <td>True</td>\n",
       "      <td>365.5</td>\n",
       "      <td>73.1</td>\n",
       "    </tr>\n",
       "    <tr>\n",
       "      <th>2</th>\n",
       "      <td>ASPAC</td>\n",
       "      <td>JAP</td>\n",
       "      <td>Japan</td>\n",
       "      <td>588.0</td>\n",
       "      <td>True</td>\n",
       "      <td>294.0</td>\n",
       "      <td>58.8</td>\n",
       "      <td>ASPAC</td>\n",
       "      <td>JAP</td>\n",
       "      <td>Japan</td>\n",
       "      <td>588.0</td>\n",
       "      <td>True</td>\n",
       "      <td>294.0</td>\n",
       "      <td>58.8</td>\n",
       "    </tr>\n",
       "    <tr>\n",
       "      <th>3</th>\n",
       "      <td>ASPAC</td>\n",
       "      <td>IN</td>\n",
       "      <td>India</td>\n",
       "      <td>18.0</td>\n",
       "      <td>True</td>\n",
       "      <td>9.0</td>\n",
       "      <td>1.8</td>\n",
       "      <td>ASPAC</td>\n",
       "      <td>IN</td>\n",
       "      <td>India</td>\n",
       "      <td>18.0</td>\n",
       "      <td>True</td>\n",
       "      <td>9.0</td>\n",
       "      <td>1.8</td>\n",
       "    </tr>\n",
       "    <tr>\n",
       "      <th>4</th>\n",
       "      <td>ASPAC</td>\n",
       "      <td>RU</td>\n",
       "      <td>Russia</td>\n",
       "      <td>200.0</td>\n",
       "      <td>False</td>\n",
       "      <td>100.0</td>\n",
       "      <td>20.0</td>\n",
       "      <td>ASPAC</td>\n",
       "      <td>RU</td>\n",
       "      <td>Russia</td>\n",
       "      <td>200.0</td>\n",
       "      <td>False</td>\n",
       "      <td>100.0</td>\n",
       "      <td>20.0</td>\n",
       "    </tr>\n",
       "    <tr>\n",
       "      <th>5</th>\n",
       "      <td>LATAM</td>\n",
       "      <td>MOR</td>\n",
       "      <td>Morocco</td>\n",
       "      <td>70.0</td>\n",
       "      <td>False</td>\n",
       "      <td>35.0</td>\n",
       "      <td>7.0</td>\n",
       "      <td>LATAM</td>\n",
       "      <td>MOR</td>\n",
       "      <td>Morocco</td>\n",
       "      <td>70.0</td>\n",
       "      <td>False</td>\n",
       "      <td>35.0</td>\n",
       "      <td>7.0</td>\n",
       "    </tr>\n",
       "    <tr>\n",
       "      <th>6</th>\n",
       "      <td>AFR</td>\n",
       "      <td>EG</td>\n",
       "      <td>Egypt</td>\n",
       "      <td>45.0</td>\n",
       "      <td>False</td>\n",
       "      <td>22.5</td>\n",
       "      <td>4.5</td>\n",
       "      <td>AFR</td>\n",
       "      <td>EG</td>\n",
       "      <td>Egypt</td>\n",
       "      <td>45.0</td>\n",
       "      <td>False</td>\n",
       "      <td>22.5</td>\n",
       "      <td>4.5</td>\n",
       "    </tr>\n",
       "    <tr>\n",
       "      <th>7</th>\n",
       "      <td>EUR</td>\n",
       "      <td>ENG</td>\n",
       "      <td>England</td>\n",
       "      <td>NaN</td>\n",
       "      <td>True</td>\n",
       "      <td>NaN</td>\n",
       "      <td>NaN</td>\n",
       "      <td>EUR</td>\n",
       "      <td>ENG</td>\n",
       "      <td>England</td>\n",
       "      <td>268.8</td>\n",
       "      <td>True</td>\n",
       "      <td>268.8</td>\n",
       "      <td>268.8</td>\n",
       "    </tr>\n",
       "  </tbody>\n",
       "</table>\n",
       "</div>"
      ],
      "text/plain": [
       "  country code region        country  cars_per_cap drives_right  \\\n",
       "0         USCA     US  United States         809.0       False    \n",
       "1        ASPAC    AUS     Austrailia         731.0        True    \n",
       "2        ASPAC    JAP          Japan         588.0        True    \n",
       "3        ASPAC     IN          India          18.0        True    \n",
       "4        ASPAC     RU         Russia         200.0       False    \n",
       "5        LATAM    MOR        Morocco          70.0       False    \n",
       "6          AFR     EG          Egypt          45.0       False    \n",
       "7          EUR    ENG        England           NaN        True    \n",
       "\n",
       "   cars_per_cap 2  cars_per_cap_3 country code region        country  \\\n",
       "0           404.5            80.9         USCA     US  United States   \n",
       "1           365.5            73.1        ASPAC    AUS     Austrailia   \n",
       "2           294.0            58.8        ASPAC    JAP          Japan   \n",
       "3             9.0             1.8        ASPAC     IN          India   \n",
       "4           100.0            20.0        ASPAC     RU         Russia   \n",
       "5            35.0             7.0        LATAM    MOR        Morocco   \n",
       "6            22.5             4.5          AFR     EG          Egypt   \n",
       "7             NaN             NaN          EUR    ENG        England   \n",
       "\n",
       "   cars_per_cap drives_right  cars_per_cap 2  cars_per_cap_3  \n",
       "0         809.0       False            404.5            80.9  \n",
       "1         731.0        True            365.5            73.1  \n",
       "2         588.0        True            294.0            58.8  \n",
       "3          18.0        True              9.0             1.8  \n",
       "4         200.0       False            100.0            20.0  \n",
       "5          70.0       False             35.0             7.0  \n",
       "6          45.0       False             22.5             4.5  \n",
       "7         268.8        True            268.8           268.8  "
      ]
     },
     "execution_count": 69,
     "metadata": {},
     "output_type": "execute_result"
    }
   ],
   "source": [
    "df8 = df5.copy()\n",
    "df9 = df6.copy()\n",
    "\n",
    "pd.concat([df8, df9])\n",
    "# combines rows of both the datasets\n",
    "\n",
    "pd.concat([df8, df9], axis = 1)\n",
    "# combines columns of both the datasets"
   ]
  },
  {
   "cell_type": "markdown",
   "id": "4cd30a8c-fa79-41da-b882-935cdf838240",
   "metadata": {},
   "source": [
    "#### Merging Data"
   ]
  },
  {
   "cell_type": "code",
   "execution_count": 80,
   "id": "bc671336-8ae8-400f-a884-785b724359e7",
   "metadata": {},
   "outputs": [
    {
     "data": {
      "text/html": [
       "<div>\n",
       "<style scoped>\n",
       "    .dataframe tbody tr th:only-of-type {\n",
       "        vertical-align: middle;\n",
       "    }\n",
       "\n",
       "    .dataframe tbody tr th {\n",
       "        vertical-align: top;\n",
       "    }\n",
       "\n",
       "    .dataframe thead th {\n",
       "        text-align: right;\n",
       "    }\n",
       "</style>\n",
       "<table border=\"1\" class=\"dataframe\">\n",
       "  <thead>\n",
       "    <tr style=\"text-align: right;\">\n",
       "      <th></th>\n",
       "      <th>country code1</th>\n",
       "      <th>region1</th>\n",
       "      <th>country</th>\n",
       "      <th>cars_per_cap1</th>\n",
       "      <th>drives_right1</th>\n",
       "      <th>cars_per_cap 21</th>\n",
       "      <th>cars_per_cap_31</th>\n",
       "      <th>country code2</th>\n",
       "      <th>region2</th>\n",
       "      <th>cars_per_cap2</th>\n",
       "      <th>drives_right2</th>\n",
       "      <th>cars_per_cap 22</th>\n",
       "      <th>cars_per_cap_32</th>\n",
       "    </tr>\n",
       "  </thead>\n",
       "  <tbody>\n",
       "    <tr>\n",
       "      <th>0</th>\n",
       "      <td>USCA</td>\n",
       "      <td>US</td>\n",
       "      <td>United States</td>\n",
       "      <td>809.0</td>\n",
       "      <td>False</td>\n",
       "      <td>404.5</td>\n",
       "      <td>80.9</td>\n",
       "      <td>USCA</td>\n",
       "      <td>US</td>\n",
       "      <td>809.0</td>\n",
       "      <td>False</td>\n",
       "      <td>404.5</td>\n",
       "      <td>80.9</td>\n",
       "    </tr>\n",
       "    <tr>\n",
       "      <th>1</th>\n",
       "      <td>ASPAC</td>\n",
       "      <td>AUS</td>\n",
       "      <td>Austrailia</td>\n",
       "      <td>731.0</td>\n",
       "      <td>True</td>\n",
       "      <td>365.5</td>\n",
       "      <td>73.1</td>\n",
       "      <td>ASPAC</td>\n",
       "      <td>AUS</td>\n",
       "      <td>731.0</td>\n",
       "      <td>True</td>\n",
       "      <td>365.5</td>\n",
       "      <td>73.1</td>\n",
       "    </tr>\n",
       "    <tr>\n",
       "      <th>2</th>\n",
       "      <td>ASPAC</td>\n",
       "      <td>JAP</td>\n",
       "      <td>Japan</td>\n",
       "      <td>588.0</td>\n",
       "      <td>True</td>\n",
       "      <td>294.0</td>\n",
       "      <td>58.8</td>\n",
       "      <td>ASPAC</td>\n",
       "      <td>JAP</td>\n",
       "      <td>588.0</td>\n",
       "      <td>True</td>\n",
       "      <td>294.0</td>\n",
       "      <td>58.8</td>\n",
       "    </tr>\n",
       "    <tr>\n",
       "      <th>3</th>\n",
       "      <td>ASPAC</td>\n",
       "      <td>IN</td>\n",
       "      <td>India</td>\n",
       "      <td>18.0</td>\n",
       "      <td>True</td>\n",
       "      <td>9.0</td>\n",
       "      <td>1.8</td>\n",
       "      <td>ASPAC</td>\n",
       "      <td>IN</td>\n",
       "      <td>18.0</td>\n",
       "      <td>True</td>\n",
       "      <td>9.0</td>\n",
       "      <td>1.8</td>\n",
       "    </tr>\n",
       "    <tr>\n",
       "      <th>4</th>\n",
       "      <td>ASPAC</td>\n",
       "      <td>RU</td>\n",
       "      <td>Russia</td>\n",
       "      <td>200.0</td>\n",
       "      <td>False</td>\n",
       "      <td>100.0</td>\n",
       "      <td>20.0</td>\n",
       "      <td>ASPAC</td>\n",
       "      <td>RU</td>\n",
       "      <td>200.0</td>\n",
       "      <td>False</td>\n",
       "      <td>100.0</td>\n",
       "      <td>20.0</td>\n",
       "    </tr>\n",
       "    <tr>\n",
       "      <th>5</th>\n",
       "      <td>LATAM</td>\n",
       "      <td>MOR</td>\n",
       "      <td>Morocco</td>\n",
       "      <td>70.0</td>\n",
       "      <td>False</td>\n",
       "      <td>35.0</td>\n",
       "      <td>7.0</td>\n",
       "      <td>LATAM</td>\n",
       "      <td>MOR</td>\n",
       "      <td>70.0</td>\n",
       "      <td>False</td>\n",
       "      <td>35.0</td>\n",
       "      <td>7.0</td>\n",
       "    </tr>\n",
       "    <tr>\n",
       "      <th>6</th>\n",
       "      <td>AFR</td>\n",
       "      <td>EG</td>\n",
       "      <td>Egypt</td>\n",
       "      <td>45.0</td>\n",
       "      <td>False</td>\n",
       "      <td>22.5</td>\n",
       "      <td>4.5</td>\n",
       "      <td>AFR</td>\n",
       "      <td>EG</td>\n",
       "      <td>45.0</td>\n",
       "      <td>False</td>\n",
       "      <td>22.5</td>\n",
       "      <td>4.5</td>\n",
       "    </tr>\n",
       "    <tr>\n",
       "      <th>7</th>\n",
       "      <td>EUR</td>\n",
       "      <td>ENG</td>\n",
       "      <td>England</td>\n",
       "      <td>NaN</td>\n",
       "      <td>True</td>\n",
       "      <td>NaN</td>\n",
       "      <td>NaN</td>\n",
       "      <td>EUR</td>\n",
       "      <td>ENG</td>\n",
       "      <td>268.8</td>\n",
       "      <td>True</td>\n",
       "      <td>268.8</td>\n",
       "      <td>268.8</td>\n",
       "    </tr>\n",
       "  </tbody>\n",
       "</table>\n",
       "</div>"
      ],
      "text/plain": [
       "  country code1 region1        country  cars_per_cap1 drives_right1  \\\n",
       "0          USCA      US  United States          809.0        False    \n",
       "1         ASPAC     AUS     Austrailia          731.0         True    \n",
       "2         ASPAC     JAP          Japan          588.0         True    \n",
       "3         ASPAC      IN          India           18.0         True    \n",
       "4         ASPAC      RU         Russia          200.0        False    \n",
       "5         LATAM     MOR        Morocco           70.0        False    \n",
       "6           AFR      EG          Egypt           45.0        False    \n",
       "7           EUR     ENG        England            NaN         True    \n",
       "\n",
       "   cars_per_cap 21  cars_per_cap_31 country code2 region2  cars_per_cap2  \\\n",
       "0            404.5             80.9          USCA      US          809.0   \n",
       "1            365.5             73.1         ASPAC     AUS          731.0   \n",
       "2            294.0             58.8         ASPAC     JAP          588.0   \n",
       "3              9.0              1.8         ASPAC      IN           18.0   \n",
       "4            100.0             20.0         ASPAC      RU          200.0   \n",
       "5             35.0              7.0         LATAM     MOR           70.0   \n",
       "6             22.5              4.5           AFR      EG           45.0   \n",
       "7              NaN              NaN           EUR     ENG          268.8   \n",
       "\n",
       "  drives_right2  cars_per_cap 22  cars_per_cap_32  \n",
       "0        False             404.5             80.9  \n",
       "1         True             365.5             73.1  \n",
       "2         True             294.0             58.8  \n",
       "3         True               9.0              1.8  \n",
       "4        False             100.0             20.0  \n",
       "5        False              35.0              7.0  \n",
       "6        False              22.5              4.5  \n",
       "7         True             268.8            268.8  "
      ]
     },
     "execution_count": 80,
     "metadata": {},
     "output_type": "execute_result"
    }
   ],
   "source": [
    "df8.merge(df9)\n",
    "# merges the datasets based on similar/same columns\n",
    "\n",
    "df8.merge(df9, how = 'outer') # inner is default, other hows are left, right etc\n",
    "\n",
    "#or\n",
    "\n",
    "pd.merge(df8, df9, on = ['country'])\n",
    "# merge on the mentioned columns, if there are other similar columns whoch are not mention in 'on' then they are treated as different column and a suffix like _x and _y is attached to them\n",
    "\n",
    "pd.merge(df8, df9, on = ['country'], suffixes = ('1', '2'))\n",
    "# custom suffixes\n",
    "\n",
    "pd.merge(df8, df9, left_on = ['country'], right_on = ['country'], suffixes = ('1', '2'))"
   ]
  },
  {
   "cell_type": "code",
   "execution_count": null,
   "id": "dff59ccd-07bc-4015-b1df-5a545391e50d",
   "metadata": {},
   "outputs": [],
   "source": []
  }
 ],
 "metadata": {
  "kernelspec": {
   "display_name": "Python 3 (ipykernel)",
   "language": "python",
   "name": "python3"
  },
  "language_info": {
   "codemirror_mode": {
    "name": "ipython",
    "version": 3
   },
   "file_extension": ".py",
   "mimetype": "text/x-python",
   "name": "python",
   "nbconvert_exporter": "python",
   "pygments_lexer": "ipython3",
   "version": "3.11.4"
  }
 },
 "nbformat": 4,
 "nbformat_minor": 5
}
