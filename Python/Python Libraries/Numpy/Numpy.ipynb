{
 "cells": [
  {
   "cell_type": "markdown",
   "id": "7f8f7648-1172-4ede-80e0-e6bcdc9c458c",
   "metadata": {},
   "source": [
    "# Numpy\n",
    "\n",
    "- Most important concepts\n",
    "    - fetching the players who have height greater than 170 -> players = [(63,169), (70,189), (86,180), (45,130)] (weight,height)<br>\n",
    "array[:,1] > 170 this creates a boolean array marking true for all the values satifying the condition and false otherwise.<br>\n",
    "array[array[:,1] > 170] fetches the values which are true in the previous step\n",
    "    - Creating arrays -> zeroes, ones, arange(start, end not included, step), np.random.randint(start, end not included, size = 10), np.random.random([rows, columns])\n",
    "    -np.reshape(rows,columns) -> to reshape the array\n",
    "    - np.vstack((array1,array2)), np.hstack((array1,array2)), np.absolute(array), np.power(array,power), where, searchsorted, sort, shuffle, unique, insert, delete"
   ]
  },
  {
   "cell_type": "markdown",
   "id": "b41854ea-cf3b-43a3-bb6d-d290042d6da6",
   "metadata": {},
   "source": [
    "## Converting a list to an array\n",
    "- np.array(list)"
   ]
  },
  {
   "cell_type": "code",
   "execution_count": 1,
   "id": "78898723-2031-4a0f-8e05-ddd60ff598d5",
   "metadata": {},
   "outputs": [
    {
     "data": {
      "text/plain": [
       "array([12, 45, 23, 78])"
      ]
     },
     "execution_count": 1,
     "metadata": {},
     "output_type": "execute_result"
    }
   ],
   "source": [
    "import numpy as np\n",
    "\n",
    "list_example = [12,45,23,78]\n",
    "\n",
    "array = np.array(list_example)\n",
    "array"
   ]
  },
  {
   "cell_type": "markdown",
   "id": "7f22a127-32a5-48bf-8080-27d781e61efa",
   "metadata": {},
   "source": [
    "## Checking the datatype using type function\n",
    "- type(array)"
   ]
  },
  {
   "cell_type": "code",
   "execution_count": 2,
   "id": "b6f62d7c-ba8f-421e-8f7e-6397044448cf",
   "metadata": {},
   "outputs": [
    {
     "data": {
      "text/plain": [
       "numpy.ndarray"
      ]
     },
     "execution_count": 2,
     "metadata": {},
     "output_type": "execute_result"
    }
   ],
   "source": [
    "type(array)"
   ]
  },
  {
   "cell_type": "markdown",
   "id": "64a6f675-242d-4f94-bec5-103a4a0ddf04",
   "metadata": {},
   "source": [
    "## Mathematical operations can be applied on arrays\n",
    "   addition of lists give concatenation while addition of arrays give addition"
   ]
  },
  {
   "cell_type": "code",
   "execution_count": 7,
   "id": "47634cef-bbba-4b2b-880d-f0c4c5b0fca1",
   "metadata": {},
   "outputs": [
    {
     "data": {
      "text/plain": [
       "array([ 30.48, 114.3 ,  58.42, 198.12])"
      ]
     },
     "execution_count": 7,
     "metadata": {},
     "output_type": "execute_result"
    }
   ],
   "source": [
    "array*2.54"
   ]
  },
  {
   "cell_type": "code",
   "execution_count": 23,
   "id": "6c9fbda3-5018-400c-8d14-7c5b5cd4d192",
   "metadata": {},
   "outputs": [
    {
     "name": "stdout",
     "output_type": "stream",
     "text": [
      "[1, 2, 3, 4, 5, 6]\n",
      "[5 7 9]\n",
      "(3,)\n",
      "1\n",
      "[[2 3 4 5]\n",
      " [3 4 5 6]\n",
      " [4 5 6 7]\n",
      " [5 6 7 8]]\n"
     ]
    }
   ],
   "source": [
    "# addition operation\n",
    "\n",
    "#list concatenates\n",
    "list1 = [1,2,3]\n",
    "list2 = [4,5,6]\n",
    "print(list1 + list2)\n",
    "\n",
    "#array performs addition\n",
    "#if shape of both the arrays is not same then broadcasting error occurs therefore shape should be same or should be of the format (1*4) (4*1) which will give output of (4*4)\n",
    "# in the second scenario 1st element of array1 gets added to 1st element of array2, 2nd element of array1 gets added to 2nd element of array2 and so on\n",
    "array1 = np.array(list1)\n",
    "array2 = np.array(list2)\n",
    "print(array1 + array2)\n",
    "print(array1.shape)\n",
    "print(array1.ndim)\n",
    "\n",
    "# 2nd scenario\n",
    "array3 = np.array([1,2,3,4])\n",
    "array4 = np.array([[1], [2], [3], [4]])\n",
    "print(array3 + array4)"
   ]
  },
  {
   "cell_type": "markdown",
   "id": "6660e0fa-c069-4932-81b0-b0b85547f039",
   "metadata": {},
   "source": [
    "## Shape, Dimension and Datatype\n",
    "\n",
    "- shape \n",
    "    - array.shape\n",
    "    - rows * columns\n",
    "    - [4,5,6] -> 3*1\n",
    "    - [(63,169), (70,189), (86,180), (45,130)] -> 4*2\n",
    "\n",
    "- dimension\n",
    "    - array.ndim\n",
    "    - number of axes\n",
    "    - [4,5,6] -> 1 axis/dimension only\n",
    "    - [(63,169), (70,189), (86,180), (45,130)] -> 2 axes/dimensions therefore 2D array therefore 1D array\n",
    "    - [[1,2,3,4]] -> 2D/2 dimensional because outer list is also there<br>\n",
    "    - print(np.array([1,2,3,4]).shape) -> (4,1)<br>\n",
    "      print(np.array([1,2,3,4]).ndim) -> 1D<br>\n",
    "\n",
    "      print(np.array([[1,2,3,4]]).shape)(1,4)<br>\n",
    "      print(np.array([[1,2,3,4]]).ndim)2D<br>\n",
    "    - the number of dimensions = number of square brackets opening/closing = number of loops required to iterate\n",
    "    - or iterate through 1 loop using nditer function<br>for i in np.nditer(array):<br>\n",
    "    print(i)\n",
    "\n",
    "- datatype\n",
    "    - array.dtype\n"
   ]
  },
  {
   "cell_type": "code",
   "execution_count": 35,
   "id": "b5a2b813-0331-4968-aa7d-1023522a53c5",
   "metadata": {},
   "outputs": [
    {
     "name": "stdout",
     "output_type": "stream",
     "text": [
      "180\n",
      "4\n",
      "[[ 63 169]\n",
      " [ 70 189]\n",
      " [ 86 180]\n",
      " [ 45 130]]\n",
      "(4, 2)\n",
      "2\n",
      "int32\n",
      "(4,)\n",
      "1\n",
      "(1, 4)\n",
      "2\n",
      "\n",
      "1 [1 2 3 4]\n",
      "2 [1 2 3 4]\n",
      "3 [1 2 3 4]\n",
      "4 [1 2 3 4]\n",
      "\n",
      "1\n",
      "2\n",
      "3\n",
      "4\n",
      "\n",
      "b'1'\n",
      "b'2'\n",
      "b'3'\n",
      "b'4'\n"
     ]
    }
   ],
   "source": [
    "# tuple that contains weight and height of players - \n",
    "players = [(63,169), (70,189), (86,180), (45,130)]\n",
    "print(players[2][1])\n",
    "print(len(players))\n",
    "\n",
    "array = np.array(players)\n",
    "print(array)\n",
    "print(array.shape) # output = (4,2) - 4 rows and 2 columns.\n",
    "\n",
    "# dimension of the array\n",
    "print(array.ndim) # output - 2\n",
    "\n",
    "# datatype of elements in the array\n",
    "print(array.dtype)\n",
    "\n",
    "print(np.array([1,2,3,4]).shape)\n",
    "print(np.array([1,2,3,4]).ndim)\n",
    "\n",
    "print(np.array([[1,2,3,4]]).shape)\n",
    "print(np.array([[1,2,3,4]]).ndim)\n",
    "print()\n",
    "\n",
    "#iterating over the array\n",
    "# number of loops required = number of dimensions\n",
    "array_it = np.array([[1,2,3,4]])\n",
    "for i in array_it:\n",
    "    for j in i:\n",
    "        print(j,i)\n",
    "print()\n",
    "\n",
    "#nditer function\n",
    "for i in np.nditer(array_it):\n",
    "    print(i)\n",
    "\n",
    "#converting the datatype of the elements to String while iterating\n",
    "print()\n",
    "for i in np.nditer(array_it, flags = ['buffered'], op_dtypes = ['S']):\n",
    "    print(i)"
   ]
  },
  {
   "cell_type": "markdown",
   "id": "70e6ff71-18ed-4576-b647-6b52951277fd",
   "metadata": {},
   "source": [
    "## Multiplication of 2D arrays\n",
    "- first column gets multiplied with first column and second column gets multiplied with second column if you multiply manually\n",
    "- for proper matrix multiplication either use np.matmul(array1, array2) or array1 @ array2"
   ]
  },
  {
   "cell_type": "code",
   "execution_count": 15,
   "id": "59e7dcb7-7814-4219-8e9d-5e9a9a724696",
   "metadata": {},
   "outputs": [
    {
     "name": "stdout",
     "output_type": "stream",
     "text": [
      "[[189 338]\n",
      " [210 378]\n",
      " [258 360]\n",
      " [135 260]]\n",
      "\n",
      "[527 588 618 395]\n",
      "\n",
      "[527 588 618 395]\n"
     ]
    }
   ],
   "source": [
    "# multiplying the first column with 3 and second column with 2\n",
    "\n",
    "multiplied_array = array * [3,2]\n",
    "print(multiplied_array)\n",
    "print()\n",
    "\n",
    "multiplied_array1 = np.matmul(array, [3,2])\n",
    "print(multiplied_array1)\n",
    "print()\n",
    "\n",
    "multiplied_array2 = array @ [3,2]\n",
    "print(multiplied_array2)"
   ]
  },
  {
   "cell_type": "markdown",
   "id": "34a0dd3b-be88-4afe-8496-94a6aa8c6b1f",
   "metadata": {},
   "source": [
    "## Accessing elements of arrays"
   ]
  },
  {
   "cell_type": "code",
   "execution_count": 7,
   "id": "870bf54a-2157-4270-b1f0-ba797ded8474",
   "metadata": {},
   "outputs": [
    {
     "name": "stdout",
     "output_type": "stream",
     "text": [
      "[ 63 169]\n",
      "169\n",
      "[63 70 86 45]\n"
     ]
    }
   ],
   "source": [
    "# accessing the first row\n",
    "print(array[0])\n",
    "\n",
    "# accessing the second element of the first row\n",
    "print(array[0][1])\n",
    "\n",
    "# accessing the first column\n",
    "print(array[:,0])"
   ]
  },
  {
   "cell_type": "code",
   "execution_count": 8,
   "id": "78f3bfd6-ac65-474b-899e-328d6605cb31",
   "metadata": {},
   "outputs": [
    {
     "name": "stdout",
     "output_type": "stream",
     "text": [
      "[False  True  True False]\n",
      "[[ 70 189]\n",
      " [ 86 180]]\n",
      "(2, 2)\n"
     ]
    }
   ],
   "source": [
    "# fetching the players who have height greater than 170 -> players = [(63,169), (70,189), (86,180), (45,130)] (weight,height)\n",
    "new_array = array[:,1] > 170 # this creates a boolean array marking true for all the values satifying the condition and false otherwise.\n",
    "print(new_array)\n",
    "\n",
    "new_array1 = array[array[:,1] > 170] # fetches the values which are true in the previous step\n",
    "print(new_array1)\n",
    "\n",
    "print(new_array1.shape)"
   ]
  },
  {
   "cell_type": "code",
   "execution_count": 9,
   "id": "fd9eaa0d-56a2-46a2-be13-68188a9174e2",
   "metadata": {},
   "outputs": [
    {
     "name": "stdout",
     "output_type": "stream",
     "text": [
      "['batsman' 'bowler' 'batsman' 'bowler']\n",
      "[[ 63 169]\n",
      " [ 86 180]]\n"
     ]
    }
   ],
   "source": [
    "skill = ['batsman', 'bowler', 'batsman','bowler']\n",
    "skill_array = np.array(skill) # size of the skill_array and the 'array' array should be same because we will be applying operations on them together\n",
    "print(skill_array)\n",
    "# fetch the height of all players who are batsman\n",
    "batsman_array = array[skill_array == 'batsman']\n",
    "print(batsman_array)"
   ]
  },
  {
   "cell_type": "markdown",
   "id": "dd953cac-3d71-40ca-967f-8d71938959bc",
   "metadata": {},
   "source": [
    "## help function"
   ]
  },
  {
   "cell_type": "code",
   "execution_count": 10,
   "id": "51f50020-c488-478a-a609-8886b3dd2dde",
   "metadata": {},
   "outputs": [
    {
     "name": "stdout",
     "output_type": "stream",
     "text": [
      "Help on function ones in module numpy:\n",
      "\n",
      "ones(shape, dtype=None, order='C', *, like=None)\n",
      "    Return a new array of given shape and type, filled with ones.\n",
      "    \n",
      "    Parameters\n",
      "    ----------\n",
      "    shape : int or sequence of ints\n",
      "        Shape of the new array, e.g., ``(2, 3)`` or ``2``.\n",
      "    dtype : data-type, optional\n",
      "        The desired data-type for the array, e.g., `numpy.int8`.  Default is\n",
      "        `numpy.float64`.\n",
      "    order : {'C', 'F'}, optional, default: C\n",
      "        Whether to store multi-dimensional data in row-major\n",
      "        (C-style) or column-major (Fortran-style) order in\n",
      "        memory.\n",
      "    like : array_like, optional\n",
      "        Reference object to allow the creation of arrays which are not\n",
      "        NumPy arrays. If an array-like passed in as ``like`` supports\n",
      "        the ``__array_function__`` protocol, the result will be defined\n",
      "        by it. In this case, it ensures the creation of an array object\n",
      "        compatible with that passed in via this argument.\n",
      "    \n",
      "        .. versionadded:: 1.20.0\n",
      "    \n",
      "    Returns\n",
      "    -------\n",
      "    out : ndarray\n",
      "        Array of ones with the given shape, dtype, and order.\n",
      "    \n",
      "    See Also\n",
      "    --------\n",
      "    ones_like : Return an array of ones with shape and type of input.\n",
      "    empty : Return a new uninitialized array.\n",
      "    zeros : Return a new array setting values to zero.\n",
      "    full : Return a new array of given shape filled with value.\n",
      "    \n",
      "    \n",
      "    Examples\n",
      "    --------\n",
      "    >>> np.ones(5)\n",
      "    array([1., 1., 1., 1., 1.])\n",
      "    \n",
      "    >>> np.ones((5,), dtype=int)\n",
      "    array([1, 1, 1, 1, 1])\n",
      "    \n",
      "    >>> np.ones((2, 1))\n",
      "    array([[1.],\n",
      "           [1.]])\n",
      "    \n",
      "    >>> s = (2,2)\n",
      "    >>> np.ones(s)\n",
      "    array([[1.,  1.],\n",
      "           [1.,  1.]])\n",
      "\n"
     ]
    }
   ],
   "source": [
    "# use help function whenever you are stuck anywhere, it tells the use of the function you mention in it \n",
    "help(np.ones) # tells what does the np.ones function does"
   ]
  },
  {
   "cell_type": "markdown",
   "id": "2b96a0d2-552e-4a33-8cee-529ccfb7994e",
   "metadata": {},
   "source": [
    "## Creating a 1D array"
   ]
  },
  {
   "cell_type": "code",
   "execution_count": 11,
   "id": "97df26f6-0d43-4df7-a02a-fd72c6209b37",
   "metadata": {},
   "outputs": [
    {
     "name": "stdout",
     "output_type": "stream",
     "text": [
      "[1. 1. 1. 1. 1.]\n",
      "float64\n",
      "[1 1 1 1 1 1]\n",
      "2d array - \n",
      "[[1. 1. 1. 1.]\n",
      " [1. 1. 1. 1.]\n",
      " [1. 1. 1. 1.]\n",
      " [1. 1. 1. 1.]\n",
      " [1. 1. 1. 1.]\n",
      " [1. 1. 1. 1.]]\n"
     ]
    }
   ],
   "source": [
    "# creating a 1D array with all 1s \n",
    "arr = np.ones(5)\n",
    "print(arr)\n",
    "\n",
    "print(arr.dtype) # output - float, by default the array created is of float type so if you want the array to be of some other datatype \n",
    "                          # you have to mention it explicitly\n",
    "\n",
    "arr_int = np.ones(6,dtype = int)\n",
    "print(arr_int)\n",
    "\n",
    "# creating a 2D array\n",
    "arr_2d = np.ones((6,4))\n",
    "print('2d array - ')\n",
    "print(arr_2d)"
   ]
  },
  {
   "cell_type": "code",
   "execution_count": 12,
   "id": "b3e51a6a-f6b5-4f53-a9a2-e57c7da14b80",
   "metadata": {},
   "outputs": [
    {
     "name": "stdout",
     "output_type": "stream",
     "text": [
      "[0. 0. 0. 0. 0.]\n",
      "[0 0 0 0 0 0]\n"
     ]
    }
   ],
   "source": [
    "# creating a 1D array with all 0s. Everything is same just the function is different.\n",
    "\n",
    "arr = np.zeros(5)\n",
    "print(arr)\n",
    "\n",
    "arr_int = np.zeros(6,dtype = int)\n",
    "print(arr_int)\n"
   ]
  },
  {
   "cell_type": "markdown",
   "id": "f297ad7d-fdcc-4b32-917e-9f18397f0096",
   "metadata": {},
   "source": [
    "## Creating a list"
   ]
  },
  {
   "cell_type": "code",
   "execution_count": 13,
   "id": "61dcba44-0509-486a-8c2a-27e2a4bffa12",
   "metadata": {},
   "outputs": [
    {
     "data": {
      "text/plain": [
       "[1, 2, 3, 4]"
      ]
     },
     "execution_count": 13,
     "metadata": {},
     "output_type": "execute_result"
    }
   ],
   "source": [
    "# create a list from a range L to R-1\n",
    "list(range(1,5)) # creates a list from 1 to 4"
   ]
  },
  {
   "cell_type": "markdown",
   "id": "69e5b5e6-8d7f-443e-b202-ab5a29e12431",
   "metadata": {},
   "source": [
    "## creating an array using arange function"
   ]
  },
  {
   "cell_type": "code",
   "execution_count": 14,
   "id": "fdce471a-fe56-4d58-b413-31e2fd017a88",
   "metadata": {},
   "outputs": [
    {
     "name": "stdout",
     "output_type": "stream",
     "text": [
      "[0 1 2 3 4]\n",
      "[4 6 8]\n"
     ]
    }
   ],
   "source": [
    "# create an array from range 0 to n-1\n",
    "array3 = np.arange(5)\n",
    "print(array3)\n",
    "\n",
    "# np.arange(start, end(not included), step size)\n",
    "array4 = np.arange(4,10,2)\n",
    "print(array4)"
   ]
  },
  {
   "cell_type": "markdown",
   "id": "8dab0cee-c3cc-4af2-9299-a8d9d94da2f4",
   "metadata": {},
   "source": [
    "## Random Function"
   ]
  },
  {
   "cell_type": "code",
   "execution_count": 15,
   "id": "ceca1b50-e278-4035-a40e-7929916a4fb4",
   "metadata": {},
   "outputs": [
    {
     "name": "stdout",
     "output_type": "stream",
     "text": [
      "[1 0 3 3 4 4 3 3 3 2]\n",
      "[4 3 3 3 3 5 4 5 4 5]\n"
     ]
    }
   ],
   "source": [
    "# random function 1D array\n",
    "# create an array using integers in the range L to R(not included)\n",
    "array1 = np.random.randint(5,size = 10) # creates an array using integers in the range 0 to 5(not included) of size = 10\n",
    "print(array1)\n",
    "\n",
    "# create an array using integers in the range L to R(not included)\n",
    "array2 = np.random.randint(3,6,size = 10) # creates an array using integers from 3 to 6(not included) of size = 10\n",
    "print(array2)"
   ]
  },
  {
   "cell_type": "code",
   "execution_count": 16,
   "id": "363365af-1b94-4bab-984e-e5a8e8b90c60",
   "metadata": {},
   "outputs": [
    {
     "data": {
      "text/plain": [
       "array([[0.08591892, 0.85808647, 0.65943059, 0.91313623],\n",
       "       [0.43579853, 0.86974801, 0.35852016, 0.59842332],\n",
       "       [0.50311744, 0.67102536, 0.78244387, 0.88897655]])"
      ]
     },
     "execution_count": 16,
     "metadata": {},
     "output_type": "execute_result"
    }
   ],
   "source": [
    "# random function 2D array\n",
    "np.random.random([3,4]) # 3 is the number of rows and 4 is the number of columns"
   ]
  },
  {
   "cell_type": "markdown",
   "id": "20a50aff-3fd2-4ae1-b9a9-c0cad3d7be65",
   "metadata": {},
   "source": [
    "## Note - the shape and dimension of the arrays should be same to apply the operation\n"
   ]
  },
  {
   "cell_type": "markdown",
   "id": "69f56070-f5e6-4b1a-a4cd-2818d3dde391",
   "metadata": {},
   "source": [
    "## Stacking Arrays"
   ]
  },
  {
   "cell_type": "code",
   "execution_count": 17,
   "id": "5a11fc67-2267-4247-9b7a-dba54a2171a1",
   "metadata": {},
   "outputs": [
    {
     "data": {
      "text/plain": [
       "array([1, 2, 3, 2, 3, 4])"
      ]
     },
     "execution_count": 17,
     "metadata": {},
     "output_type": "execute_result"
    }
   ],
   "source": [
    "# Stacking arrays\n",
    "\n",
    "#hstack()-horizontal stack\n",
    "#vstack()-vertical stack\n",
    "a = np.array([1,2,3])\n",
    "b = np.array([2,3,4])\n",
    "np.hstack((a,b))"
   ]
  },
  {
   "cell_type": "code",
   "execution_count": 18,
   "id": "3733d693-d2e5-4741-af35-693d693b584c",
   "metadata": {},
   "outputs": [
    {
     "data": {
      "text/plain": [
       "array([[1, 2, 3],\n",
       "       [2, 3, 4]])"
      ]
     },
     "execution_count": 18,
     "metadata": {},
     "output_type": "execute_result"
    }
   ],
   "source": [
    "np.vstack((a,b))"
   ]
  },
  {
   "cell_type": "code",
   "execution_count": 19,
   "id": "3a548364-ac45-454d-b129-b90ceddc1339",
   "metadata": {},
   "outputs": [
    {
     "data": {
      "text/plain": [
       "array([[ 0,  1,  2,  3],\n",
       "       [ 4,  5,  6,  7],\n",
       "       [ 8,  9, 10, 11],\n",
       "       [ 0,  1,  2,  3],\n",
       "       [ 4,  5,  6,  7],\n",
       "       [ 8,  9, 10, 11],\n",
       "       [12, 13, 14, 15],\n",
       "       [16, 17, 18, 19]])"
      ]
     },
     "execution_count": 19,
     "metadata": {},
     "output_type": "execute_result"
    }
   ],
   "source": [
    "array5 = np.arange(12).reshape(3,4) # 3*4\n",
    "array6 = np.arange(20).reshape(5,4) # 5*4\n",
    "\n",
    "np.vstack((array5,array6))"
   ]
  },
  {
   "cell_type": "markdown",
   "id": "36e522ac-b075-4c1c-8856-2c6aa0370b3b",
   "metadata": {},
   "source": [
    "## Power Function"
   ]
  },
  {
   "cell_type": "code",
   "execution_count": 20,
   "id": "2a3f7fd6-622b-414d-a742-6ce6ed273a42",
   "metadata": {},
   "outputs": [
    {
     "data": {
      "text/plain": [
       "array([[  0,   1,   4,   9],\n",
       "       [ 16,  25,  36,  49],\n",
       "       [ 64,  81, 100, 121]], dtype=int32)"
      ]
     },
     "execution_count": 20,
     "metadata": {},
     "output_type": "execute_result"
    }
   ],
   "source": [
    "# power function for exponential operation\n",
    "np.power(array5,2) # power 2 of all the elements of array5"
   ]
  },
  {
   "cell_type": "markdown",
   "id": "409c0c43-e16b-43c5-a4d3-cb9347ea9ff8",
   "metadata": {},
   "source": [
    "## Absolute Function"
   ]
  },
  {
   "cell_type": "code",
   "execution_count": 21,
   "id": "c71bae15-f66a-4e93-a353-0a277eaeed87",
   "metadata": {},
   "outputs": [
    {
     "name": "stdout",
     "output_type": "stream",
     "text": [
      "[ 1  4  3  0 66]\n",
      "[ 1  4  3  0 66]\n"
     ]
    }
   ],
   "source": [
    "# converting a negetive array into positive using abs or absolute function\n",
    "neg_array = np.array([-1,-4,3,0,-66])\n",
    "\n",
    "print(abs(neg_array))\n",
    "# or\n",
    "print(np.absolute(neg_array))"
   ]
  },
  {
   "cell_type": "markdown",
   "id": "d1b309e7-4683-4c78-92c1-0303fee17e91",
   "metadata": {},
   "source": [
    "## Where Function \n",
    "- used to search an element in the array"
   ]
  },
  {
   "cell_type": "code",
   "execution_count": 37,
   "id": "27c3ee7c-41c7-4ef9-b0bb-632f36bcff22",
   "metadata": {},
   "outputs": [
    {
     "name": "stdout",
     "output_type": "stream",
     "text": [
      "(array([1, 3, 5], dtype=int64),)\n"
     ]
    }
   ],
   "source": [
    "array = np.array([1,2,3,4,1,2,5])\n",
    "\n",
    "# where function returns the indices wherever the mentioned value is present\n",
    "index = np.where(array%2 == 0)\n",
    "print(index)"
   ]
  },
  {
   "cell_type": "markdown",
   "id": "c8aa7e73-80a4-4102-95b3-9ea52f869508",
   "metadata": {},
   "source": [
    "## Seach Sorted Function"
   ]
  },
  {
   "cell_type": "code",
   "execution_count": 52,
   "id": "ca5e2659-2462-479e-94db-e1315736dc8c",
   "metadata": {},
   "outputs": [
    {
     "name": "stdout",
     "output_type": "stream",
     "text": [
      "2\n",
      "5\n"
     ]
    }
   ],
   "source": [
    "array = np.array([1,2,4,5,6])\n",
    "\n",
    "# searchsorted function returns the index where the value mentioned will be inserted in the sorted array\n",
    "index = np.searchsorted(array, 3)\n",
    "print(index)\n",
    "\n",
    "index1 = np.searchsorted(array, 7, side = \"left\")\n",
    "print(index1)"
   ]
  },
  {
   "cell_type": "markdown",
   "id": "ec6b8dff-ee12-4674-bf8f-4985a18d47a1",
   "metadata": {},
   "source": [
    "## Sort Array"
   ]
  },
  {
   "cell_type": "code",
   "execution_count": 53,
   "id": "9d8b64c8-2f9c-4c7c-8227-d3287959b165",
   "metadata": {},
   "outputs": [
    {
     "name": "stdout",
     "output_type": "stream",
     "text": [
      "[1 2 3 4 5 6]\n"
     ]
    }
   ],
   "source": [
    "array = np.array([6,5,4,3,2,1])\n",
    "\n",
    "sorted_arr = np.sort(array)\n",
    "print(sorted_arr)"
   ]
  },
  {
   "cell_type": "markdown",
   "id": "e91644cb-dad2-44b4-b8ad-08350a1b8f95",
   "metadata": {},
   "source": [
    "## Shuffle Function"
   ]
  },
  {
   "cell_type": "code",
   "execution_count": 58,
   "id": "134ae2bb-1ef9-4e36-aba2-4feb6252b35b",
   "metadata": {},
   "outputs": [
    {
     "name": "stdout",
     "output_type": "stream",
     "text": [
      "[4 3 1 6 2 5]\n"
     ]
    }
   ],
   "source": [
    "array = np.array([6,5,4,3,2,1])\n",
    "\n",
    "np.random.shuffle(array)\n",
    "print(array)"
   ]
  },
  {
   "cell_type": "markdown",
   "id": "b994de7a-4abb-445a-9005-2a0c5696d247",
   "metadata": {},
   "source": [
    "## Unique Function"
   ]
  },
  {
   "cell_type": "code",
   "execution_count": 62,
   "id": "b295adcc-449f-4e24-ae74-0934e80064b5",
   "metadata": {},
   "outputs": [
    {
     "name": "stdout",
     "output_type": "stream",
     "text": [
      "[1 2 3 4 5 6]\n",
      "(array([1, 2, 3, 4, 5, 6]), array([0, 1, 2, 3, 4, 5], dtype=int64), array([1, 1, 1, 1, 1, 1], dtype=int64))\n"
     ]
    }
   ],
   "source": [
    "array = np.array([6,5,4,3,2,1,1,6,4])\n",
    "\n",
    "array = np.unique(array)\n",
    "print(array)\n",
    "\n",
    "array = np.unique(array, return_index= True, return_counts = True)\n",
    "print(array)"
   ]
  },
  {
   "cell_type": "markdown",
   "id": "6446192a-0396-4da2-b3c7-e575eca8cacf",
   "metadata": {},
   "source": [
    "## Resize and Flatten and Ravel Function"
   ]
  },
  {
   "cell_type": "code",
   "execution_count": 72,
   "id": "cc7b6996-0a5d-49b1-aba4-5192577156c7",
   "metadata": {},
   "outputs": [
    {
     "name": "stdout",
     "output_type": "stream",
     "text": [
      "[[6 5 4]\n",
      " [3 2 1]\n",
      " [1 6 4]]\n",
      "[6 5 4 3 2 1 1 6 4]\n",
      "[6 5 4 3 2 1 1 6 4]\n"
     ]
    }
   ],
   "source": [
    "array = np.array([6,5,4,3,2,1,1,6,4])\n",
    "\n",
    "array = np.resize(array, (3,3))\n",
    "print(array)\n",
    "\n",
    "print(array.flatten())\n",
    "print(np.ravel(array))"
   ]
  },
  {
   "cell_type": "markdown",
   "id": "8b4ce52e-8eca-401a-a76e-6441ddd90ae3",
   "metadata": {},
   "source": [
    "## Insert Function\n",
    "- doesnt take float values"
   ]
  },
  {
   "cell_type": "code",
   "execution_count": 90,
   "id": "58b74c47-74ed-4e5b-b582-c0e4cdd7d184",
   "metadata": {},
   "outputs": [
    {
     "name": "stdout",
     "output_type": "stream",
     "text": [
      "[6 5 4 1 2 3 2 1 1 6 4]\n",
      "[6 5 4 1 2 3 2 1 1 6 4]\n"
     ]
    }
   ],
   "source": [
    "array = np.array([6,5,4,3,2,1,1,6,4])\n",
    "\n",
    "# arr1 = np.insert(array, index, value)\n",
    "\n",
    "arr1 = np.insert(array, 3,[1,2])\n",
    "print(arr1)\n",
    "\n",
    "arr2 = np.insert(array, 3,[1,2], axis = 0)\n",
    "print(arr2)"
   ]
  },
  {
   "cell_type": "markdown",
   "id": "353b4a8a-9304-4c36-ab15-a285fa92ed29",
   "metadata": {},
   "source": [
    "## Delete Function"
   ]
  },
  {
   "cell_type": "code",
   "execution_count": 92,
   "id": "a41c2b91-6ef2-4b2f-a062-a07a2a4f8a0c",
   "metadata": {},
   "outputs": [
    {
     "data": {
      "text/plain": [
       "array([6, 5, 3, 2, 1, 1, 6, 4])"
      ]
     },
     "execution_count": 92,
     "metadata": {},
     "output_type": "execute_result"
    }
   ],
   "source": [
    "array = np.array([6,5,4,3,2,1,1,6,4])\n",
    "\n",
    "# np.delete(array, index)\n",
    "np.delete(array, 2)"
   ]
  },
  {
   "cell_type": "code",
   "execution_count": null,
   "id": "d232e806-31a5-491e-ba63-b24b72688b2e",
   "metadata": {},
   "outputs": [],
   "source": []
  }
 ],
 "metadata": {
  "kernelspec": {
   "display_name": "Python 3 (ipykernel)",
   "language": "python",
   "name": "python3"
  },
  "language_info": {
   "codemirror_mode": {
    "name": "ipython",
    "version": 3
   },
   "file_extension": ".py",
   "mimetype": "text/x-python",
   "name": "python",
   "nbconvert_exporter": "python",
   "pygments_lexer": "ipython3",
   "version": "3.11.4"
  }
 },
 "nbformat": 4,
 "nbformat_minor": 5
}
